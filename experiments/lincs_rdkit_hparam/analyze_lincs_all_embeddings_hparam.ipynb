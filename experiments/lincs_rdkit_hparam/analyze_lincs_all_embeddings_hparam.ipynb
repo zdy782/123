{
 "cells": [
  {
   "cell_type": "markdown",
   "metadata": {
    "pycharm": {
     "name": "#%% md\n"
    }
   },
   "source": [
    "# Analyzing the results for `lincs_rdkit_hparam`\n",
    "\n",
    "This is part 2, the results of sweeping the drug-embedding related hyperparameters for all other embeddings"
   ]
  },
  {
   "cell_type": "code",
   "execution_count": null,
   "metadata": {
    "collapsed": false,
    "jupyter": {
     "outputs_hidden": false
    },
    "pycharm": {
     "name": "#%%\n"
    }
   },
   "outputs": [],
   "source": [
    "from pathlib import Path\n",
    "import matplotlib\n",
    "import numpy as np\n",
    "import pandas as pd\n",
    "import seaborn as sns\n",
    "import seml\n",
    "from matplotlib import pyplot as plt\n",
    "from chemCPA.paths  import FIGURE_DIR\n",
    "\n",
    "matplotlib.style.use(\"fivethirtyeight\")\n",
    "matplotlib.style.use(\"seaborn-talk\")\n",
    "matplotlib.rcParams['font.family'] = \"monospace\"\n",
    "plt.rcParams['savefig.facecolor'] = 'white'\n",
    "sns.set_context(\"poster\")\n",
    "pd.set_option('display.max_columns', 100)"
   ]
  },
  {
   "cell_type": "code",
   "execution_count": null,
   "metadata": {
    "collapsed": false,
    "jupyter": {
     "outputs_hidden": false
    },
    "pycharm": {
     "name": "#%%\n"
    }
   },
   "outputs": [],
   "source": [
    "results = seml.get_results(\n",
    "    \"lincs_rdkit_hparam\",\n",
    "    to_data_frame=True,\n",
    "    fields=[\"config\", \"result\", \"seml\", \"config_hash\"],\n",
    "    states=[\"COMPLETED\"],\n",
    "    # filter_dict={\"batch_id\": 6}\n",
    ")"
   ]
  },
  {
   "cell_type": "code",
   "execution_count": null,
   "metadata": {
    "collapsed": false,
    "jupyter": {
     "outputs_hidden": false
    },
    "pycharm": {
     "name": "#%%\n"
    }
   },
   "outputs": [],
   "source": [
    "# filter out the non-relevant rdkit runs\n",
    "results = results[(results[\"config.model.hparams.dim\"] == 32)]\n",
    "results[\"config.model.embedding.model\"].value_counts()"
   ]
  },
  {
   "cell_type": "code",
   "execution_count": null,
   "metadata": {
    "collapsed": false,
    "jupyter": {
     "outputs_hidden": false
    },
    "pycharm": {
     "name": "#%%\n"
    }
   },
   "outputs": [],
   "source": [
    "results.loc[:, [c for c in results.columns if 'disentanglement' in c]]"
   ]
  },
  {
   "cell_type": "code",
   "execution_count": null,
   "metadata": {
    "collapsed": false,
    "jupyter": {
     "outputs_hidden": false
    },
    "pycharm": {
     "name": "#%%\n"
    }
   },
   "outputs": [],
   "source": [
    "good_disentanglement = results['result.perturbation disentanglement'].apply(lambda x: x[0]) < 0.2"
   ]
  },
  {
   "cell_type": "code",
   "execution_count": null,
   "metadata": {},
   "outputs": [],
   "source": [
    "results.loc[good_disentanglement, [c for c in results.columns if 'result' in c]]"
   ]
  },
  {
   "cell_type": "markdown",
   "metadata": {},
   "source": [
    "## Preprocessing the results dataframe"
   ]
  },
  {
   "cell_type": "code",
   "execution_count": null,
   "metadata": {},
   "outputs": [],
   "source": [
    "sweeped_params = [\n",
    "    \"model.hparams.dim\",\n",
    "    \"model.hparams.dropout\",\n",
    "    \"model.hparams.dosers_width\",\n",
    "    \"model.hparams.dosers_depth\",\n",
    "    \"model.hparams.dosers_lr\",\n",
    "    \"model.hparams.dosers_wd\",\n",
    "    \"model.hparams.autoencoder_width\",\n",
    "    \"model.hparams.autoencoder_depth\",\n",
    "    \"model.hparams.autoencoder_lr\",\n",
    "    \"model.hparams.autoencoder_wd\",\n",
    "    \"model.hparams.adversary_width\",\n",
    "    \"model.hparams.adversary_depth\",\n",
    "    \"model.hparams.adversary_lr\",\n",
    "    \"model.hparams.adversary_wd\",\n",
    "    \"model.hparams.adversary_steps\",\n",
    "    \"model.hparams.reg_adversary\",\n",
    "    \"model.hparams.penalty_adversary\",\n",
    "    \"model.hparams.batch_size\",\n",
    "    \"model.hparams.step_size_lr\",\n",
    "    \"model.hparams.embedding_encoder_width\",\n",
    "    \"model.hparams.embedding_encoder_depth\",\n",
    "]"
   ]
  },
  {
   "cell_type": "code",
   "execution_count": null,
   "metadata": {},
   "outputs": [],
   "source": [
    "# percentage of training runs that resulted in NaNs\n",
    "import math\n",
    "\n",
    "nan_results = results[results[\"result.loss_reconstruction\"].apply(lambda x: math.isnan(sum(x)))]\n",
    "results_clean = results[~results[\"result.loss_reconstruction\"].apply(lambda x: math.isnan(sum(x)))].copy()\n",
    "print(len(nan_results) / len(results))"
   ]
  },
  {
   "cell_type": "code",
   "execution_count": null,
   "metadata": {},
   "outputs": [],
   "source": [
    "results_clean[\"config.model.embedding.model\"].value_counts()"
   ]
  },
  {
   "cell_type": "code",
   "execution_count": null,
   "metadata": {},
   "outputs": [],
   "source": [
    "# calculate some stats\n",
    "get_mean = lambda x: np.array(x)[-1, 0]\n",
    "get_mean_de = lambda x: np.array(x)[-1, 1]\n",
    "\n",
    "results_clean[\"result.training_mean\"] = results_clean[\"result.training\"].apply(get_mean)\n",
    "results_clean[\"result.training_mean_de\"] = results_clean[\"result.training\"].apply(get_mean_de)\n",
    "results_clean[\"result.val_mean\"] = results_clean[\"result.test\"].apply(get_mean)\n",
    "results_clean[\"result.val_mean_de\"] = results_clean[\"result.test\"].apply(get_mean_de)\n",
    "results_clean[\"result.test_mean\"] = results_clean[\"result.ood\"].apply(get_mean)\n",
    "results_clean[\"result.test_mean_de\"] = results_clean[\"result.ood\"].apply(get_mean_de)\n",
    "results_clean[\"result.perturbation disentanglement\"] = results_clean[\"result.perturbation disentanglement\"].apply(lambda x: x[0])\n",
    "results_clean[\"result.covariate disentanglement\"] = results_clean[\"result.covariate disentanglement\"].apply(lambda x: x[0][0])\n",
    "\n",
    "\n",
    "results_clean"
   ]
  },
  {
   "cell_type": "markdown",
   "metadata": {},
   "source": [
    "## Look at early stopping"
   ]
  },
  {
   "cell_type": "code",
   "execution_count": null,
   "metadata": {},
   "outputs": [],
   "source": [
    "ax = sns.histplot(data=results_clean[\"result.epoch\"].apply(max), bins=15)\n",
    "ax.set_title(\"Total epochs before final stopping (min 125)\")"
   ]
  },
  {
   "cell_type": "markdown",
   "metadata": {},
   "source": [
    "## Look at $r^2$ reconstruction"
   ]
  },
  {
   "cell_type": "markdown",
   "metadata": {},
   "source": [
    "### DE genes"
   ]
  },
  {
   "cell_type": "code",
   "execution_count": null,
   "metadata": {},
   "outputs": [],
   "source": [
    "rows = 1 \n",
    "cols = 3\n",
    "fig, ax = plt.subplots(rows, cols, figsize=(7*cols, 7*rows), sharex=True)\n",
    "\n",
    "for i, y in enumerate((\"result.training_mean_de\", \"result.val_mean_de\", \"result.test_mean_de\")):\n",
    "    sns.violinplot(data=results_clean, x=\"config.model.embedding.model\", y=y, inner='point' ,ax=ax[i], scale='width')\n",
    "    ax[i].set_ylim([0.39,1])\n",
    "    ax[i].set_xticklabels(ax[i].get_xticklabels(), rotation=45, ha=\"right\")\n",
    "    ax[i].set_xlabel('')\n",
    "    ax[i].set_ylabel(y.split('.')[-1])\n",
    "    plt.tight_layout()"
   ]
  },
  {
   "cell_type": "markdown",
   "metadata": {},
   "source": [
    "### All genes"
   ]
  },
  {
   "cell_type": "code",
   "execution_count": null,
   "metadata": {},
   "outputs": [],
   "source": [
    "rows = 1 \n",
    "cols = 3\n",
    "fig, ax = plt.subplots(rows, cols, figsize=(10*cols, 7*rows), sharex=True)\n",
    "\n",
    "for i, y in enumerate((\"result.training_mean\", \"result.val_mean\", \"result.test_mean\")):\n",
    "    sns.violinplot(data=results_clean, x=\"config.model.embedding.model\", y=y, inner='point' ,ax=ax[i], scale=\"width\")\n",
    "    ax[i].set_ylim([0.82,1])\n",
    "    ax[i].set_xticklabels(ax[i].get_xticklabels(), rotation=75, ha='right')\n",
    "    ax[i].set_xlabel('')\n",
    "    ax[i].set_ylabel(y.split('.')[-1])\n",
    "    plt.tight_layout()"
   ]
  },
  {
   "cell_type": "markdown",
   "metadata": {},
   "source": [
    "## Look at disentanglement scores"
   ]
  },
  {
   "cell_type": "code",
   "execution_count": null,
   "metadata": {},
   "outputs": [],
   "source": [
    "rows = 2 \n",
    "cols = 1\n",
    "fig, ax = plt.subplots(rows, cols, figsize=(10*cols, 7*rows), sharex=True)\n",
    "\n",
    "max_entangle = [0.2, 0.25]\n",
    "for i, y in enumerate([\"result.perturbation disentanglement\", \"result.covariate disentanglement\"]):\n",
    "    sns.violinplot(data=results_clean, x=\"config.model.embedding.model\", y=y, inner='point' ,ax=ax[i])\n",
    "    # ax[i].set_ylim([0,1])\n",
    "    ax[i].set_xticklabels(ax[i].get_xticklabels(), rotation=75, ha='right')\n",
    "    ax[i].axhline(max_entangle[i], color='orange')\n",
    "    ax[i].set_xlabel('')\n",
    "    ax[i].set_ylabel(y.split('.')[-1])\n",
    "plt.tight_layout()"
   ]
  },
  {
   "cell_type": "markdown",
   "metadata": {},
   "source": [
    "## Subselect to disentangled models"
   ]
  },
  {
   "cell_type": "code",
   "execution_count": null,
   "metadata": {},
   "outputs": [],
   "source": [
    "n_top = 5\n",
    "\n",
    "def performance_condition (emb, max_entangle, max_entangle_cov): \n",
    "    cond = (results_clean[\"config.model.embedding.model\"] == emb) \n",
    "    cond = cond & (results_clean[\"result.perturbation disentanglement\"] < max_entangle) \n",
    "    cond = cond & (results_clean[\"result.covariate disentanglement\"] < max_entangle_cov)\n",
    "    return cond \n",
    "\n",
    "best = []\n",
    "top_one = []\n",
    "best_disentangled = []\n",
    "for embedding in list(results_clean[\"config.model.embedding.model\"].unique()):\n",
    "    df = results_clean[performance_condition(embedding, 0.2, 1)]\n",
    "    print(embedding, len(df))\n",
    "    best.append(df.sort_values(by=\"result.val_mean_de\", ascending=False).head(n_top))\n",
    "    top_one.append(df.sort_values(by=\"result.val_mean_de\", ascending=False).head(1))\n",
    "    best_disentangled.append(df.sort_values(by=\"result.covariate disentanglement\", ascending=True).head(n_top))\n",
    "\n",
    "best = pd.concat(best)\n",
    "top_one = pd.concat(top_one)\n",
    "best_disentangled = pd.concat(best_disentangled)"
   ]
  },
  {
   "cell_type": "code",
   "execution_count": null,
   "metadata": {},
   "outputs": [],
   "source": [
    "# All genes, DE genes, disentanglement\n",
    "rows, cols = 2, 2\n",
    "fig, ax = plt.subplots(rows, cols, figsize=(10*cols,6*rows))\n",
    "\n",
    "for i, y in enumerate([\"result.test_mean\", \"result.test_mean_de\", \"result.perturbation disentanglement\", \"result.covariate disentanglement\"]):\n",
    "    sns.violinplot(data=best, x=\"config.model.embedding.model\", y=y, inner='points', ax=ax[i//cols, i%cols], scale='width')\n",
    "    ax[i//cols, i%cols].set_xticklabels(ax[i//cols, i%cols].get_xticklabels(), rotation=75, ha='right')\n",
    "    ax[i//cols, i%cols].set_xlabel('')\n",
    "    ax[i//cols, i%cols].set_ylabel(y.split('.')[-1])\n",
    "ax[0,0].set_ylabel(\"$\\mathbb{E}\\,[R^2]$ on all genes\")\n",
    "ax[0,0].set_ylim([0.89, 0.96])\n",
    "ax[0,1].set_ylabel(\"$\\mathbb{E}\\,[R^2]$ on DE genes\")\n",
    "ax[0,1].set_ylim([0.69, 0.92])\n",
    "ax[1,0].set_ylabel(\"Drug entanglement\")\n",
    "ax[1,0].axhline(0.2,ls=':' ,color='black')\n",
    "ax[1,0].text(6.65, 0.215, 'max entangled', fontsize=15, va='center', ha='center')\n",
    "ax[1,1].set_ylabel(\"Covariate entanglement\")\n",
    "ax[1,1].text(6.65, 0.215, 'max entangled', fontsize=15, va='center', ha='center')\n",
    "ax[1,1].axhline(0.2, ls=':', color='black')\n",
    "plt.tight_layout()\n",
    "\n",
    "plt.savefig(FIGURE_DIR/'lincs_pretraining.eps', format='eps', bbox_inches='tight')"
   ]
  },
  {
   "cell_type": "markdown",
   "metadata": {},
   "source": [
    "Top 3 best disentangled models per embedding type"
   ]
  },
  {
   "cell_type": "code",
   "execution_count": null,
   "metadata": {},
   "outputs": [],
   "source": [
    "# All genes, DE genes, disentanglement\n",
    "rows, cols = 1, 3\n",
    "fig, ax = plt.subplots(rows, cols, figsize=(10*cols,6*rows))\n",
    "\n",
    "for i, y in enumerate([\"result.test_mean\", \"result.test_mean_de\", \"result.perturbation disentanglement\"]):\n",
    "    sns.violinplot(data=best_disentangled, x=\"config.model.embedding.model\", y=y, inner='points', ax=ax[i], scale='width')\n",
    "    ax[i].set_xticklabels(ax[i].get_xticklabels(), rotation=75, ha='right')\n",
    "    ax[i].set_xlabel('')\n",
    "    ax[i].set_ylabel(y.split('.')[-1])\n",
    "\n",
    "plt.tight_layout()"
   ]
  },
  {
   "cell_type": "markdown",
   "metadata": {},
   "source": [
    "Top one performing models"
   ]
  },
  {
   "cell_type": "code",
   "execution_count": null,
   "metadata": {},
   "outputs": [],
   "source": [
    "# All genes, DE genes, disentanglement\n",
    "rows, cols = 1, 3\n",
    "fig, ax = plt.subplots(rows, cols, figsize=(10*cols,6*rows))\n",
    "\n",
    "for i, y in enumerate([\"result.test_mean\", \"result.test_mean_de\", \"result.perturbation disentanglement\"]):\n",
    "    sns.violinplot(data=top_one, x=\"config.model.embedding.model\", y=y, inner='points', ax=ax[i], scale='width')\n",
    "    ax[i].set_xticklabels(ax[i].get_xticklabels(), rotation=75, ha='right')\n",
    "    ax[i].set_xlabel('')\n",
    "    ax[i].set_ylabel(y.split('.')[-1])\n",
    "\n",
    "plt.tight_layout()"
   ]
  },
  {
   "cell_type": "markdown",
   "metadata": {},
   "source": [
    "## Take a deeper look in the `.config` of the best performing models"
   ]
  },
  {
   "cell_type": "code",
   "execution_count": null,
   "metadata": {},
   "outputs": [],
   "source": [
    "top_one['config.model.embedding.model']"
   ]
  },
  {
   "cell_type": "code",
   "execution_count": null,
   "metadata": {},
   "outputs": [],
   "source": [
    "top_one[[\"config.\" + col for col in sweeped_params] + [\"result.perturbation disentanglement\", \"result.test_mean\", \"result.test_mean_de\"]]"
   ]
  },
  {
   "cell_type": "code",
   "execution_count": null,
   "metadata": {},
   "outputs": [],
   "source": [
    "sweeped_cols = np.array([\"config.\" + col for col in sweeped_params])\n",
    "top_one[['config.model.embedding.model'] + list(sweeped_cols[best[sweeped_cols].std() > 1e-5])]"
   ]
  },
  {
   "cell_type": "code",
   "execution_count": null,
   "metadata": {},
   "outputs": [],
   "source": [
    "# -> Middle sized doser width\n",
    "results_clean['config.model.hparams.dosers_width'].value_counts()"
   ]
  },
  {
   "cell_type": "code",
   "execution_count": null,
   "metadata": {},
   "outputs": [],
   "source": [
    "# Check dim\n",
    "results_clean['config.model.hparams.dim'].value_counts()"
   ]
  },
  {
   "cell_type": "code",
   "execution_count": null,
   "metadata": {},
   "outputs": [],
   "source": [
    "# Only GCN was able to improve in {batch_id: 6}\n",
    "top_one[[c for c in results_clean.columns if ('hash' in c) | ('embedding.model' in c)]]"
   ]
  },
  {
   "cell_type": "code",
   "execution_count": null,
   "metadata": {},
   "outputs": [],
   "source": [
    "best[[c for c in results_clean.columns if ('hash' in c) | ('embedding.model' in c)]]"
   ]
  },
  {
   "cell_type": "code",
   "execution_count": null,
   "metadata": {},
   "outputs": [],
   "source": [
    "best[best[\"config.model.embedding.model\"]==\"GCN\"]"
   ]
  },
  {
   "cell_type": "markdown",
   "metadata": {},
   "source": [
    "## Look at correlation between disentanglement and reconstruction"
   ]
  },
  {
   "cell_type": "code",
   "execution_count": null,
   "metadata": {},
   "outputs": [],
   "source": [
    "fig, ax = plt.subplots(figsize=(10,8))\n",
    "\n",
    "# Regression without weave\n",
    "sns.regplot(data=results_clean[results_clean[\"config.model.embedding.model\"] != 'weave'], x='result.perturbation disentanglement', y='result.test_mean_de', ax=ax, scatter=False)\n",
    "\n",
    "sns.scatterplot(data=results_clean, x='result.perturbation disentanglement', y='result.test_mean_de', ax=ax, style=\"config.model.embedding.model\", legend=None, color='grey', alpha=0.6)\n",
    "sns.scatterplot(data=best, x='result.perturbation disentanglement', y='result.test_mean_de', hue=\"config.model.embedding.model\", ax=ax, style=\"config.model.embedding.model\")\n",
    "ax.set_xlim([0,0.44])\n",
    "ax.set_ylim([0.44,0.93])\n",
    "ax.legend(loc='best')"
   ]
  },
  {
   "cell_type": "markdown",
   "metadata": {},
   "source": [
    "## Look at epochs vs. performance"
   ]
  },
  {
   "cell_type": "code",
   "execution_count": null,
   "metadata": {},
   "outputs": [],
   "source": [
    "[c for c in results_clean.columns if 'epochs' in c]"
   ]
  },
  {
   "cell_type": "code",
   "execution_count": null,
   "metadata": {},
   "outputs": [],
   "source": [
    "fig, ax = plt.subplots(figsize=(10,8))\n",
    "sns.scatterplot(data=results_clean, x='result.total_epochs', y='result.test_mean_de', ax=ax, style=\"config.model.embedding.model\", color='grey', alpha=0.7, legend=None)\n",
    "sns.scatterplot(data=best, x='result.total_epochs', y='result.test_mean_de', ax=ax, style=\"config.model.embedding.model\", hue=\"config.model.embedding.model\")"
   ]
  },
  {
   "cell_type": "markdown",
   "metadata": {},
   "source": [
    "_____"
   ]
  },
  {
   "cell_type": "code",
   "execution_count": null,
   "metadata": {},
   "outputs": [],
   "source": [
    "dis_drug = []\n",
    "dis_cov = []\n",
    "r2_all = []\n",
    "r2_degs = []\n",
    "r2_val_all = []\n",
    "r2_val_degs = []\n",
    "model = []\n",
    "\n",
    "for _model, _df in best_disentangled.groupby('config.model.embedding.model'): \n",
    "    if _model not in ['zeros', 'vanilla', 'seq2seq']:\n",
    "        model.append(_model)\n",
    "        dis_drug.append(f'${_df[\"result.perturbation disentanglement\"].mean():.2f} \\pm {_df[\"result.perturbation disentanglement\"].std():.2f}$')\n",
    "        dis_cov.append(f'${_df[\"result.covariate disentanglement\"].mean():.2f} \\pm {_df[\"result.covariate disentanglement\"].std():.2f}$')\n",
    "        r2_all.append(f'${_df[\"result.test_mean\"].mean():.2f} \\pm {_df[\"result.test_mean\"].std():.2f}$')\n",
    "        r2_degs.append(f'${_df[\"result.test_mean_de\"].mean():.2f} \\pm {_df[\"result.test_mean_de\"].std():.2f}$')\n",
    "        #     r2_val_all.append(_df[\"result.val_mean\"].mean())\n",
    "        #     r2_val_degs.append(_df[\"result.val_mean_de\"].mean())\n"
   ]
  },
  {
   "cell_type": "code",
   "execution_count": null,
   "metadata": {},
   "outputs": [],
   "source": [
    "df_dict = {\n",
    "    \"Model\": model, \n",
    "    \"Drug\": dis_drug,\n",
    "    \"Cell line\": dis_cov,\n",
    "    \"Mean $r^2$ all\": r2_all,\n",
    "    \"Mean $r^2$ DEGs\": r2_degs,\n",
    "}\n",
    "\n",
    "df = pd.DataFrame.from_dict(df_dict)\n",
    "df = df.set_index('Model')"
   ]
  },
  {
   "cell_type": "code",
   "execution_count": null,
   "metadata": {},
   "outputs": [],
   "source": [
    "print(df.to_latex())"
   ]
  },
  {
   "cell_type": "code",
   "execution_count": null,
   "metadata": {},
   "outputs": [],
   "source": [
    "dis_drug = []\n",
    "dis_cov = []\n",
    "r2_all = []\n",
    "r2_degs = []\n",
    "r2_val_all = []\n",
    "r2_val_degs = []\n",
    "model = []\n",
    "\n",
    "for _model, _df in best_disentangled.groupby('config.model.embedding.model'): \n",
    "    _df = _df.sort_values('result.val_mean_de', ascending=False).head(1)\n",
    "    if _model not in ['zeros', 'vanilla', 'seq2seq']:\n",
    "        model.append(_model)\n",
    "        dis_drug.append(_df[\"result.perturbation disentanglement\"].mean())\n",
    "        dis_cov.append(_df[\"result.covariate disentanglement\"].mean())\n",
    "        r2_all.append(_df[\"result.test_mean\"].mean())\n",
    "        r2_degs.append(_df[\"result.test_mean_de\"].mean())\n",
    "        r2_val_degs.append(_df[\"result.val_mean_de\"].mean())"
   ]
  },
  {
   "cell_type": "code",
   "execution_count": null,
   "metadata": {},
   "outputs": [],
   "source": [
    "df_dict = {\n",
    "    \"Model\": model, \n",
    "    \"Drug\": dis_drug,\n",
    "    \"Cell line\": dis_cov,\n",
    "    \"Mean $r^2$ all\": r2_all,\n",
    "    \"Mean $r^2$ DEGs\": r2_degs,\n",
    "    \"Mean $r^2$ DEGs [val]\": r2_val_degs,\n",
    "}\n",
    "\n",
    "df = pd.DataFrame.from_dict(df_dict)\n",
    "df = df.set_index('Model')\n",
    "\n",
    "df"
   ]
  },
  {
   "cell_type": "code",
   "execution_count": null,
   "metadata": {},
   "outputs": [],
   "source": [
    "print(df.to_latex(float_format=\"%.2f\"))"
   ]
  },
  {
   "cell_type": "code",
   "execution_count": null,
   "metadata": {},
   "outputs": [],
   "source": [
    "models = [\n",
    "    \"RDKit\",\n",
    "    \"GROVER\",\n",
    "    \"JT-VAE\",\n",
    "    \"GCN\",\n",
    "    \"MPNN\",\n",
    "    \"weave\",\n",
    "]\n",
    "\n",
    "dim = [\n",
    "    200,\n",
    "    3400,\n",
    "    56,\n",
    "    128,\n",
    "    128,\n",
    "    128,\n",
    "]\n",
    "\n",
    "pretrained = [\n",
    "    \"na\",\n",
    "    \"authors\", \n",
    "    \"ZINC, L1000, sci-Plex3\",\n",
    "    \"PCBA\",\n",
    "    \"PCBA\",\n",
    "    \"PCBA\",\n",
    "]\n",
    "\n",
    "df_dict = {\n",
    "    \"Molecule encoder $G$\": models, \n",
    "    \"Embedding dim of $h_\\text{drug}$\": dim,\n",
    "    \"Pretrained\": pretrained,\n",
    "}\n",
    "\n",
    "df = pd.DataFrame.from_dict(df_dict)\n",
    "df = df.set_index('Molecule encoder $G$')\n",
    "\n",
    "df"
   ]
  },
  {
   "cell_type": "code",
   "execution_count": null,
   "metadata": {},
   "outputs": [],
   "source": [
    "print(df.to_latex(float_format=\"%.2f\"))"
   ]
  },
  {
   "cell_type": "code",
   "execution_count": null,
   "metadata": {},
   "outputs": [],
   "source": []
  }
 ],
 "metadata": {
  "kernelspec": {
   "display_name": "Python 3",
   "language": "python",
   "name": "python3"
  },
  "language_info": {
   "codemirror_mode": {
    "name": "ipython",
    "version": 3
   },
   "file_extension": ".py",
   "mimetype": "text/x-python",
   "name": "python",
   "nbconvert_exporter": "python",
   "pygments_lexer": "ipython3",
   "version": "3.8.8"
  }
 },
 "nbformat": 4,
 "nbformat_minor": 4
}

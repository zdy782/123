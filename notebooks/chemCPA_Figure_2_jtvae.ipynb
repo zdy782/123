{
 "cells": [
  {
   "cell_type": "markdown",
   "id": "b4b9abe1-7c63-45a9-8d8c-712c9cc13b4a",
   "metadata": {},
   "source": [
    "**Requirements:**\n",
    "* Trained models\n",
    "* JT-VAE: \n",
    "     * fine-tuned:      `'915345a522c29fa709b995d6149083b9'` \n",
    "     * non-pretrained: `'934c89b742a6309ad6bb2e1cf90c5e50'`\n",
    "\n",
    "Here everything is in setting 1 (identical gene sets)  \n",
    "\n",
    "**Outputs:**\n",
    "* **Figure 2 for JT-VAE** \n",
    "* Figure 5 with DEGs for JT-VAE\n",
    "* Supplement Figures 11 for JT-VAE\n",
    "___\n",
    "# Imports"
   ]
  },
  {
   "cell_type": "code",
   "execution_count": null,
   "id": "6217c023-0014-4dfd-a736-6b0aa9df3380",
   "metadata": {},
   "outputs": [],
   "source": [
    "import matplotlib\n",
    "import umap.plot\n",
    "import matplotlib.pyplot as plt\n",
    "import numpy as np\n",
    "import pandas as pd\n",
    "import scanpy as sc\n",
    "import seaborn as sns\n",
    "\n",
    "from utils import load_config, load_dataset, load_smiles, load_model, compute_drug_embeddings, compute_pred, compute_pred_ctrl\n",
    "from chemCPA.data import load_dataset_splits\n",
    "\n",
    "from chemCPA.paths import FIGURE_DIR, ROOT"
   ]
  },
  {
   "cell_type": "code",
   "execution_count": null,
   "id": "fe5b1772-5fca-4cfa-8d3d-bd45579ac70e",
   "metadata": {},
   "outputs": [],
   "source": [
    "BLACK = False\n",
    "\n",
    "if BLACK: \n",
    "    plt.style.use('dark_background')\n",
    "else: \n",
    "    matplotlib.style.use(\"fivethirtyeight\")\n",
    "    matplotlib.style.use(\"seaborn-talk\")\n",
    "    matplotlib.pyplot.rcParams['savefig.facecolor'] = 'white'\n",
    "    sns.set_style(\"whitegrid\")\n",
    "\n",
    "matplotlib.rcParams['font.family'] = \"monospace\"\n",
    "matplotlib.rcParams['figure.dpi'] = 300\n",
    "sns.set_context(\"poster\")"
   ]
  },
  {
   "cell_type": "code",
   "execution_count": null,
   "id": "102b63b1-cf84-42c3-a125-280fbff92005",
   "metadata": {},
   "outputs": [],
   "source": [
    "%load_ext autoreload\n",
    "%autoreload 2"
   ]
  },
  {
   "cell_type": "markdown",
   "id": "95487d87-d49f-4e4f-bcd9-4dc008befd61",
   "metadata": {},
   "source": [
    "# Load model configs and dataset\n",
    "* Define `seml_collection` and `model_hash` to load data and model"
   ]
  },
  {
   "cell_type": "code",
   "execution_count": null,
   "id": "3673bb0e-b7ab-4425-a161-bfe1e20148fd",
   "metadata": {},
   "outputs": [],
   "source": [
    "seml_collection = \"multi_task\"\n",
    "\n",
    "# # JT-VAE\n",
    "model_hash_pretrained = \"915345a522c29fa709b995d6149083b9\" # Fine-tuned\n",
    "model_hash_scratch = \"934c89b742a6309ad6bb2e1cf90c5e50\" # Non-pretrained"
   ]
  },
  {
   "cell_type": "markdown",
   "id": "1ddda4a9-7f7d-4eae-b543-80087a5888e0",
   "metadata": {},
   "source": [
    "## Load config and SMILES"
   ]
  },
  {
   "cell_type": "code",
   "execution_count": null,
   "id": "b24e760f-7d62-42b3-bb64-9a2b125622fb",
   "metadata": {},
   "outputs": [],
   "source": [
    "config = load_config(seml_collection, model_hash_pretrained)\n",
    "\n",
    "config[\"dataset\"][\"data_params\"][\"dataset_path\"] = ROOT / config[\"dataset\"][\"data_params\"][\"dataset_path\"]\n",
    "\n",
    "dataset, key_dict = load_dataset(config)\n",
    "config['dataset']['n_vars'] = dataset.n_vars"
   ]
  },
  {
   "cell_type": "code",
   "execution_count": null,
   "id": "fbc51c43-7f1e-4e28-b4c3-871cf2ca6596",
   "metadata": {},
   "outputs": [],
   "source": [
    "canon_smiles_unique_sorted, smiles_to_pathway_map, smiles_to_drug_map = load_smiles(config, dataset, key_dict, True)"
   ]
  },
  {
   "cell_type": "markdown",
   "id": "afadadaa-cce1-4ec0-8637-64ee7ff529ec",
   "metadata": {},
   "source": [
    "Get list of drugs that are ood in `ood_drugs`"
   ]
  },
  {
   "cell_type": "code",
   "execution_count": null,
   "id": "1e0580fc-9cdf-4202-9078-7ceaaf510519",
   "metadata": {},
   "outputs": [],
   "source": [
    "ood_drugs = dataset.obs.condition[dataset.obs[config[\"dataset\"][\"data_params\"][\"split_key\"]].isin(['ood'])].unique().to_list()"
   ]
  },
  {
   "cell_type": "markdown",
   "id": "07fb3703-5e1c-4e66-b146-50dc44b0b470",
   "metadata": {},
   "source": [
    "## Load dataset splits"
   ]
  },
  {
   "cell_type": "code",
   "execution_count": null,
   "id": "44664d2c-e615-4d43-a69d-33ae5a74ac7e",
   "metadata": {},
   "outputs": [],
   "source": [
    "config['dataset']['data_params']"
   ]
  },
  {
   "cell_type": "code",
   "execution_count": null,
   "id": "eb6ce86c-6ecb-4165-9f60-a17617503770",
   "metadata": {},
   "outputs": [],
   "source": [
    "data_params = config['dataset']['data_params']\n",
    "datasets = load_dataset_splits(**data_params, return_dataset=False)"
   ]
  },
  {
   "cell_type": "markdown",
   "id": "0c70932f-71c8-47c2-9770-9dbaa044b62a",
   "metadata": {},
   "source": [
    "___\n",
    "# Run models \n",
    "## Baseline model"
   ]
  },
  {
   "cell_type": "code",
   "execution_count": null,
   "id": "399a590b-1781-4506-b7cf-77c0e5808c4e",
   "metadata": {},
   "outputs": [],
   "source": [
    "dosages = [1e1,1e2,1e3,1e4]\n",
    "cell_lines = [\"A549\", \"K562\", \"MCF7\"]\n",
    "use_DEGs = True"
   ]
  },
  {
   "cell_type": "code",
   "execution_count": null,
   "id": "2a9ccd51-eaa2-4cbe-a409-974708d389b7",
   "metadata": {},
   "outputs": [],
   "source": [
    "drug_r2_baseline_degs, _ = compute_pred_ctrl(dataset=datasets['ood'],\n",
    "                                        dataset_ctrl=datasets['test_control'],\n",
    "                                        dosages=dosages,\n",
    "                                        cell_lines=cell_lines,\n",
    "                                        use_DEGs=True,\n",
    "                                        verbose=False,\n",
    "                                       )\n",
    "\n",
    "drug_r2_baseline_all, _ = compute_pred_ctrl(dataset=datasets['ood'],\n",
    "                                        dataset_ctrl=datasets['test_control'],\n",
    "                                        dosages=dosages,\n",
    "                                        cell_lines=cell_lines,\n",
    "                                        use_DEGs=False,\n",
    "                                        verbose=False,\n",
    "                                       )"
   ]
  },
  {
   "cell_type": "markdown",
   "id": "bd451e96-bd67-44b0-946e-166e71d006a5",
   "metadata": {},
   "source": [
    "## Pretrained model"
   ]
  },
  {
   "cell_type": "code",
   "execution_count": null,
   "id": "d225bca7-f563-4c82-ad53-9889aeb6176d",
   "metadata": {},
   "outputs": [],
   "source": [
    "ood_drugs"
   ]
  },
  {
   "cell_type": "code",
   "execution_count": null,
   "id": "886d036b-23f6-4b23-84cc-197735881f3d",
   "metadata": {},
   "outputs": [],
   "source": [
    "config = load_config(seml_collection, model_hash_pretrained)\n",
    "\n",
    "config['dataset']['n_vars'] = dataset.n_vars\n",
    "config[\"model\"][\"embedding\"][\"directory\"] = ROOT / config[\"model\"][\"embedding\"][\"directory\"]\n",
    "\n",
    "model_pretrained, embedding_pretrained = load_model(config, canon_smiles_unique_sorted)"
   ]
  },
  {
   "cell_type": "code",
   "execution_count": null,
   "id": "8db01530-d598-4a91-a2b0-f1b2c444e48c",
   "metadata": {},
   "outputs": [],
   "source": [
    "drug_r2_pretrained_degs, _ = compute_pred(model_pretrained, \n",
    "                                     datasets['ood'], \n",
    "                                     genes_control=datasets['test_control'].genes, \n",
    "                                     dosages=dosages,\n",
    "                                     cell_lines=cell_lines,\n",
    "                                     use_DEGs=True,\n",
    "                                     verbose=False,\n",
    "                                    )\n",
    "\n",
    "drug_r2_pretrained_all, _ = compute_pred(model_pretrained, \n",
    "                                     datasets['ood'], \n",
    "                                     genes_control=datasets['test_control'].genes, \n",
    "                                     dosages=dosages,\n",
    "                                     cell_lines=cell_lines,\n",
    "                                     use_DEGs=False,\n",
    "                                     verbose=False,\n",
    "                                    )"
   ]
  },
  {
   "cell_type": "markdown",
   "id": "95edee6a-44f8-4225-89c7-0102a656d1b4",
   "metadata": {},
   "source": [
    "## Non-pretrained model"
   ]
  },
  {
   "cell_type": "code",
   "execution_count": null,
   "id": "59afd9cd-74f0-468d-8a90-a115e22af6b1",
   "metadata": {},
   "outputs": [],
   "source": [
    "config = load_config(seml_collection, model_hash_scratch)\n",
    "\n",
    "config['dataset']['n_vars'] = dataset.n_vars\n",
    "config[\"model\"][\"embedding\"][\"directory\"] = ROOT / config[\"model\"][\"embedding\"][\"directory\"]\n",
    "\n",
    "model_scratch, embedding_scratch = load_model(config, canon_smiles_unique_sorted)"
   ]
  },
  {
   "cell_type": "code",
   "execution_count": null,
   "id": "7ab2c27d-1044-4c30-b1fd-ab63ada6423b",
   "metadata": {},
   "outputs": [],
   "source": [
    "drug_r2_scratch_degs, _ = compute_pred(model_scratch,\n",
    "                                  datasets['ood'],\n",
    "                                  genes_control=datasets['test_control'].genes, \n",
    "                                  dosages=dosages,\n",
    "                                  cell_lines=cell_lines,\n",
    "                                  use_DEGs=True,\n",
    "                                  verbose=False,\n",
    "                                 ) # non-pretrained\n",
    "\n",
    "drug_r2_scratch_all, _ = compute_pred(model_scratch,\n",
    "                                  datasets['ood'],\n",
    "                                  genes_control=datasets['test_control'].genes, \n",
    "                                  dosages=dosages,\n",
    "                                  cell_lines=cell_lines,\n",
    "                                  use_DEGs=False,\n",
    "                                  verbose=False,\n",
    "                                 ) # non-pretrained"
   ]
  },
  {
   "cell_type": "markdown",
   "id": "14e9abaf-08a7-415d-b5f0-93eb29c99220",
   "metadata": {},
   "source": [
    "# Combine results and create dataframe"
   ]
  },
  {
   "cell_type": "code",
   "execution_count": null,
   "id": "8d416bfb-e4ea-4322-a054-2d19b63baa24",
   "metadata": {},
   "outputs": [],
   "source": [
    "def create_df(drug_r2_baseline, drug_r2_pretrained, drug_r2_scratch):\n",
    "    df_baseline = pd.DataFrame.from_dict(drug_r2_baseline, orient='index', columns=['r2_de'])\n",
    "    df_baseline['type'] = 'baseline'\n",
    "    df_pretrained = pd.DataFrame.from_dict(drug_r2_pretrained, orient='index', columns=['r2_de'])\n",
    "    df_pretrained['type'] = 'pretrained'\n",
    "    df_scratch = pd.DataFrame.from_dict(drug_r2_scratch, orient='index', columns=['r2_de'])\n",
    "    df_scratch['type'] = 'non-pretrained'\n",
    "\n",
    "    df = pd.concat([df_pretrained, df_scratch, df_baseline])\n",
    "\n",
    "    df['r2_de'] = df['r2_de'].apply(lambda x: max(x,0))\n",
    "    df['cell_line'] = pd.Series(df.index.values).apply(lambda x: x.split('_')[0]).values\n",
    "    df['drug'] = pd.Series(df.index.values).apply(lambda x: x.split('_')[1]).values\n",
    "    df['dose'] = pd.Series(df.index.values).apply(lambda x: x.split('_')[2]).values\n",
    "    df['dose'] = df['dose'].astype(float)\n",
    "\n",
    "    df['combination'] = df.index.values\n",
    "    assert (df[df.type=='pretrained'].combination == df[df.type=='non-pretrained'].combination).all()\n",
    "\n",
    "    delta = (df[df.type=='pretrained'].r2_de - df[df.type=='non-pretrained'].r2_de).values \n",
    "    df['delta'] = list(delta) + list(-delta) + [0]*len(delta)\n",
    "\n",
    "    df = df.reset_index()\n",
    "    return df"
   ]
  },
  {
   "cell_type": "code",
   "execution_count": null,
   "id": "57307e04-ce08-4a2b-8ed6-df61d397461b",
   "metadata": {},
   "outputs": [],
   "source": [
    "df_degs = create_df(drug_r2_baseline_degs, drug_r2_pretrained_degs, drug_r2_scratch_degs)\n",
    "df_all = create_df(drug_r2_baseline_all, drug_r2_pretrained_all, drug_r2_scratch_all)"
   ]
  },
  {
   "cell_type": "markdown",
   "id": "570335a9-f5bb-4d8c-b929-6ce119d43c16",
   "metadata": {},
   "source": [
    "# Plot Figure 2 with JT-VAE"
   ]
  },
  {
   "cell_type": "code",
   "execution_count": null,
   "id": "7ca6b5fc-73ea-4856-bc72-3129e86d06f3",
   "metadata": {},
   "outputs": [],
   "source": [
    "SAVEFIG = True"
   ]
  },
  {
   "cell_type": "code",
   "execution_count": null,
   "id": "e1605a29-7100-4835-9eeb-386dd5fb75c5",
   "metadata": {},
   "outputs": [],
   "source": [
    "fig, ax = plt.subplots(1,2,figsize=(21, 6))\n",
    "\n",
    "PROPS = {\n",
    "    'boxprops':{'edgecolor':'white'},\n",
    "    'medianprops':{'color':'white'},\n",
    "    'whiskerprops':{'color':'white'},\n",
    "    'capprops':{'color':'white'}, \n",
    "    'flierprops': {'markerfacecolor': 'lightgrey', \"markeredgecolor\": \"lightgrey\"}\n",
    "}\n",
    "\n",
    "if BLACK: \n",
    "    sns.boxplot(data=df_all, x='dose', y='r2_de', hue='type', whis=1.5, ax=ax[0], palette='tab10', **PROPS) # [(df.r2_de > 0) & (df.delta != 0)]\n",
    "    sns.boxplot(data=df_degs, x='dose', y='r2_de', hue='type', whis=1.5, ax=ax[1], palette='tab10', **PROPS) # [(df.r2_de > 0) & (df.delta != 0)]\n",
    "else:\n",
    "    sns.boxplot(data=df_all, x='dose', y='r2_de', hue='type', whis=1.5, ax=ax[0])\n",
    "    sns.boxplot(data=df_degs, x='dose', y='r2_de', hue='type', whis=1.5, ax=ax[1])\n",
    "\n",
    "for j,axis in enumerate(ax):\n",
    "    x_labels = axis.get_xticklabels()\n",
    "    dose_labels = ['0.01', \"0.1\", '1', '10']\n",
    "    [label.set_text(dose_labels[i]) for i,label in enumerate(x_labels)]\n",
    "    axis.set_xticklabels(x_labels)\n",
    "    axis.set_ylabel(\"$E[r^2]$ on DEGs\") if j==1 else None\n",
    "    axis.set_ylabel(\"$E[r^2]$ on all genes\") if j==0 else None\n",
    "    axis.set_xlabel(\"Dosage in $\\mu$M\") \n",
    "    axis.grid('.', color='darkgrey', axis='y')\n",
    "\n",
    "ax[0].legend().remove()\n",
    "ax[1].legend(title='Model type', fontsize=18, title_fontsize=24, loc=\"upper left\", bbox_to_anchor=(1, 1))\n",
    "\n",
    "plt.tight_layout()\n",
    "\n",
    "if SAVEFIG:\n",
    "    if BLACK:\n",
    "        plt.savefig(FIGURE_DIR/'JTVAE_shared_gene_set_black.pdf', format='pdf') # BLACK:\n",
    "    else:\n",
    "        plt.savefig(FIGURE_DIR/'JTVAE_shared_gene_set.pdf', format='pdf') # WHITE\n"
   ]
  },
  {
   "cell_type": "markdown",
   "id": "8d257733-e80b-4d96-ab4f-e20ecc5ecd1a",
   "metadata": {},
   "source": [
    "____"
   ]
  },
  {
   "cell_type": "markdown",
   "id": "3c1f05d6-5916-4969-ae13-34db7a75aa19",
   "metadata": {},
   "source": [
    "# Additional: Supplement Figure 11 and Figure 5"
   ]
  },
  {
   "cell_type": "code",
   "execution_count": null,
   "id": "15416004-e844-4c39-a253-958a40d97bd6",
   "metadata": {},
   "outputs": [],
   "source": [
    "ood_drugs"
   ]
  },
  {
   "cell_type": "markdown",
   "id": "5f54ebc5-fe13-4f09-9d7a-7af35b9a7b74",
   "metadata": {},
   "source": [
    "## Supplement Figure 11 for JT-VAE\n",
    "**Parameters**\n",
    "* DEGs\n",
    "* Shared genes"
   ]
  },
  {
   "cell_type": "code",
   "execution_count": null,
   "id": "83015549-9a52-41a5-9d8a-65efe98c23c8",
   "metadata": {},
   "outputs": [],
   "source": [
    "df = df_degs.copy()\n",
    "df.dose = df.dose*10\n",
    "\n",
    "rows, cols = 3,3\n",
    "fig, ax = plt.subplots(rows, cols, figsize=(8*cols, 4.5*rows))\n",
    "\n",
    "\n",
    "for i, drug in enumerate(ood_drugs):\n",
    "    axis = ax[i//cols, i%cols]\n",
    "    sns.lineplot(x=\"dose\", y=\"r2_de\", data=df[(df.drug==drug)], hue=\"type\", ax=axis, palette='tab10' if BLACK else None) # & (df.type!=\"baseline\") & (df.cell_line ==cell_line)\n",
    "    axis.set_title(drug)\n",
    "#     ax[i].set()\n",
    "    axis.set_ylim([0,1])\n",
    "    axis.legend().remove()\n",
    "    axis.set_ylabel(\"$E[r^2]$ on DEGs\") \n",
    "    axis.set_ylabel(\"$E[r^2]$ on DEGs\") \n",
    "    axis.set_xlabel(\"Dosage in $\\mu$M\") \n",
    "    axis.set_xscale(\"log\")\n",
    "\n",
    "ax[0,2].legend(title='Model type', fontsize=18, title_fontsize=24, loc=\"lower left\", bbox_to_anchor=(1, 0.2))\n",
    "\n",
    "plt.tight_layout()\n",
    "\n",
    "\n",
    "if SAVEFIG:\n",
    "    if BLACK:\n",
    "        plt.savefig(FIGURE_DIR/'all_drug_examples_jtvae_shared_degs_black.png', format='png')\n",
    "    else:\n",
    "        plt.savefig(FIGURE_DIR/'all_drug_examples_jtvae_shared_degs.png', format='png')\n"
   ]
  },
  {
   "cell_type": "markdown",
   "id": "8d3f4f5b-960e-4bf6-83ed-0f26941348f2",
   "metadata": {},
   "source": [
    "## Figure 5 for JT-VAE (DEGs)"
   ]
  },
  {
   "cell_type": "code",
   "execution_count": null,
   "id": "b3750cc6-b183-4558-bb30-dd5205142104",
   "metadata": {},
   "outputs": [],
   "source": [
    "df = df_degs.copy()\n",
    "df.dose = df.dose*10\n",
    "\n",
    "STACKED = False\n",
    "\n",
    "if STACKED:\n",
    "    # Portrait\n",
    "    fig, ax = plt.subplots(2, 1, figsize=(8, 10), sharex=True)\n",
    "else:\n",
    "    # Landscape\n",
    "    fig, ax = plt.subplots(1, 2, figsize=(16, 5), sharey=True)\n",
    "\n",
    "for i, drug in enumerate([\"Dacinostat\", \"Hesperadin\"]):\n",
    "    sns.lineplot(x=\"dose\", y=\"r2_de\", data=df[(df.drug==drug)], hue=\"type\", ax=ax[i], palette='tab10' if BLACK else None) # & (df.type!=\"baseline\") & (df.cell_line ==cell_line)\n",
    "    ax[i].set_title(drug)\n",
    "#     ax[i].set()\n",
    "    ax[i].set_ylim([0,1])\n",
    "    ax[i].legend(title='Model type', fontsize=18, title_fontsize=24, loc=\"lower left\") #, bbox_to_anchor=(1, 1)\n",
    "    ax[i].grid('.', color='darkgrey')\n",
    "\n",
    "ax[0].set_ylabel(\"$E[r^2]$ on DEGs\") \n",
    "ax[1].set_ylabel(\"$E[r^2]$ on DEGs\") \n",
    "ax[1].set_xlabel(\"Dosage in $\\mu$M\") \n",
    "ax[0].set_xlabel(\"Dosage in $\\mu$M\") \n",
    "ax[0].legend().remove()\n",
    "ax[0].set_xscale(\"log\")\n",
    "ax[1].set_xscale(\"log\")\n",
    "plt.tight_layout()\n",
    "\n",
    "if SAVEFIG:\n",
    "    if BLACK:\n",
    "        plt.savefig(FIGURE_DIR/'drug_examples_jtvae_shared_degs_black.png', format='png') # BLACK\n",
    "    else:\n",
    "        plt.savefig(FIGURE_DIR/'drug_examples_jtvae_shared_degs.png', format='png')"
   ]
  },
  {
   "cell_type": "markdown",
   "id": "efee0087-d4d6-4e79-8028-bd12400987da",
   "metadata": {},
   "source": [
    "___"
   ]
  },
  {
   "cell_type": "code",
   "execution_count": null,
   "id": "53e76542-8574-40ba-bdc6-b13a029e6adf",
   "metadata": {},
   "outputs": [],
   "source": []
  }
 ],
 "metadata": {
  "kernelspec": {
   "display_name": "chemCPA",
   "language": "python",
   "name": "chemcpa"
  },
  "language_info": {
   "codemirror_mode": {
    "name": "ipython",
    "version": 3
   },
   "file_extension": ".py",
   "mimetype": "text/x-python",
   "name": "python",
   "nbconvert_exporter": "python",
   "pygments_lexer": "ipython3",
   "version": "3.7.12"
  }
 },
 "nbformat": 4,
 "nbformat_minor": 5
}

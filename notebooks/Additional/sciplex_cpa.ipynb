{
 "cells": [
  {
   "cell_type": "code",
   "execution_count": 1,
   "metadata": {},
   "outputs": [],
   "source": [
    "import json\n",
    "\n",
    "import matplotlib\n",
    "import matplotlib.pyplot as plt\n",
    "import numpy as np\n",
    "import pandas as pd\n",
    "import scanpy as sc\n",
    "import seaborn as sns\n",
    "import umap.plot\n",
    "from anndata import AnnData\n",
    "from sklearn.manifold import TSNE\n",
    "from sklearn.preprocessing import StandardScaler\n",
    "from tqdm.auto import tqdm\n",
    "from utils import (\n",
    "    compute_drug_embeddings,\n",
    "    compute_pred,\n",
    "    compute_pred_ctrl,\n",
    "    # load_config,\n",
    "    load_dataset,\n",
    "    load_model,\n",
    "    load_smiles,\n",
    ")\n",
    "\n",
    "from chemCPA.data import load_dataset_splits\n",
    "from chemCPA.paths import FIGURE_DIR, PROJECT_DIR, ROOT, DATA_DIR"
   ]
  },
  {
   "cell_type": "code",
   "execution_count": 2,
   "metadata": {},
   "outputs": [
    {
     "name": "stdout",
     "output_type": "stream",
     "text": [
      "The autoreload extension is already loaded. To reload it, use:\n",
      "  %reload_ext autoreload\n"
     ]
    }
   ],
   "source": [
    "%load_ext lab_black\n",
    "%load_ext autoreload\n",
    "%autoreload 2"
   ]
  },
  {
   "cell_type": "code",
   "execution_count": 3,
   "metadata": {},
   "outputs": [],
   "source": [
    "BLACK = False\n",
    "SAVEFIG = False"
   ]
  },
  {
   "cell_type": "code",
   "execution_count": 4,
   "metadata": {},
   "outputs": [],
   "source": [
    "if BLACK:\n",
    "    plt.style.use(\"dark_background\")\n",
    "else:\n",
    "    matplotlib.style.use(\"fivethirtyeight\")\n",
    "    matplotlib.style.use(\"seaborn-talk\")\n",
    "    matplotlib.pyplot.rcParams[\"savefig.facecolor\"] = \"white\"\n",
    "    sns.set_style(\"whitegrid\")\n",
    "\n",
    "matplotlib.rcParams[\"font.family\"] = \"monospace\"\n",
    "matplotlib.rcParams[\"figure.dpi\"] = 300\n",
    "sns.set_context(\"poster\")"
   ]
  },
  {
   "cell_type": "code",
   "execution_count": 5,
   "metadata": {},
   "outputs": [],
   "source": [
    "seml_collection = \"baseline_comparison\"\n",
    "\n",
    "cpa_A549 = \"044c4dba0c8719985c3622834f2cbd58\"\n",
    "cpa_K562 = \"5ea85d5dd7abd5962d1d3eeff1b8c1ff\"\n",
    "cpa_MCF7 = \"4d98e7d857f497d870e19c6d12175aaa\"\n",
    "\n",
    "chemCPA_A549_pretrained = \"3326f900c45faaf99ca4400f78c58847\"\n",
    "chemCPA_A549 = \"8779ff45830000c6bc8e22023bb1cb2c\"\n",
    "\n",
    "chemCPA_K562_pretrained = \"6388fa373386c11e40dceb5e2e8a113d\"\n",
    "chemCPA_K562 = \"34fd06018d6e2662ccd5da7a16b57334\"\n",
    "\n",
    "chemCPA_MCF7_pretrained = \"2075a457bafdca5948ab671b77757974\"\n",
    "chemCPA_MCF7 = \"6ad52ba3939397521c5050ca1dd89a4c\""
   ]
  },
  {
   "cell_type": "code",
   "execution_count": 6,
   "metadata": {},
   "outputs": [],
   "source": [
    "def load_config(seml_collection, model_hash):\n",
    "    file_path = PROJECT_DIR / f\"{seml_collection}.json\"  # Provide path to json\n",
    "\n",
    "    with open(file_path) as f:\n",
    "        file_data = json.load(f)\n",
    "\n",
    "    for _config in tqdm(file_data):\n",
    "        if _config[\"config_hash\"] == model_hash:\n",
    "            # print(config)\n",
    "            config = _config[\"config\"]\n",
    "            config[\"config_hash\"] = _config[\"config_hash\"]\n",
    "    return config"
   ]
  },
  {
   "cell_type": "code",
   "execution_count": 7,
   "metadata": {},
   "outputs": [
    {
     "data": {
      "application/vnd.jupyter.widget-view+json": {
       "model_id": "f4239ba72eae480fbdfa24a90d170b9c",
       "version_major": 2,
       "version_minor": 0
      },
      "text/plain": [
       "  0%|          | 0/9 [00:00<?, ?it/s]"
      ]
     },
     "metadata": {},
     "output_type": "display_data"
    }
   ],
   "source": [
    "config = load_config(seml_collection, chemCPA_MCF7_pretrained)\n",
    "\n",
    "config[\"dataset\"][\"data_params\"][\"dataset_path\"] = (\n",
    "    ROOT / config[\"dataset\"][\"data_params\"][\"dataset_path\"]\n",
    ")\n",
    "config[\"model\"][\"embedding\"][\"directory\"] = (\n",
    "    ROOT / config[\"model\"][\"embedding\"][\"directory\"]\n",
    ")\n",
    "\n",
    "dataset, key_dict = load_dataset(config)\n",
    "\n",
    "config[\"dataset\"][\"n_vars\"] = dataset.n_vars\n",
    "\n",
    "canon_smiles_unique_sorted, smiles_to_pathway_map, smiles_to_drug_map = load_smiles(\n",
    "    config, dataset, key_dict, True\n",
    ")\n",
    "model_pretrained, embedding_pretrained = load_model(config, canon_smiles_unique_sorted)"
   ]
  },
  {
   "cell_type": "code",
   "execution_count": 8,
   "metadata": {},
   "outputs": [],
   "source": [
    "data_params = config[\"dataset\"][\"data_params\"]\n",
    "datasets = load_dataset_splits(**data_params, return_dataset=False)"
   ]
  },
  {
   "cell_type": "code",
   "execution_count": 9,
   "metadata": {},
   "outputs": [],
   "source": [
    "dosages = [1e1, 1e2, 1e3, 1e4]\n",
    "cell_lines = [\"A549\", \"K562\", \"MCF7\"]\n",
    "use_DEGs = True"
   ]
  },
  {
   "cell_type": "code",
   "execution_count": 78,
   "metadata": {},
   "outputs": [],
   "source": [
    "def get_baseline_predictions(\n",
    "    hash,\n",
    "    seml_collection=\"baseline_comparison\",\n",
    "    smiles=None,\n",
    "    dosages=[1e1, 1e2, 1e3, 1e4],\n",
    "    cell_lines=[\"A549\", \"K562\", \"MCF7\"],\n",
    "    use_DEGs=False,\n",
    "    verbose=False,\n",
    "    name_tag=None,\n",
    "):\n",
    "    if smiles is None:\n",
    "        smiles = canon_smiles_unique_sorted\n",
    "\n",
    "    config = load_config(seml_collection, hash)\n",
    "    config[\"dataset\"][\"n_vars\"] = dataset.n_vars\n",
    "    config[\"dataset\"][\"data_params\"][\"dataset_path\"] = (\n",
    "        ROOT / config[\"dataset\"][\"data_params\"][\"dataset_path\"]\n",
    "    )\n",
    "    config[\"model\"][\"embedding\"][\"directory\"] = (\n",
    "        ROOT / config[\"model\"][\"embedding\"][\"directory\"]\n",
    "    )\n",
    "    data_params = config[\"dataset\"][\"data_params\"]\n",
    "    datasets = load_dataset_splits(**data_params, return_dataset=False)\n",
    "\n",
    "    predictions, _ = compute_pred_ctrl(\n",
    "        datasets[\"ood\"],\n",
    "        dataset_ctrl=datasets[\"test_control\"],\n",
    "        # dataset_ctrl=datasets[\"training_control\"],\n",
    "        dosages=dosages,\n",
    "        cell_lines=cell_lines,\n",
    "        use_DEGs=use_DEGs,\n",
    "        verbose=verbose,\n",
    "    )\n",
    "\n",
    "    predictions = pd.DataFrame.from_dict(predictions, orient=\"index\", columns=[\"R2\"])\n",
    "    if name_tag:\n",
    "        predictions[\"model\"] = name_tag\n",
    "    predictions[\"genes\"] = \"degs\" if use_DEGs else \"all\"\n",
    "    return predictions"
   ]
  },
  {
   "cell_type": "code",
   "execution_count": 79,
   "metadata": {},
   "outputs": [],
   "source": [
    "seml_collection = \"baseline_comparison\"\n",
    "\n",
    "base_hash_dict = dict(\n",
    "    baseline_A549=\"044c4dba0c8719985c3622834f2cbd58\",\n",
    "    baseline_K562=\"5ea85d5dd7abd5962d1d3eeff1b8c1ff\",\n",
    "    baseline_MCF7=\"4d98e7d857f497d870e19c6d12175aaa\",\n",
    ")"
   ]
  },
  {
   "cell_type": "code",
   "execution_count": 80,
   "metadata": {},
   "outputs": [
    {
     "data": {
      "application/vnd.jupyter.widget-view+json": {
       "model_id": "0301c9a79eb2429f8585135d7b2cfff4",
       "version_major": 2,
       "version_minor": 0
      },
      "text/plain": [
       "  0%|          | 0/9 [00:00<?, ?it/s]"
      ]
     },
     "metadata": {},
     "output_type": "display_data"
    },
    {
     "name": "stdout",
     "output_type": "stream",
     "text": [
      "['A549', 'K562', 'MCF7']\n"
     ]
    },
    {
     "data": {
      "application/vnd.jupyter.widget-view+json": {
       "model_id": "ad8b5497d088411eba68ed6b5e57b802",
       "version_major": 2,
       "version_minor": 0
      },
      "text/plain": [
       "0it [00:00, ?it/s]"
      ]
     },
     "metadata": {},
     "output_type": "display_data"
    },
    {
     "data": {
      "application/vnd.jupyter.widget-view+json": {
       "model_id": "b1df13169eff45d9ba723e8d05a45f25",
       "version_major": 2,
       "version_minor": 0
      },
      "text/plain": [
       "  0%|          | 0/9 [00:00<?, ?it/s]"
      ]
     },
     "metadata": {},
     "output_type": "display_data"
    },
    {
     "name": "stdout",
     "output_type": "stream",
     "text": [
      "['A549', 'K562', 'MCF7']\n"
     ]
    },
    {
     "data": {
      "application/vnd.jupyter.widget-view+json": {
       "model_id": "dec0ef670ffc444eb74ff6b733249594",
       "version_major": 2,
       "version_minor": 0
      },
      "text/plain": [
       "0it [00:00, ?it/s]"
      ]
     },
     "metadata": {},
     "output_type": "display_data"
    },
    {
     "data": {
      "application/vnd.jupyter.widget-view+json": {
       "model_id": "fb21e008267e47f68845a7d03ec5e6aa",
       "version_major": 2,
       "version_minor": 0
      },
      "text/plain": [
       "  0%|          | 0/9 [00:00<?, ?it/s]"
      ]
     },
     "metadata": {},
     "output_type": "display_data"
    },
    {
     "name": "stdout",
     "output_type": "stream",
     "text": [
      "['A549', 'K562', 'MCF7']\n"
     ]
    },
    {
     "data": {
      "application/vnd.jupyter.widget-view+json": {
       "model_id": "1bf6cc8f095c47f69d342cbcb939b423",
       "version_major": 2,
       "version_minor": 0
      },
      "text/plain": [
       "0it [00:00, ?it/s]"
      ]
     },
     "metadata": {},
     "output_type": "display_data"
    },
    {
     "data": {
      "application/vnd.jupyter.widget-view+json": {
       "model_id": "b8a2f517502842578e5dbc5bb315eaf6",
       "version_major": 2,
       "version_minor": 0
      },
      "text/plain": [
       "  0%|          | 0/9 [00:00<?, ?it/s]"
      ]
     },
     "metadata": {},
     "output_type": "display_data"
    },
    {
     "name": "stdout",
     "output_type": "stream",
     "text": [
      "['A549', 'K562', 'MCF7']\n"
     ]
    },
    {
     "data": {
      "application/vnd.jupyter.widget-view+json": {
       "model_id": "24c4b357589d446887e9c466d5d649c6",
       "version_major": 2,
       "version_minor": 0
      },
      "text/plain": [
       "0it [00:00, ?it/s]"
      ]
     },
     "metadata": {},
     "output_type": "display_data"
    },
    {
     "data": {
      "application/vnd.jupyter.widget-view+json": {
       "model_id": "8d065b25ea65449c9f213cd31a9675c8",
       "version_major": 2,
       "version_minor": 0
      },
      "text/plain": [
       "  0%|          | 0/9 [00:00<?, ?it/s]"
      ]
     },
     "metadata": {},
     "output_type": "display_data"
    },
    {
     "name": "stdout",
     "output_type": "stream",
     "text": [
      "['A549', 'K562', 'MCF7']\n"
     ]
    },
    {
     "data": {
      "application/vnd.jupyter.widget-view+json": {
       "model_id": "e75a2dc2ac874291b4584f50d8ae8029",
       "version_major": 2,
       "version_minor": 0
      },
      "text/plain": [
       "0it [00:00, ?it/s]"
      ]
     },
     "metadata": {},
     "output_type": "display_data"
    },
    {
     "data": {
      "application/vnd.jupyter.widget-view+json": {
       "model_id": "7de3e5fbbd4a4a43b5948754c29068e3",
       "version_major": 2,
       "version_minor": 0
      },
      "text/plain": [
       "  0%|          | 0/9 [00:00<?, ?it/s]"
      ]
     },
     "metadata": {},
     "output_type": "display_data"
    },
    {
     "name": "stdout",
     "output_type": "stream",
     "text": [
      "['A549', 'K562', 'MCF7']\n"
     ]
    },
    {
     "data": {
      "application/vnd.jupyter.widget-view+json": {
       "model_id": "2ea1a2ec601141b3a21a6cb8dabf6c6f",
       "version_major": 2,
       "version_minor": 0
      },
      "text/plain": [
       "0it [00:00, ?it/s]"
      ]
     },
     "metadata": {},
     "output_type": "display_data"
    }
   ],
   "source": [
    "# drug_r2_baseline_degs, _ = compute_pred_ctrl(\n",
    "#     dataset=datasets[\"ood\"],\n",
    "#     dataset_ctrl=datasets[\"test_control\"],\n",
    "#     dosages=dosages,\n",
    "#     cell_lines=cell_lines,\n",
    "#     use_DEGs=True,\n",
    "#     verbose=False,\n",
    "# )\n",
    "\n",
    "# drug_r2_baseline_all, _ = compute_pred_ctrl(\n",
    "#     dataset=datasets[\"ood\"],\n",
    "#     dataset_ctrl=datasets[\"test_control\"],\n",
    "#     dosages=dosages,\n",
    "#     cell_lines=cell_lines,\n",
    "#     use_DEGs=False,\n",
    "#     verbose=False,\n",
    "# )\n",
    "predictions = []\n",
    "\n",
    "predictions.extend(\n",
    "    [\n",
    "        get_baseline_predictions(_hash, name_tag=name_tag, use_DEGs=True)\n",
    "        for name_tag, _hash in base_hash_dict.items()\n",
    "    ]\n",
    ")\n",
    "\n",
    "predictions.extend(\n",
    "    [\n",
    "        get_baseline_predictions(_hash, name_tag=name_tag, use_DEGs=False)\n",
    "        for name_tag, _hash in base_hash_dict.items()\n",
    "    ]\n",
    ")"
   ]
  },
  {
   "cell_type": "code",
   "execution_count": 81,
   "metadata": {},
   "outputs": [
    {
     "data": {
      "text/plain": [
       "[                             R2          model genes\n",
       " A549_Alvespimycin_0.1  0.729878  baseline_A549  degs\n",
       " A549_Belinostat_0.1    0.621798  baseline_A549  degs\n",
       " A549_Dacinostat_0.1    0.213912  baseline_A549  degs\n",
       " A549_Flavopiridol_0.1  0.839678  baseline_A549  degs\n",
       " A549_Givinostat_0.1    0.785217  baseline_A549  degs\n",
       " A549_Hesperadin_0.1    0.846727  baseline_A549  degs\n",
       " A549_Quisinostat_0.1   0.064278  baseline_A549  degs\n",
       " A549_TAK-901_0.1       0.761692  baseline_A549  degs\n",
       " A549_Tanespimycin_0.1  0.800248  baseline_A549  degs,\n",
       "                              R2          model genes\n",
       " K562_Alvespimycin_0.1  0.528042  baseline_K562  degs\n",
       " K562_Belinostat_0.1    0.778544  baseline_K562  degs\n",
       " K562_Dacinostat_0.1    0.000000  baseline_K562  degs\n",
       " K562_Flavopiridol_0.1  0.000000  baseline_K562  degs\n",
       " K562_Givinostat_0.1    0.702251  baseline_K562  degs\n",
       " K562_Hesperadin_0.1    0.743025  baseline_K562  degs\n",
       " K562_Quisinostat_0.1   0.000000  baseline_K562  degs\n",
       " K562_TAK-901_0.1       0.656003  baseline_K562  degs\n",
       " K562_Tanespimycin_0.1  0.498882  baseline_K562  degs,\n",
       "                              R2          model genes\n",
       " MCF7_Alvespimycin_0.1  0.524234  baseline_MCF7  degs\n",
       " MCF7_Belinostat_0.1    0.890152  baseline_MCF7  degs\n",
       " MCF7_Dacinostat_0.1    0.000000  baseline_MCF7  degs\n",
       " MCF7_Flavopiridol_0.1  0.000000  baseline_MCF7  degs\n",
       " MCF7_Givinostat_0.1    0.876350  baseline_MCF7  degs\n",
       " MCF7_Hesperadin_0.1    0.584376  baseline_MCF7  degs\n",
       " MCF7_Quisinostat_0.1   0.000000  baseline_MCF7  degs\n",
       " MCF7_TAK-901_0.1       0.871041  baseline_MCF7  degs\n",
       " MCF7_Tanespimycin_0.1  0.446258  baseline_MCF7  degs,\n",
       "                              R2          model genes\n",
       " A549_Alvespimycin_0.1  0.775320  baseline_A549   all\n",
       " A549_Belinostat_0.1    0.840187  baseline_A549   all\n",
       " A549_Dacinostat_0.1    0.533087  baseline_A549   all\n",
       " A549_Flavopiridol_0.1  0.900223  baseline_A549   all\n",
       " A549_Givinostat_0.1    0.842924  baseline_A549   all\n",
       " A549_Hesperadin_0.1    0.867695  baseline_A549   all\n",
       " A549_Quisinostat_0.1   0.469722  baseline_A549   all\n",
       " A549_TAK-901_0.1       0.899942  baseline_A549   all\n",
       " A549_Tanespimycin_0.1  0.833517  baseline_A549   all,\n",
       "                              R2          model genes\n",
       " K562_Alvespimycin_0.1  0.692763  baseline_K562   all\n",
       " K562_Belinostat_0.1    0.825359  baseline_K562   all\n",
       " K562_Dacinostat_0.1    0.435245  baseline_K562   all\n",
       " K562_Flavopiridol_0.1  0.000000  baseline_K562   all\n",
       " K562_Givinostat_0.1    0.785563  baseline_K562   all\n",
       " K562_Hesperadin_0.1    0.915703  baseline_K562   all\n",
       " K562_Quisinostat_0.1   0.536936  baseline_K562   all\n",
       " K562_TAK-901_0.1       0.800102  baseline_K562   all\n",
       " K562_Tanespimycin_0.1  0.772966  baseline_K562   all,\n",
       "                              R2          model genes\n",
       " MCF7_Alvespimycin_0.1  0.847596  baseline_MCF7   all\n",
       " MCF7_Belinostat_0.1    0.904943  baseline_MCF7   all\n",
       " MCF7_Dacinostat_0.1    0.370073  baseline_MCF7   all\n",
       " MCF7_Flavopiridol_0.1  0.000000  baseline_MCF7   all\n",
       " MCF7_Givinostat_0.1    0.919426  baseline_MCF7   all\n",
       " MCF7_Hesperadin_0.1    0.938620  baseline_MCF7   all\n",
       " MCF7_Quisinostat_0.1   0.185997  baseline_MCF7   all\n",
       " MCF7_TAK-901_0.1       0.948846  baseline_MCF7   all\n",
       " MCF7_Tanespimycin_0.1  0.861117  baseline_MCF7   all]"
      ]
     },
     "execution_count": 81,
     "metadata": {},
     "output_type": "execute_result"
    }
   ],
   "source": [
    "predictions"
   ]
  },
  {
   "cell_type": "code",
   "execution_count": 82,
   "metadata": {},
   "outputs": [
    {
     "data": {
      "text/plain": [
       "torch.Size([1132, 977])"
      ]
     },
     "execution_count": 82,
     "metadata": {},
     "output_type": "execute_result"
    }
   ],
   "source": [
    "datasets[\"test_control\"].genes.size()"
   ]
  },
  {
   "cell_type": "code",
   "execution_count": 83,
   "metadata": {},
   "outputs": [
    {
     "data": {
      "text/html": [
       "<div>\n",
       "<style scoped>\n",
       "    .dataframe tbody tr th:only-of-type {\n",
       "        vertical-align: middle;\n",
       "    }\n",
       "\n",
       "    .dataframe tbody tr th {\n",
       "        vertical-align: top;\n",
       "    }\n",
       "\n",
       "    .dataframe thead th {\n",
       "        text-align: right;\n",
       "    }\n",
       "</style>\n",
       "<table border=\"1\" class=\"dataframe\">\n",
       "  <thead>\n",
       "    <tr style=\"text-align: right;\">\n",
       "      <th>split_baseline_A549</th>\n",
       "      <th>ood</th>\n",
       "      <th>test</th>\n",
       "      <th>train</th>\n",
       "    </tr>\n",
       "    <tr>\n",
       "      <th>control</th>\n",
       "      <th></th>\n",
       "      <th></th>\n",
       "      <th></th>\n",
       "    </tr>\n",
       "  </thead>\n",
       "  <tbody>\n",
       "    <tr>\n",
       "      <th>0</th>\n",
       "      <td>814</td>\n",
       "      <td>10368</td>\n",
       "      <td>88094</td>\n",
       "    </tr>\n",
       "    <tr>\n",
       "      <th>1</th>\n",
       "      <td>0</td>\n",
       "      <td>1132</td>\n",
       "      <td>11872</td>\n",
       "    </tr>\n",
       "  </tbody>\n",
       "</table>\n",
       "</div>"
      ],
      "text/plain": [
       "split_baseline_A549  ood   test  train\n",
       "control                               \n",
       "0                    814  10368  88094\n",
       "1                      0   1132  11872"
      ]
     },
     "execution_count": 83,
     "metadata": {},
     "output_type": "execute_result"
    }
   ],
   "source": [
    "adata = sc.read(DATA_DIR / \"adata_baseline.h5ad\")\n",
    "pd.crosstab(adata.obs[\"control\"], adata.obs[\"split_baseline_A549\"])"
   ]
  },
  {
   "cell_type": "code",
   "execution_count": 84,
   "metadata": {},
   "outputs": [
    {
     "data": {
      "text/html": [
       "<div>\n",
       "<style scoped>\n",
       "    .dataframe tbody tr th:only-of-type {\n",
       "        vertical-align: middle;\n",
       "    }\n",
       "\n",
       "    .dataframe tbody tr th {\n",
       "        vertical-align: top;\n",
       "    }\n",
       "\n",
       "    .dataframe thead th {\n",
       "        text-align: right;\n",
       "    }\n",
       "</style>\n",
       "<table border=\"1\" class=\"dataframe\">\n",
       "  <thead>\n",
       "    <tr style=\"text-align: right;\">\n",
       "      <th>split_baseline_K562</th>\n",
       "      <th>ood</th>\n",
       "      <th>test</th>\n",
       "      <th>train</th>\n",
       "    </tr>\n",
       "    <tr>\n",
       "      <th>control</th>\n",
       "      <th></th>\n",
       "      <th></th>\n",
       "      <th></th>\n",
       "    </tr>\n",
       "  </thead>\n",
       "  <tbody>\n",
       "    <tr>\n",
       "      <th>0</th>\n",
       "      <td>716</td>\n",
       "      <td>10417</td>\n",
       "      <td>88143</td>\n",
       "    </tr>\n",
       "    <tr>\n",
       "      <th>1</th>\n",
       "      <td>0</td>\n",
       "      <td>1132</td>\n",
       "      <td>11872</td>\n",
       "    </tr>\n",
       "  </tbody>\n",
       "</table>\n",
       "</div>"
      ],
      "text/plain": [
       "split_baseline_K562  ood   test  train\n",
       "control                               \n",
       "0                    716  10417  88143\n",
       "1                      0   1132  11872"
      ]
     },
     "execution_count": 84,
     "metadata": {},
     "output_type": "execute_result"
    }
   ],
   "source": [
    "pd.crosstab(adata.obs[\"control\"], adata.obs[\"split_baseline_K562\"])"
   ]
  },
  {
   "cell_type": "code",
   "execution_count": 85,
   "metadata": {},
   "outputs": [
    {
     "data": {
      "text/html": [
       "<div>\n",
       "<style scoped>\n",
       "    .dataframe tbody tr th:only-of-type {\n",
       "        vertical-align: middle;\n",
       "    }\n",
       "\n",
       "    .dataframe tbody tr th {\n",
       "        vertical-align: top;\n",
       "    }\n",
       "\n",
       "    .dataframe thead th {\n",
       "        text-align: right;\n",
       "    }\n",
       "</style>\n",
       "<table border=\"1\" class=\"dataframe\">\n",
       "  <thead>\n",
       "    <tr style=\"text-align: right;\">\n",
       "      <th>split_baseline_MCF7</th>\n",
       "      <th>ood</th>\n",
       "      <th>test</th>\n",
       "      <th>train</th>\n",
       "    </tr>\n",
       "    <tr>\n",
       "      <th>control</th>\n",
       "      <th></th>\n",
       "      <th></th>\n",
       "      <th></th>\n",
       "    </tr>\n",
       "  </thead>\n",
       "  <tbody>\n",
       "    <tr>\n",
       "      <th>0</th>\n",
       "      <td>1662</td>\n",
       "      <td>9944</td>\n",
       "      <td>87670</td>\n",
       "    </tr>\n",
       "    <tr>\n",
       "      <th>1</th>\n",
       "      <td>0</td>\n",
       "      <td>1132</td>\n",
       "      <td>11872</td>\n",
       "    </tr>\n",
       "  </tbody>\n",
       "</table>\n",
       "</div>"
      ],
      "text/plain": [
       "split_baseline_MCF7   ood  test  train\n",
       "control                               \n",
       "0                    1662  9944  87670\n",
       "1                       0  1132  11872"
      ]
     },
     "execution_count": 85,
     "metadata": {},
     "output_type": "execute_result"
    }
   ],
   "source": [
    "pd.crosstab(adata.obs[\"control\"], adata.obs[\"split_baseline_MCF7\"])"
   ]
  },
  {
   "cell_type": "code",
   "execution_count": 86,
   "metadata": {},
   "outputs": [],
   "source": [
    "def get_model_predictions(\n",
    "    hash,\n",
    "    seml_collection=\"baseline_comparison\",\n",
    "    smiles=None,\n",
    "    dosages=[1e1, 1e2, 1e3, 1e4],\n",
    "    cell_lines=[\"A549\", \"K562\", \"MCF7\"],\n",
    "    use_DEGs=False,\n",
    "    verbose=False,\n",
    "    name_tag=None,\n",
    "):\n",
    "    if smiles is None:\n",
    "        smiles = canon_smiles_unique_sorted\n",
    "\n",
    "    config = load_config(seml_collection, hash)\n",
    "    config[\"dataset\"][\"n_vars\"] = dataset.n_vars\n",
    "    config[\"dataset\"][\"data_params\"][\"dataset_path\"] = (\n",
    "        ROOT / config[\"dataset\"][\"data_params\"][\"dataset_path\"]\n",
    "    )\n",
    "    config[\"model\"][\"embedding\"][\"directory\"] = (\n",
    "        ROOT / config[\"model\"][\"embedding\"][\"directory\"]\n",
    "    )\n",
    "    data_params = config[\"dataset\"][\"data_params\"]\n",
    "    datasets = load_dataset_splits(**data_params, return_dataset=False)\n",
    "\n",
    "    model, embedding = load_model(config, smiles)\n",
    "    predictions, _ = compute_pred(\n",
    "        model,\n",
    "        datasets[\"ood\"],\n",
    "        genes_control=datasets[\"test_control\"].genes,\n",
    "        # genes_control=datasets[\"training_control\"].genes,\n",
    "        dosages=dosages,\n",
    "        cell_lines=cell_lines,\n",
    "        use_DEGs=use_DEGs,\n",
    "        verbose=verbose,\n",
    "    )\n",
    "\n",
    "    predictions = pd.DataFrame.from_dict(predictions, orient=\"index\", columns=[\"R2\"])\n",
    "    if name_tag:\n",
    "        predictions[\"model\"] = name_tag\n",
    "    predictions[\"genes\"] = \"degs\" if use_DEGs else \"all\"\n",
    "    return predictions"
   ]
  },
  {
   "cell_type": "code",
   "execution_count": 87,
   "metadata": {},
   "outputs": [],
   "source": [
    "seml_collection = \"baseline_comparison\"\n",
    "\n",
    "hash_dict = dict(\n",
    "    cpa_A549=\"044c4dba0c8719985c3622834f2cbd58\",\n",
    "    cpa_K562=\"5ea85d5dd7abd5962d1d3eeff1b8c1ff\",\n",
    "    cpa_MCF7=\"4d98e7d857f497d870e19c6d12175aaa\",\n",
    "    chemCPA_A549_pretrained=\"3326f900c45faaf99ca4400f78c58847\",\n",
    "    chemCPA_A549=\"8779ff45830000c6bc8e22023bb1cb2c\",\n",
    "    chemCPA_K562_pretrained=\"6388fa373386c11e40dceb5e2e8a113d\",\n",
    "    chemCPA_K562=\"34fd06018d6e2662ccd5da7a16b57334\",\n",
    "    chemCPA_MCF7_pretrained=\"2075a457bafdca5948ab671b77757974\",\n",
    "    chemCPA_MCF7=\"6ad52ba3939397521c5050ca1dd89a4c\",\n",
    ")"
   ]
  },
  {
   "cell_type": "code",
   "execution_count": 88,
   "metadata": {},
   "outputs": [],
   "source": [
    "# df_degs = pd.DataFrame.from_dict(drug_r2_baseline_degs, orient=\"index\", columns=[\"R2\"])\n",
    "# df_degs[\"model\"] = \"baseline\"\n",
    "# df_degs[\"genes\"] = \"degs\"\n",
    "\n",
    "# df_all = pd.DataFrame.from_dict(drug_r2_baseline_all, orient=\"index\", columns=[\"R2\"])\n",
    "# df_all[\"model\"] = \"baseline\"\n",
    "# df_all[\"genes\"] = \"all\"\n",
    "\n",
    "# predictions = [df_degs, df_all]"
   ]
  },
  {
   "cell_type": "code",
   "execution_count": 89,
   "metadata": {},
   "outputs": [
    {
     "data": {
      "application/vnd.jupyter.widget-view+json": {
       "model_id": "c3fd2b5e95e54148ba2da11df07196bc",
       "version_major": 2,
       "version_minor": 0
      },
      "text/plain": [
       "  0%|          | 0/9 [00:00<?, ?it/s]"
      ]
     },
     "metadata": {},
     "output_type": "display_data"
    },
    {
     "name": "stdout",
     "output_type": "stream",
     "text": [
      "CPA model without chemical prior.\n",
      "['A549', 'K562', 'MCF7']\n"
     ]
    },
    {
     "data": {
      "application/vnd.jupyter.widget-view+json": {
       "model_id": "aa6533e35fef4d289a1306fd54daee08",
       "version_major": 2,
       "version_minor": 0
      },
      "text/plain": [
       "0it [00:00, ?it/s]"
      ]
     },
     "metadata": {},
     "output_type": "display_data"
    },
    {
     "data": {
      "application/vnd.jupyter.widget-view+json": {
       "model_id": "d54bc52b353544728e68f065bfe7ebf6",
       "version_major": 2,
       "version_minor": 0
      },
      "text/plain": [
       "  0%|          | 0/9 [00:00<?, ?it/s]"
      ]
     },
     "metadata": {},
     "output_type": "display_data"
    },
    {
     "name": "stdout",
     "output_type": "stream",
     "text": [
      "CPA model without chemical prior.\n",
      "['A549', 'K562', 'MCF7']\n"
     ]
    },
    {
     "data": {
      "application/vnd.jupyter.widget-view+json": {
       "model_id": "afa055f03ae5485897d03005493ca158",
       "version_major": 2,
       "version_minor": 0
      },
      "text/plain": [
       "0it [00:00, ?it/s]"
      ]
     },
     "metadata": {},
     "output_type": "display_data"
    },
    {
     "data": {
      "application/vnd.jupyter.widget-view+json": {
       "model_id": "57402b6d1a8a48f88104c3a8f16140e8",
       "version_major": 2,
       "version_minor": 0
      },
      "text/plain": [
       "  0%|          | 0/9 [00:00<?, ?it/s]"
      ]
     },
     "metadata": {},
     "output_type": "display_data"
    },
    {
     "name": "stdout",
     "output_type": "stream",
     "text": [
      "CPA model without chemical prior.\n",
      "['A549', 'K562', 'MCF7']\n"
     ]
    },
    {
     "data": {
      "application/vnd.jupyter.widget-view+json": {
       "model_id": "296d2240f19f4442af41ab99a23c50b1",
       "version_major": 2,
       "version_minor": 0
      },
      "text/plain": [
       "0it [00:00, ?it/s]"
      ]
     },
     "metadata": {},
     "output_type": "display_data"
    },
    {
     "data": {
      "application/vnd.jupyter.widget-view+json": {
       "model_id": "16dd8acd942d4a948b058cedc571d0bf",
       "version_major": 2,
       "version_minor": 0
      },
      "text/plain": [
       "  0%|          | 0/9 [00:00<?, ?it/s]"
      ]
     },
     "metadata": {},
     "output_type": "display_data"
    },
    {
     "name": "stdout",
     "output_type": "stream",
     "text": [
      "['A549', 'K562', 'MCF7']\n"
     ]
    },
    {
     "data": {
      "application/vnd.jupyter.widget-view+json": {
       "model_id": "d6ec00b3051d4ab08acecc82546081d4",
       "version_major": 2,
       "version_minor": 0
      },
      "text/plain": [
       "0it [00:00, ?it/s]"
      ]
     },
     "metadata": {},
     "output_type": "display_data"
    },
    {
     "data": {
      "application/vnd.jupyter.widget-view+json": {
       "model_id": "4f18de121d4e47fa82476e686c526e32",
       "version_major": 2,
       "version_minor": 0
      },
      "text/plain": [
       "  0%|          | 0/9 [00:00<?, ?it/s]"
      ]
     },
     "metadata": {},
     "output_type": "display_data"
    },
    {
     "name": "stdout",
     "output_type": "stream",
     "text": [
      "['A549', 'K562', 'MCF7']\n"
     ]
    },
    {
     "data": {
      "application/vnd.jupyter.widget-view+json": {
       "model_id": "b60468c379424d40b24342737ea2e2e5",
       "version_major": 2,
       "version_minor": 0
      },
      "text/plain": [
       "0it [00:00, ?it/s]"
      ]
     },
     "metadata": {},
     "output_type": "display_data"
    },
    {
     "data": {
      "application/vnd.jupyter.widget-view+json": {
       "model_id": "5f005d3cceca41a1b2261f9c941f3687",
       "version_major": 2,
       "version_minor": 0
      },
      "text/plain": [
       "  0%|          | 0/9 [00:00<?, ?it/s]"
      ]
     },
     "metadata": {},
     "output_type": "display_data"
    },
    {
     "name": "stdout",
     "output_type": "stream",
     "text": [
      "['A549', 'K562', 'MCF7']\n"
     ]
    },
    {
     "data": {
      "application/vnd.jupyter.widget-view+json": {
       "model_id": "88aa9bd4e414477bb4678690093ec489",
       "version_major": 2,
       "version_minor": 0
      },
      "text/plain": [
       "0it [00:00, ?it/s]"
      ]
     },
     "metadata": {},
     "output_type": "display_data"
    },
    {
     "data": {
      "application/vnd.jupyter.widget-view+json": {
       "model_id": "c011c5a4b2af4f27987a7864aae82ae6",
       "version_major": 2,
       "version_minor": 0
      },
      "text/plain": [
       "  0%|          | 0/9 [00:00<?, ?it/s]"
      ]
     },
     "metadata": {},
     "output_type": "display_data"
    },
    {
     "name": "stdout",
     "output_type": "stream",
     "text": [
      "['A549', 'K562', 'MCF7']\n"
     ]
    },
    {
     "data": {
      "application/vnd.jupyter.widget-view+json": {
       "model_id": "c2c57c5cc86a4b18a0f1002429e89170",
       "version_major": 2,
       "version_minor": 0
      },
      "text/plain": [
       "0it [00:00, ?it/s]"
      ]
     },
     "metadata": {},
     "output_type": "display_data"
    },
    {
     "data": {
      "application/vnd.jupyter.widget-view+json": {
       "model_id": "45d19809408d4bf2805bb0305fe51500",
       "version_major": 2,
       "version_minor": 0
      },
      "text/plain": [
       "  0%|          | 0/9 [00:00<?, ?it/s]"
      ]
     },
     "metadata": {},
     "output_type": "display_data"
    },
    {
     "name": "stdout",
     "output_type": "stream",
     "text": [
      "['A549', 'K562', 'MCF7']\n"
     ]
    },
    {
     "data": {
      "application/vnd.jupyter.widget-view+json": {
       "model_id": "8366d371aea54e7b9043da9ab3ad4199",
       "version_major": 2,
       "version_minor": 0
      },
      "text/plain": [
       "0it [00:00, ?it/s]"
      ]
     },
     "metadata": {},
     "output_type": "display_data"
    },
    {
     "data": {
      "application/vnd.jupyter.widget-view+json": {
       "model_id": "dfd949aca7e848fba094964da79c2c01",
       "version_major": 2,
       "version_minor": 0
      },
      "text/plain": [
       "  0%|          | 0/9 [00:00<?, ?it/s]"
      ]
     },
     "metadata": {},
     "output_type": "display_data"
    },
    {
     "name": "stdout",
     "output_type": "stream",
     "text": [
      "['A549', 'K562', 'MCF7']\n"
     ]
    },
    {
     "data": {
      "application/vnd.jupyter.widget-view+json": {
       "model_id": "9ac9c29a5efe42bcaa50b02e26a14da7",
       "version_major": 2,
       "version_minor": 0
      },
      "text/plain": [
       "0it [00:00, ?it/s]"
      ]
     },
     "metadata": {},
     "output_type": "display_data"
    },
    {
     "data": {
      "application/vnd.jupyter.widget-view+json": {
       "model_id": "a3685f5d464949aeb5ef44be52ceecb0",
       "version_major": 2,
       "version_minor": 0
      },
      "text/plain": [
       "  0%|          | 0/9 [00:00<?, ?it/s]"
      ]
     },
     "metadata": {},
     "output_type": "display_data"
    },
    {
     "name": "stdout",
     "output_type": "stream",
     "text": [
      "CPA model without chemical prior.\n",
      "['A549', 'K562', 'MCF7']\n"
     ]
    },
    {
     "data": {
      "application/vnd.jupyter.widget-view+json": {
       "model_id": "5c380d3f2e824820b3d4556826004196",
       "version_major": 2,
       "version_minor": 0
      },
      "text/plain": [
       "0it [00:00, ?it/s]"
      ]
     },
     "metadata": {},
     "output_type": "display_data"
    },
    {
     "data": {
      "application/vnd.jupyter.widget-view+json": {
       "model_id": "11921807c5e7482d99c338cfa961bf0f",
       "version_major": 2,
       "version_minor": 0
      },
      "text/plain": [
       "  0%|          | 0/9 [00:00<?, ?it/s]"
      ]
     },
     "metadata": {},
     "output_type": "display_data"
    },
    {
     "name": "stdout",
     "output_type": "stream",
     "text": [
      "CPA model without chemical prior.\n",
      "['A549', 'K562', 'MCF7']\n"
     ]
    },
    {
     "data": {
      "application/vnd.jupyter.widget-view+json": {
       "model_id": "2aafbd2ce59041898c24f8feb81bbbcd",
       "version_major": 2,
       "version_minor": 0
      },
      "text/plain": [
       "0it [00:00, ?it/s]"
      ]
     },
     "metadata": {},
     "output_type": "display_data"
    },
    {
     "data": {
      "application/vnd.jupyter.widget-view+json": {
       "model_id": "151c8fa9f3914e9386dd5b616951393b",
       "version_major": 2,
       "version_minor": 0
      },
      "text/plain": [
       "  0%|          | 0/9 [00:00<?, ?it/s]"
      ]
     },
     "metadata": {},
     "output_type": "display_data"
    },
    {
     "name": "stdout",
     "output_type": "stream",
     "text": [
      "CPA model without chemical prior.\n",
      "['A549', 'K562', 'MCF7']\n"
     ]
    },
    {
     "data": {
      "application/vnd.jupyter.widget-view+json": {
       "model_id": "e5e3ea822da94af2b912924ad1104279",
       "version_major": 2,
       "version_minor": 0
      },
      "text/plain": [
       "0it [00:00, ?it/s]"
      ]
     },
     "metadata": {},
     "output_type": "display_data"
    },
    {
     "data": {
      "application/vnd.jupyter.widget-view+json": {
       "model_id": "dd1cfb4b6cc646d284d75dc1ca6a9844",
       "version_major": 2,
       "version_minor": 0
      },
      "text/plain": [
       "  0%|          | 0/9 [00:00<?, ?it/s]"
      ]
     },
     "metadata": {},
     "output_type": "display_data"
    },
    {
     "name": "stdout",
     "output_type": "stream",
     "text": [
      "['A549', 'K562', 'MCF7']\n"
     ]
    },
    {
     "data": {
      "application/vnd.jupyter.widget-view+json": {
       "model_id": "59d86933194e4409b16e32a894b3bd79",
       "version_major": 2,
       "version_minor": 0
      },
      "text/plain": [
       "0it [00:00, ?it/s]"
      ]
     },
     "metadata": {},
     "output_type": "display_data"
    },
    {
     "data": {
      "application/vnd.jupyter.widget-view+json": {
       "model_id": "cc20850d64654f228989fa63cf0ca2db",
       "version_major": 2,
       "version_minor": 0
      },
      "text/plain": [
       "  0%|          | 0/9 [00:00<?, ?it/s]"
      ]
     },
     "metadata": {},
     "output_type": "display_data"
    },
    {
     "name": "stdout",
     "output_type": "stream",
     "text": [
      "['A549', 'K562', 'MCF7']\n"
     ]
    },
    {
     "data": {
      "application/vnd.jupyter.widget-view+json": {
       "model_id": "7fdeb58a8e9a4247a7c74fe372f36111",
       "version_major": 2,
       "version_minor": 0
      },
      "text/plain": [
       "0it [00:00, ?it/s]"
      ]
     },
     "metadata": {},
     "output_type": "display_data"
    },
    {
     "data": {
      "application/vnd.jupyter.widget-view+json": {
       "model_id": "07af3d2d27c94a6f822060af2397eb4b",
       "version_major": 2,
       "version_minor": 0
      },
      "text/plain": [
       "  0%|          | 0/9 [00:00<?, ?it/s]"
      ]
     },
     "metadata": {},
     "output_type": "display_data"
    },
    {
     "name": "stdout",
     "output_type": "stream",
     "text": [
      "['A549', 'K562', 'MCF7']\n"
     ]
    },
    {
     "data": {
      "application/vnd.jupyter.widget-view+json": {
       "model_id": "42b6838e6b3f4e8ab12bdf650d0e9f53",
       "version_major": 2,
       "version_minor": 0
      },
      "text/plain": [
       "0it [00:00, ?it/s]"
      ]
     },
     "metadata": {},
     "output_type": "display_data"
    },
    {
     "data": {
      "application/vnd.jupyter.widget-view+json": {
       "model_id": "03b659f324de45edae156592486bf901",
       "version_major": 2,
       "version_minor": 0
      },
      "text/plain": [
       "  0%|          | 0/9 [00:00<?, ?it/s]"
      ]
     },
     "metadata": {},
     "output_type": "display_data"
    },
    {
     "name": "stdout",
     "output_type": "stream",
     "text": [
      "['A549', 'K562', 'MCF7']\n"
     ]
    },
    {
     "data": {
      "application/vnd.jupyter.widget-view+json": {
       "model_id": "bd5ad1d978a14ba5b3e2901641969066",
       "version_major": 2,
       "version_minor": 0
      },
      "text/plain": [
       "0it [00:00, ?it/s]"
      ]
     },
     "metadata": {},
     "output_type": "display_data"
    },
    {
     "data": {
      "application/vnd.jupyter.widget-view+json": {
       "model_id": "7567cc212f1340eab9e832f1ccac0b5a",
       "version_major": 2,
       "version_minor": 0
      },
      "text/plain": [
       "  0%|          | 0/9 [00:00<?, ?it/s]"
      ]
     },
     "metadata": {},
     "output_type": "display_data"
    },
    {
     "name": "stdout",
     "output_type": "stream",
     "text": [
      "['A549', 'K562', 'MCF7']\n"
     ]
    },
    {
     "data": {
      "application/vnd.jupyter.widget-view+json": {
       "model_id": "891b7949ee414b8da05070de12779e31",
       "version_major": 2,
       "version_minor": 0
      },
      "text/plain": [
       "0it [00:00, ?it/s]"
      ]
     },
     "metadata": {},
     "output_type": "display_data"
    },
    {
     "data": {
      "application/vnd.jupyter.widget-view+json": {
       "model_id": "a16268b08e3842cc8dc465ab82bb2b5e",
       "version_major": 2,
       "version_minor": 0
      },
      "text/plain": [
       "  0%|          | 0/9 [00:00<?, ?it/s]"
      ]
     },
     "metadata": {},
     "output_type": "display_data"
    },
    {
     "name": "stdout",
     "output_type": "stream",
     "text": [
      "['A549', 'K562', 'MCF7']\n"
     ]
    },
    {
     "data": {
      "application/vnd.jupyter.widget-view+json": {
       "model_id": "0942fe355e65464f8e825de6d585bce9",
       "version_major": 2,
       "version_minor": 0
      },
      "text/plain": [
       "0it [00:00, ?it/s]"
      ]
     },
     "metadata": {},
     "output_type": "display_data"
    }
   ],
   "source": [
    "predictions.extend(\n",
    "    [\n",
    "        get_model_predictions(_hash, name_tag=name_tag, use_DEGs=True)\n",
    "        for name_tag, _hash in hash_dict.items()\n",
    "    ]\n",
    ")\n",
    "predictions.extend(\n",
    "    [\n",
    "        get_model_predictions(_hash, name_tag=name_tag, use_DEGs=False)\n",
    "        for name_tag, _hash in hash_dict.items()\n",
    "    ]\n",
    ")"
   ]
  },
  {
   "cell_type": "code",
   "execution_count": 90,
   "metadata": {},
   "outputs": [],
   "source": [
    "def rename_model(str):\n",
    "    str_list = str.split(\"_\")\n",
    "    if len(str_list) == 2:\n",
    "        return str_list[0]\n",
    "    else:\n",
    "        assert len(str_list) == 3\n",
    "        return \"_\".join([str_list[0], str_list[2]])"
   ]
  },
  {
   "cell_type": "code",
   "execution_count": 91,
   "metadata": {},
   "outputs": [],
   "source": [
    "predictions = pd.concat(predictions)\n",
    "predictions.reset_index(inplace=True)\n",
    "predictions[\"cell_type\"] = predictions[\"index\"].apply(lambda s: s.split(\"_\")[0])\n",
    "predictions[\"condition\"] = predictions[\"index\"].apply(lambda s: s.split(\"_\")[1])\n",
    "predictions[\"dose\"] = predictions[\"index\"].apply(lambda s: s.split(\"_\")[2])\n",
    "predictions[\"model_ct\"] = predictions[\"model\"]\n",
    "predictions[\"model\"] = predictions[\"model\"].apply(rename_model)"
   ]
  },
  {
   "cell_type": "code",
   "execution_count": 92,
   "metadata": {},
   "outputs": [
    {
     "data": {
      "text/html": [
       "<div>\n",
       "<style scoped>\n",
       "    .dataframe tbody tr th:only-of-type {\n",
       "        vertical-align: middle;\n",
       "    }\n",
       "\n",
       "    .dataframe tbody tr th {\n",
       "        vertical-align: top;\n",
       "    }\n",
       "\n",
       "    .dataframe thead th {\n",
       "        text-align: right;\n",
       "    }\n",
       "</style>\n",
       "<table border=\"1\" class=\"dataframe\">\n",
       "  <thead>\n",
       "    <tr style=\"text-align: right;\">\n",
       "      <th></th>\n",
       "      <th>index</th>\n",
       "      <th>R2</th>\n",
       "      <th>model</th>\n",
       "      <th>genes</th>\n",
       "      <th>cell_type</th>\n",
       "      <th>condition</th>\n",
       "      <th>dose</th>\n",
       "      <th>model_ct</th>\n",
       "    </tr>\n",
       "  </thead>\n",
       "  <tbody>\n",
       "    <tr>\n",
       "      <th>0</th>\n",
       "      <td>A549_Alvespimycin_0.1</td>\n",
       "      <td>0.729878</td>\n",
       "      <td>baseline</td>\n",
       "      <td>degs</td>\n",
       "      <td>A549</td>\n",
       "      <td>Alvespimycin</td>\n",
       "      <td>0.1</td>\n",
       "      <td>baseline_A549</td>\n",
       "    </tr>\n",
       "    <tr>\n",
       "      <th>1</th>\n",
       "      <td>A549_Belinostat_0.1</td>\n",
       "      <td>0.621798</td>\n",
       "      <td>baseline</td>\n",
       "      <td>degs</td>\n",
       "      <td>A549</td>\n",
       "      <td>Belinostat</td>\n",
       "      <td>0.1</td>\n",
       "      <td>baseline_A549</td>\n",
       "    </tr>\n",
       "    <tr>\n",
       "      <th>2</th>\n",
       "      <td>A549_Dacinostat_0.1</td>\n",
       "      <td>0.213912</td>\n",
       "      <td>baseline</td>\n",
       "      <td>degs</td>\n",
       "      <td>A549</td>\n",
       "      <td>Dacinostat</td>\n",
       "      <td>0.1</td>\n",
       "      <td>baseline_A549</td>\n",
       "    </tr>\n",
       "    <tr>\n",
       "      <th>3</th>\n",
       "      <td>A549_Flavopiridol_0.1</td>\n",
       "      <td>0.839678</td>\n",
       "      <td>baseline</td>\n",
       "      <td>degs</td>\n",
       "      <td>A549</td>\n",
       "      <td>Flavopiridol</td>\n",
       "      <td>0.1</td>\n",
       "      <td>baseline_A549</td>\n",
       "    </tr>\n",
       "    <tr>\n",
       "      <th>4</th>\n",
       "      <td>A549_Givinostat_0.1</td>\n",
       "      <td>0.785217</td>\n",
       "      <td>baseline</td>\n",
       "      <td>degs</td>\n",
       "      <td>A549</td>\n",
       "      <td>Givinostat</td>\n",
       "      <td>0.1</td>\n",
       "      <td>baseline_A549</td>\n",
       "    </tr>\n",
       "    <tr>\n",
       "      <th>...</th>\n",
       "      <td>...</td>\n",
       "      <td>...</td>\n",
       "      <td>...</td>\n",
       "      <td>...</td>\n",
       "      <td>...</td>\n",
       "      <td>...</td>\n",
       "      <td>...</td>\n",
       "      <td>...</td>\n",
       "    </tr>\n",
       "    <tr>\n",
       "      <th>211</th>\n",
       "      <td>MCF7_Givinostat_0.1</td>\n",
       "      <td>0.925738</td>\n",
       "      <td>chemCPA</td>\n",
       "      <td>all</td>\n",
       "      <td>MCF7</td>\n",
       "      <td>Givinostat</td>\n",
       "      <td>0.1</td>\n",
       "      <td>chemCPA_MCF7</td>\n",
       "    </tr>\n",
       "    <tr>\n",
       "      <th>212</th>\n",
       "      <td>MCF7_Hesperadin_0.1</td>\n",
       "      <td>0.945307</td>\n",
       "      <td>chemCPA</td>\n",
       "      <td>all</td>\n",
       "      <td>MCF7</td>\n",
       "      <td>Hesperadin</td>\n",
       "      <td>0.1</td>\n",
       "      <td>chemCPA_MCF7</td>\n",
       "    </tr>\n",
       "    <tr>\n",
       "      <th>213</th>\n",
       "      <td>MCF7_Quisinostat_0.1</td>\n",
       "      <td>0.286649</td>\n",
       "      <td>chemCPA</td>\n",
       "      <td>all</td>\n",
       "      <td>MCF7</td>\n",
       "      <td>Quisinostat</td>\n",
       "      <td>0.1</td>\n",
       "      <td>chemCPA_MCF7</td>\n",
       "    </tr>\n",
       "    <tr>\n",
       "      <th>214</th>\n",
       "      <td>MCF7_TAK-901_0.1</td>\n",
       "      <td>0.953843</td>\n",
       "      <td>chemCPA</td>\n",
       "      <td>all</td>\n",
       "      <td>MCF7</td>\n",
       "      <td>TAK-901</td>\n",
       "      <td>0.1</td>\n",
       "      <td>chemCPA_MCF7</td>\n",
       "    </tr>\n",
       "    <tr>\n",
       "      <th>215</th>\n",
       "      <td>MCF7_Tanespimycin_0.1</td>\n",
       "      <td>0.872011</td>\n",
       "      <td>chemCPA</td>\n",
       "      <td>all</td>\n",
       "      <td>MCF7</td>\n",
       "      <td>Tanespimycin</td>\n",
       "      <td>0.1</td>\n",
       "      <td>chemCPA_MCF7</td>\n",
       "    </tr>\n",
       "  </tbody>\n",
       "</table>\n",
       "<p>216 rows × 8 columns</p>\n",
       "</div>"
      ],
      "text/plain": [
       "                     index        R2     model genes cell_type     condition  \\\n",
       "0    A549_Alvespimycin_0.1  0.729878  baseline  degs      A549  Alvespimycin   \n",
       "1      A549_Belinostat_0.1  0.621798  baseline  degs      A549    Belinostat   \n",
       "2      A549_Dacinostat_0.1  0.213912  baseline  degs      A549    Dacinostat   \n",
       "3    A549_Flavopiridol_0.1  0.839678  baseline  degs      A549  Flavopiridol   \n",
       "4      A549_Givinostat_0.1  0.785217  baseline  degs      A549    Givinostat   \n",
       "..                     ...       ...       ...   ...       ...           ...   \n",
       "211    MCF7_Givinostat_0.1  0.925738   chemCPA   all      MCF7    Givinostat   \n",
       "212    MCF7_Hesperadin_0.1  0.945307   chemCPA   all      MCF7    Hesperadin   \n",
       "213   MCF7_Quisinostat_0.1  0.286649   chemCPA   all      MCF7   Quisinostat   \n",
       "214       MCF7_TAK-901_0.1  0.953843   chemCPA   all      MCF7       TAK-901   \n",
       "215  MCF7_Tanespimycin_0.1  0.872011   chemCPA   all      MCF7  Tanespimycin   \n",
       "\n",
       "    dose       model_ct  \n",
       "0    0.1  baseline_A549  \n",
       "1    0.1  baseline_A549  \n",
       "2    0.1  baseline_A549  \n",
       "3    0.1  baseline_A549  \n",
       "4    0.1  baseline_A549  \n",
       "..   ...            ...  \n",
       "211  0.1   chemCPA_MCF7  \n",
       "212  0.1   chemCPA_MCF7  \n",
       "213  0.1   chemCPA_MCF7  \n",
       "214  0.1   chemCPA_MCF7  \n",
       "215  0.1   chemCPA_MCF7  \n",
       "\n",
       "[216 rows x 8 columns]"
      ]
     },
     "execution_count": 92,
     "metadata": {},
     "output_type": "execute_result"
    }
   ],
   "source": [
    "predictions"
   ]
  },
  {
   "cell_type": "code",
   "execution_count": 93,
   "metadata": {},
   "outputs": [
    {
     "data": {
      "text/html": [
       "<div>\n",
       "<style scoped>\n",
       "    .dataframe tbody tr th:only-of-type {\n",
       "        vertical-align: middle;\n",
       "    }\n",
       "\n",
       "    .dataframe tbody tr th {\n",
       "        vertical-align: top;\n",
       "    }\n",
       "\n",
       "    .dataframe thead th {\n",
       "        text-align: right;\n",
       "    }\n",
       "</style>\n",
       "<table border=\"1\" class=\"dataframe\">\n",
       "  <thead>\n",
       "    <tr style=\"text-align: right;\">\n",
       "      <th></th>\n",
       "      <th></th>\n",
       "      <th>R2</th>\n",
       "    </tr>\n",
       "    <tr>\n",
       "      <th>model</th>\n",
       "      <th>genes</th>\n",
       "      <th></th>\n",
       "    </tr>\n",
       "  </thead>\n",
       "  <tbody>\n",
       "    <tr>\n",
       "      <th rowspan=\"2\" valign=\"top\">baseline</th>\n",
       "      <th>all</th>\n",
       "      <td>0.692736</td>\n",
       "    </tr>\n",
       "    <tr>\n",
       "      <th>degs</th>\n",
       "      <td>0.509725</td>\n",
       "    </tr>\n",
       "    <tr>\n",
       "      <th rowspan=\"2\" valign=\"top\">chemCPA</th>\n",
       "      <th>all</th>\n",
       "      <td>0.738044</td>\n",
       "    </tr>\n",
       "    <tr>\n",
       "      <th>degs</th>\n",
       "      <td>0.604628</td>\n",
       "    </tr>\n",
       "    <tr>\n",
       "      <th rowspan=\"2\" valign=\"top\">chemCPA_pretrained</th>\n",
       "      <th>all</th>\n",
       "      <td>0.768633</td>\n",
       "    </tr>\n",
       "    <tr>\n",
       "      <th>degs</th>\n",
       "      <td>0.682686</td>\n",
       "    </tr>\n",
       "    <tr>\n",
       "      <th rowspan=\"2\" valign=\"top\">cpa</th>\n",
       "      <th>all</th>\n",
       "      <td>0.717369</td>\n",
       "    </tr>\n",
       "    <tr>\n",
       "      <th>degs</th>\n",
       "      <td>0.541184</td>\n",
       "    </tr>\n",
       "  </tbody>\n",
       "</table>\n",
       "</div>"
      ],
      "text/plain": [
       "                                R2\n",
       "model              genes          \n",
       "baseline           all    0.692736\n",
       "                   degs   0.509725\n",
       "chemCPA            all    0.738044\n",
       "                   degs   0.604628\n",
       "chemCPA_pretrained all    0.768633\n",
       "                   degs   0.682686\n",
       "cpa                all    0.717369\n",
       "                   degs   0.541184"
      ]
     },
     "execution_count": 93,
     "metadata": {},
     "output_type": "execute_result"
    }
   ],
   "source": [
    "predictions.groupby([\"model\", \"genes\"]).mean()"
   ]
  },
  {
   "cell_type": "code",
   "execution_count": 94,
   "metadata": {},
   "outputs": [],
   "source": [
    "predictions.to_parquet(\"cpa_predictions.parquet\")"
   ]
  },
  {
   "cell_type": "code",
   "execution_count": 95,
   "metadata": {},
   "outputs": [
    {
     "data": {
      "text/html": [
       "<div>\n",
       "<style scoped>\n",
       "    .dataframe tbody tr th:only-of-type {\n",
       "        vertical-align: middle;\n",
       "    }\n",
       "\n",
       "    .dataframe tbody tr th {\n",
       "        vertical-align: top;\n",
       "    }\n",
       "\n",
       "    .dataframe thead th {\n",
       "        text-align: right;\n",
       "    }\n",
       "</style>\n",
       "<table border=\"1\" class=\"dataframe\">\n",
       "  <thead>\n",
       "    <tr style=\"text-align: right;\">\n",
       "      <th></th>\n",
       "      <th></th>\n",
       "      <th>R2</th>\n",
       "    </tr>\n",
       "    <tr>\n",
       "      <th>model</th>\n",
       "      <th>genes</th>\n",
       "      <th></th>\n",
       "    </tr>\n",
       "  </thead>\n",
       "  <tbody>\n",
       "    <tr>\n",
       "      <th rowspan=\"2\" valign=\"top\">baseline</th>\n",
       "      <th>all</th>\n",
       "      <td>0.692736</td>\n",
       "    </tr>\n",
       "    <tr>\n",
       "      <th>degs</th>\n",
       "      <td>0.509725</td>\n",
       "    </tr>\n",
       "    <tr>\n",
       "      <th rowspan=\"2\" valign=\"top\">chemCPA</th>\n",
       "      <th>all</th>\n",
       "      <td>0.738044</td>\n",
       "    </tr>\n",
       "    <tr>\n",
       "      <th>degs</th>\n",
       "      <td>0.604628</td>\n",
       "    </tr>\n",
       "    <tr>\n",
       "      <th rowspan=\"2\" valign=\"top\">chemCPA_pretrained</th>\n",
       "      <th>all</th>\n",
       "      <td>0.768633</td>\n",
       "    </tr>\n",
       "    <tr>\n",
       "      <th>degs</th>\n",
       "      <td>0.682686</td>\n",
       "    </tr>\n",
       "    <tr>\n",
       "      <th rowspan=\"2\" valign=\"top\">cpa</th>\n",
       "      <th>all</th>\n",
       "      <td>0.717369</td>\n",
       "    </tr>\n",
       "    <tr>\n",
       "      <th>degs</th>\n",
       "      <td>0.541184</td>\n",
       "    </tr>\n",
       "  </tbody>\n",
       "</table>\n",
       "</div>"
      ],
      "text/plain": [
       "                                R2\n",
       "model              genes          \n",
       "baseline           all    0.692736\n",
       "                   degs   0.509725\n",
       "chemCPA            all    0.738044\n",
       "                   degs   0.604628\n",
       "chemCPA_pretrained all    0.768633\n",
       "                   degs   0.682686\n",
       "cpa                all    0.717369\n",
       "                   degs   0.541184"
      ]
     },
     "execution_count": 95,
     "metadata": {},
     "output_type": "execute_result"
    }
   ],
   "source": [
    "predictions.groupby([\"model\", \"genes\"]).mean()"
   ]
  },
  {
   "cell_type": "code",
   "execution_count": 96,
   "metadata": {},
   "outputs": [
    {
     "data": {
      "text/html": [
       "<div>\n",
       "<style scoped>\n",
       "    .dataframe tbody tr th:only-of-type {\n",
       "        vertical-align: middle;\n",
       "    }\n",
       "\n",
       "    .dataframe tbody tr th {\n",
       "        vertical-align: top;\n",
       "    }\n",
       "\n",
       "    .dataframe thead th {\n",
       "        text-align: right;\n",
       "    }\n",
       "</style>\n",
       "<table border=\"1\" class=\"dataframe\">\n",
       "  <thead>\n",
       "    <tr style=\"text-align: right;\">\n",
       "      <th></th>\n",
       "      <th></th>\n",
       "      <th>R2</th>\n",
       "    </tr>\n",
       "    <tr>\n",
       "      <th>model</th>\n",
       "      <th>genes</th>\n",
       "      <th></th>\n",
       "    </tr>\n",
       "  </thead>\n",
       "  <tbody>\n",
       "    <tr>\n",
       "      <th rowspan=\"2\" valign=\"top\">baseline</th>\n",
       "      <th>all</th>\n",
       "      <td>0.280294</td>\n",
       "    </tr>\n",
       "    <tr>\n",
       "      <th>degs</th>\n",
       "      <td>0.337252</td>\n",
       "    </tr>\n",
       "    <tr>\n",
       "      <th rowspan=\"2\" valign=\"top\">chemCPA</th>\n",
       "      <th>all</th>\n",
       "      <td>0.264198</td>\n",
       "    </tr>\n",
       "    <tr>\n",
       "      <th>degs</th>\n",
       "      <td>0.311684</td>\n",
       "    </tr>\n",
       "    <tr>\n",
       "      <th rowspan=\"2\" valign=\"top\">chemCPA_pretrained</th>\n",
       "      <th>all</th>\n",
       "      <td>0.247264</td>\n",
       "    </tr>\n",
       "    <tr>\n",
       "      <th>degs</th>\n",
       "      <td>0.259599</td>\n",
       "    </tr>\n",
       "    <tr>\n",
       "      <th rowspan=\"2\" valign=\"top\">cpa</th>\n",
       "      <th>all</th>\n",
       "      <td>0.279410</td>\n",
       "    </tr>\n",
       "    <tr>\n",
       "      <th>degs</th>\n",
       "      <td>0.348539</td>\n",
       "    </tr>\n",
       "  </tbody>\n",
       "</table>\n",
       "</div>"
      ],
      "text/plain": [
       "                                R2\n",
       "model              genes          \n",
       "baseline           all    0.280294\n",
       "                   degs   0.337252\n",
       "chemCPA            all    0.264198\n",
       "                   degs   0.311684\n",
       "chemCPA_pretrained all    0.247264\n",
       "                   degs   0.259599\n",
       "cpa                all    0.279410\n",
       "                   degs   0.348539"
      ]
     },
     "execution_count": 96,
     "metadata": {},
     "output_type": "execute_result"
    }
   ],
   "source": [
    "predictions.groupby([\"model\", \"genes\"]).std()"
   ]
  },
  {
   "cell_type": "code",
   "execution_count": 47,
   "metadata": {},
   "outputs": [],
   "source": [
    "# predictions = pd.read_parquet(\"baseline_predictions.parquet\")"
   ]
  },
  {
   "cell_type": "code",
   "execution_count": null,
   "metadata": {},
   "outputs": [],
   "source": []
  }
 ],
 "metadata": {
  "kernelspec": {
   "display_name": "Python 3.7.12 ('chemical_CPA')",
   "language": "python",
   "name": "python3"
  },
  "language_info": {
   "codemirror_mode": {
    "name": "ipython",
    "version": 3
   },
   "file_extension": ".py",
   "mimetype": "text/x-python",
   "name": "python",
   "nbconvert_exporter": "python",
   "pygments_lexer": "ipython3",
   "version": "3.7.12"
  },
  "orig_nbformat": 4,
  "vscode": {
   "interpreter": {
    "hash": "45879ff77d613949b37d9f94260a6a718c11df1c0993b072c2b5b60153db7170"
   }
  }
 },
 "nbformat": 4,
 "nbformat_minor": 2
}

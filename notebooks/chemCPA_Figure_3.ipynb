{
 "cells": [
  {
   "cell_type": "markdown",
   "id": "af503e11-3527-4333-a575-68230b001804",
   "metadata": {},
   "source": [
    "**Requirements:**\n",
    "* Trained models\n",
    "* GROVER: \n",
    "     * fine-tuned:      `'a50dc68191a3776694ce8f34ad55e7e0'` \n",
    "     * non-pretrained: `'0807497c5407f4e0c8a52207f36a185f'`\n",
    "\n",
    "\n",
    "**Outputs:** \n",
    "* none \n",
    "___\n",
    "# Imports"
   ]
  },
  {
   "cell_type": "code",
   "execution_count": null,
   "id": "d5cf63e7-6078-4589-83d3-6792e9da9e61",
   "metadata": {},
   "outputs": [],
   "source": [
    "import matplotlib\n",
    "import umap.plot\n",
    "import matplotlib.pyplot as plt\n",
    "import numpy as np\n",
    "import torch\n",
    "import pandas as pd\n",
    "import scanpy as sc\n",
    "import seaborn as sns\n",
    "\n",
    "from utils import load_config, load_dataset, load_smiles, load_model, compute_drug_embeddings, compute_pred\n",
    "\n",
    "from chemCPA.paths import FIGURE_DIR, ROOT"
   ]
  },
  {
   "cell_type": "code",
   "execution_count": null,
   "id": "863f0f63-3c3e-4fa2-8af1-b205d98fd842",
   "metadata": {},
   "outputs": [],
   "source": [
    "BLACK = False\n",
    "SAVEFIG = True"
   ]
  },
  {
   "cell_type": "code",
   "execution_count": null,
   "id": "4da3a73b-9518-4700-bc9d-5ac04ec45263",
   "metadata": {},
   "outputs": [],
   "source": [
    "if BLACK: \n",
    "    plt.style.use('dark_background')\n",
    "else: \n",
    "    matplotlib.style.use(\"fivethirtyeight\")\n",
    "    matplotlib.style.use(\"seaborn-talk\")\n",
    "    matplotlib.pyplot.rcParams['savefig.facecolor'] = 'white'\n",
    "    sns.set_style(\"whitegrid\")\n",
    "\n",
    "matplotlib.rcParams['font.family'] = \"monospace\"\n",
    "matplotlib.rcParams['figure.dpi'] = 300\n",
    "sns.set_context(\"poster\")"
   ]
  },
  {
   "cell_type": "code",
   "execution_count": null,
   "id": "4a5682f7-ac24-4408-9d69-441d328f3e39",
   "metadata": {},
   "outputs": [],
   "source": [
    "%load_ext autoreload\n",
    "%autoreload 2"
   ]
  },
  {
   "cell_type": "markdown",
   "id": "1f80dade-32ff-4908-b05a-a4459ed54803",
   "metadata": {},
   "source": [
    "## Plotting function"
   ]
  },
  {
   "cell_type": "code",
   "execution_count": null,
   "id": "3ca1ae2c-09fe-43eb-8688-fb2a38d0213f",
   "metadata": {},
   "outputs": [],
   "source": [
    "def plot_umap(mapper,\n",
    "              canon_smiles_unique_sorted, \n",
    "              smiles_to_pathway_map, \n",
    "              smiles_to_drug_map,\n",
    "              groups=[\"Epigenetic regulation\", \"Tyrosine kinase signaling\", \"Cell cycle regulation\"],\n",
    "              ood_drugs = [],\n",
    "              ax=None\n",
    "             ): \n",
    "    # important to use the same ordering of SMILES as was used for getting the embedding!\n",
    "    if ax == None: \n",
    "        fig, ax = plt.subplots(figsize=(12,8))\n",
    "    \n",
    "    # groups=[\"Tyrosine kinase signaling\"]\n",
    "    pathway = []\n",
    "    drugs = []\n",
    "\n",
    "    for s in canon_smiles_unique_sorted:\n",
    "        if s in smiles_to_pathway_map: \n",
    "            pathway.append(smiles_to_pathway_map[s])\n",
    "            drugs.append(smiles_to_drug_map[s])\n",
    "        else: \n",
    "            pathway.append('other')\n",
    "            drugs.append('unknown')\n",
    "    \n",
    "    pathway = np.where(pd.Series(pathway).isin(groups), pathway, \"other\")\n",
    "    \n",
    "#     cmap = [(0.7,0.7,0.7)]\n",
    "# #     cmap.extend(list(plt.get_cmap('tab20').colors))\n",
    "# #     cmap = tuple(cmap)\n",
    "\n",
    "#     sns.scatterplot(x=mapper[:,0], y=mapper[:,1], hue=pathway, palette=cmap, ax=ax)\n",
    "    cond = pathway != 'other'\n",
    "    sns.scatterplot(x=mapper[cond,0], y=mapper[cond,1], hue=pathway[cond], ax=ax, palette='tab10' if BLACK else None)\n",
    "    sns.scatterplot(x=mapper[~cond,0], y=mapper[~cond,1], ax=ax, color='grey', alpha=0.3)\n",
    "    \n",
    "    shift = 0.05\n",
    "    for i, label in enumerate(drugs):\n",
    "        if drugs[i] in ood_drugs: \n",
    "            ax.text(\n",
    "                x=mapper[i,0]+shift, \n",
    "                y=mapper[i,1]+shift,\n",
    "                s=label,\n",
    "                fontdict=dict(color='white' if BLACK else 'black', alpha=1, size=12, weight=600),\n",
    "                bbox=dict(facecolor='black' if BLACK else 'lightgrey', alpha=0.3),\n",
    "            )\n",
    "            \n",
    "            "
   ]
  },
  {
   "cell_type": "markdown",
   "id": "e254f2f4-eaa2-4caf-afb1-beac6dab3b98",
   "metadata": {},
   "source": [
    "# Load and analyse model \n",
    "* Define `seml_collection` and `model_hash` to load data and model"
   ]
  },
  {
   "cell_type": "code",
   "execution_count": null,
   "id": "194f70c1-f862-49f4-8ad5-8f75124cde0f",
   "metadata": {},
   "outputs": [],
   "source": [
    "seml_collection = \"multi_task\"\n",
    "\n",
    "model_hash_pretrained_rdkit = \"c824e42f7ce751cf9a8ed26f0d9e0af7\" # Fine-tuned \n",
    "model_hash_scratch_rdkit = \"59bdaefb1c1adfaf2976e3fdf62afa21\" # Non-pretrained\n",
    "\n",
    "model_hash_pretrained_grover = \"c30016a7469feb78a8ee9ebb18ed9b1f\" # Fine-tuned\n",
    "model_hash_scratch_grover = \"60e4b40e8d67bff2d5efc5e22e265820\" # Non-pretrained\n",
    "\n",
    "model_hash_pretrained_jtvae = \"915345a522c29fa709b995d6149083b9\" # Fine-tuned\n",
    "model_hash_scratch_jtvae = \"934c89b742a6309ad6bb2e1cf90c5e50\" # Non-pretrained"
   ]
  },
  {
   "cell_type": "code",
   "execution_count": null,
   "id": "7cd623db-87ff-4371-ac88-318b04b4e69c",
   "metadata": {},
   "outputs": [],
   "source": [
    "model_hash_pretrained = model_hash_pretrained_rdkit"
   ]
  },
  {
   "cell_type": "markdown",
   "id": "8e65ee6b-b224-4f66-8149-c4a7923ed94a",
   "metadata": {},
   "source": [
    "___\n",
    "## Pretrained model"
   ]
  },
  {
   "cell_type": "markdown",
   "id": "109bf70c-d80f-412c-a37e-676790eac358",
   "metadata": {},
   "source": [
    "### Load model"
   ]
  },
  {
   "cell_type": "code",
   "execution_count": null,
   "id": "7c2dd5ae-4b78-436e-8237-77b6db84a120",
   "metadata": {},
   "outputs": [],
   "source": [
    "config = load_config(seml_collection, model_hash_pretrained)\n",
    "config[\"dataset\"][\"data_params\"][\"dataset_path\"] = ROOT / config[\"dataset\"][\"data_params\"][\"dataset_path\"]\n",
    "config[\"model\"][\"embedding\"][\"directory\"] = ROOT / config[\"model\"][\"embedding\"][\"directory\"]\n",
    "dataset, key_dict = load_dataset(config)\n",
    "config['dataset']['n_vars'] = dataset.n_vars\n",
    "canon_smiles_unique_sorted, smiles_to_pathway_map, smiles_to_drug_map = load_smiles(config, dataset, key_dict, True)\n",
    "model_pretrained, embedding_pretrained = load_model(config, canon_smiles_unique_sorted)"
   ]
  },
  {
   "cell_type": "code",
   "execution_count": null,
   "id": "f80a7597-478b-41da-972f-bb4344ecf944",
   "metadata": {},
   "outputs": [],
   "source": [
    "dataset"
   ]
  },
  {
   "cell_type": "code",
   "execution_count": null,
   "id": "0db37795-fe06-4bec-a589-69eca3504a07",
   "metadata": {},
   "outputs": [],
   "source": [
    "config"
   ]
  },
  {
   "cell_type": "markdown",
   "id": "3059ee8b-303f-48a7-8e1c-0719ec61f528",
   "metadata": {},
   "source": [
    "#### Define which drugs should be annotaded with list `ood_drugs`"
   ]
  },
  {
   "cell_type": "code",
   "execution_count": null,
   "id": "18d7f48a-dba6-4c26-a164-52c61cc52331",
   "metadata": {},
   "outputs": [],
   "source": [
    "ood_drugs = dataset.obs.condition[dataset.obs.split_ood_multi_task.isin(['ood'])].unique().to_list()"
   ]
  },
  {
   "cell_type": "code",
   "execution_count": null,
   "id": "2aa74a0f-7bb1-44b6-9617-60271a6c8410",
   "metadata": {},
   "outputs": [],
   "source": [
    "ood_drugs"
   ]
  },
  {
   "cell_type": "markdown",
   "id": "df8e2a6a-5ccd-42fa-83fd-a88e405a278a",
   "metadata": {},
   "source": [
    "#### Get pathway level 2 annotation for clustering of drug embeddings"
   ]
  },
  {
   "cell_type": "code",
   "execution_count": null,
   "id": "c5769c03-c607-445c-b73a-3cc586718692",
   "metadata": {},
   "outputs": [],
   "source": [
    "smiles_to_pw_level2_map = {}\n",
    "pw1_to_pw2 = {}\n",
    "\n",
    "for (drug, pw1, pw2), df in dataset.obs.groupby(['SMILES', 'pathway_level_1', 'pathway_level_2']): \n",
    "    smiles_to_pw_level2_map[drug] = pw2\n",
    "    if pw1 in pw1_to_pw2:\n",
    "        pw1_to_pw2[pw1].add(pw2)\n",
    "    else: \n",
    "        pw1_to_pw2[pw1] = {pw2}"
   ]
  },
  {
   "cell_type": "code",
   "execution_count": null,
   "id": "7f05c5d1-0fb6-49a1-a692-c5578d1ab673",
   "metadata": {},
   "outputs": [],
   "source": [
    "for s, pw in smiles_to_pw_level2_map.items(): \n",
    "    if pw == \"Histone deacetylation\":\n",
    "        smiles_to_pathway_map[s] = pw"
   ]
  },
  {
   "cell_type": "code",
   "execution_count": null,
   "id": "4e57fc96-5185-421e-b698-28b426a14b06",
   "metadata": {},
   "outputs": [],
   "source": [
    "groups = [\n",
    "    \"Histone deacetylation\",\n",
    "    \"Tyrosine kinase signaling\",\n",
    "    \"Cell cycle regulation\",\n",
    "    \"DNA damage & DNA repair\"\n",
    "]\n",
    "\n",
    "# groups_pw2 = [pw2 for pw in groups for pw2 in pw1_to_pw2[pw]]\n",
    "# groups_pw2"
   ]
  },
  {
   "cell_type": "markdown",
   "id": "8940dce7-8134-4761-bd83-66bce987d39a",
   "metadata": {},
   "source": [
    "### Compute UMAP"
   ]
  },
  {
   "cell_type": "code",
   "execution_count": null,
   "id": "f6e5f477-e4fc-43cc-8d01-c683aec3b41d",
   "metadata": {},
   "outputs": [],
   "source": [
    "transf_embeddings_pretrained_high = compute_drug_embeddings(model_pretrained, embedding_pretrained, dosage=1e4)\n",
    "mapper_pretrained_high = umap.UMAP(n_neighbors=25, min_dist=1, spread=2, metric='euclidean').fit_transform(transf_embeddings_pretrained_high)\n",
    "\n",
    "transf_embeddings_pretrained_low = compute_drug_embeddings(model_pretrained, embedding_pretrained, dosage=10)\n",
    "mapper_pretrained_low = umap.UMAP(n_neighbors=25, min_dist=1, spread=2).fit_transform(transf_embeddings_pretrained_low)"
   ]
  },
  {
   "cell_type": "markdown",
   "id": "cfafa03f-90c0-410b-b67c-5fed2689cbc7",
   "metadata": {},
   "source": [
    "### Plot UMAP"
   ]
  },
  {
   "cell_type": "code",
   "execution_count": null,
   "id": "1bcfb3eb-43ff-4950-8127-9363caa15d15",
   "metadata": {},
   "outputs": [],
   "source": [
    "fig, ax = plt.subplots(1,2, figsize=(21,5))\n",
    "\n",
    "plot_umap(\n",
    "    mapper_pretrained_high,\n",
    "    canon_smiles_unique_sorted, \n",
    "    smiles_to_pathway_map, \n",
    "    smiles_to_drug_map,\n",
    "    groups = groups,\n",
    "    ood_drugs=ood_drugs,\n",
    "    ax=ax[1]\n",
    ")\n",
    "\n",
    "plot_umap(\n",
    "    mapper_pretrained_low,\n",
    "    canon_smiles_unique_sorted, \n",
    "    smiles_to_pathway_map, \n",
    "    smiles_to_drug_map,\n",
    "    groups = groups,\n",
    "    ood_drugs=ood_drugs,\n",
    "    ax=ax[0]\n",
    ")\n",
    "ax[0].set(xticklabels=[], yticklabels=[])\n",
    "ax[0].set_xlabel(f\"UMAP of $z_d$ for a dosage of $10\\,$nM\")\n",
    "\n",
    "ax[1].set(xticklabels=[], yticklabels=[])\n",
    "ax[1].set_xlabel(f\"UMAP of $z_d$ for a dosage of $10\\,\\mu$M\")\n",
    "\n",
    "ax[0].grid(False)\n",
    "ax[1].grid(False)\n",
    "ax[0].get_legend().remove()\n",
    "ax[1].legend(title='Pathway', fontsize=18, title_fontsize=22, loc=\"upper left\", bbox_to_anchor=(1, 1))\n",
    "plt.tight_layout()\n",
    "\n",
    "if SAVEFIG: \n",
    "    if BLACK:\n",
    "        plt.savefig(FIGURE_DIR/'umap_drug_embedding_black.png', format='png')\n",
    "    else: \n",
    "        plt.savefig(FIGURE_DIR/'umap_drug_embedding.png', format='png')"
   ]
  },
  {
   "cell_type": "markdown",
   "id": "0a9fbf4a-3bb5-4123-b516-e5f84aaf3ba1",
   "metadata": {},
   "source": [
    "___"
   ]
  },
  {
   "cell_type": "code",
   "execution_count": null,
   "id": "0b5f124a-e182-4ce6-a7a9-9944f5a22d60",
   "metadata": {},
   "outputs": [],
   "source": []
  }
 ],
 "metadata": {
  "kernelspec": {
   "display_name": "chemCPA",
   "language": "python",
   "name": "chemcpa"
  },
  "language_info": {
   "codemirror_mode": {
    "name": "ipython",
    "version": 3
   },
   "file_extension": ".py",
   "mimetype": "text/x-python",
   "name": "python",
   "nbconvert_exporter": "python",
   "pygments_lexer": "ipython3",
   "version": "3.7.12"
  }
 },
 "nbformat": 4,
 "nbformat_minor": 5
}

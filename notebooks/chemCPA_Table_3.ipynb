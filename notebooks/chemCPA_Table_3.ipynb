{
 "cells": [
  {
   "cell_type": "markdown",
   "id": "e6a465b0-3f5d-4eab-9ad0-4141ed08f0a0",
   "metadata": {},
   "source": [
    "**Requirements:**\n",
    "* Trained models\n",
    "* GROVER: \n",
    "     * fine-tuned:      `'a2e83773f445adf813284155efbede9e'` \n",
    "     * non-pretrained: `'5cacac24918054861104eacff97fcf5c'`\n",
    "* RDKit: \n",
    "     * fine-tuned:      `'d2686f53a55468497195941fac1d7e5e'` \n",
    "     * non-pretrained: `'28c172ee2884c3204fa0df4b7223ff93'`\n",
    "* JT-VAE: \n",
    "     * fine-tuned:      `'a15a363b77060383b397a81861615864'` \n",
    "     * non-pretrained: `'cbf9e956049fce00dbcebdfc1aeb67fe'`\n",
    "\n",
    "Here everything is in setting 2 (extended gene set, 977 L1000 + 1023 HVGs)  \n",
    "\n",
    "**Outputs:**\n",
    "* **Table 3** \n",
    "* Supplement Table 10\n",
    "___\n",
    "# Imports"
   ]
  },
  {
   "cell_type": "code",
   "execution_count": null,
   "id": "cf0202ee-03ec-4495-8c86-fbd0b51a3640",
   "metadata": {},
   "outputs": [],
   "source": [
    "import matplotlib\n",
    "import umap.plot\n",
    "import matplotlib.pyplot as plt\n",
    "import numpy as np\n",
    "import pandas as pd\n",
    "import scanpy as sc\n",
    "import scipy\n",
    "import seaborn as sns\n",
    "\n",
    "from utils import load_config, load_dataset, load_smiles, load_model, compute_drug_embeddings, compute_pred, compute_pred_ctrl\n",
    "from chemCPA.data import load_dataset_splits\n",
    "from chemCPA.paths import FIGURE_DIR, ROOT\n",
    "\n",
    "matplotlib.style.use(\"fivethirtyeight\")\n",
    "matplotlib.style.use(\"seaborn-talk\")\n",
    "matplotlib.rcParams['font.family'] = \"monospace\"\n",
    "matplotlib.rcParams['figure.dpi'] = 300\n",
    "matplotlib.pyplot.rcParams['savefig.facecolor'] = 'white'\n",
    "sns.set_style(\"whitegrid\")\n",
    "sns.set_context(\"poster\")\n",
    "\n"
   ]
  },
  {
   "cell_type": "code",
   "execution_count": null,
   "id": "0a4c8e9e-00d0-4c9c-b676-17dd904f33c1",
   "metadata": {},
   "outputs": [],
   "source": [
    "%load_ext autoreload\n",
    "%autoreload 2"
   ]
  },
  {
   "cell_type": "markdown",
   "id": "cc2595fa-425f-43f4-94e2-27d95282cfd7",
   "metadata": {},
   "source": [
    "# Load model configs and dataset\n",
    "* Define `seml_collection` and `model_hash` to load data and model\n",
    "\n",
    "\n",
    "**Info**\n",
    "* split:            `multi_task`  \n",
    "* append_ae_layer:  `True`"
   ]
  },
  {
   "cell_type": "code",
   "execution_count": null,
   "id": "3673bb0e-b7ab-4425-a161-bfe1e20148fd",
   "metadata": {},
   "outputs": [],
   "source": [
    "seml_collection = \"multi_task\"\n",
    "\n",
    "model_hash_pretrained_rdkit = \"dde01c1c58f398d524453c4b564a440f\" # Fine-tuned \n",
    "model_hash_scratch_rdkit = \"475e26950b2c531bea88931a4b2c27b7\" # Non-pretrained\n",
    "\n",
    "model_hash_pretrained_grover = \"0f4a3b11e1fbe3da58125f39ff6fb035\" # Fine-tuned\n",
    "model_hash_scratch_grover = \"b372147c80cf9ad4bd10d16bc56b7534\" # Non-pretrained\n",
    "\n",
    "model_hash_pretrained_jtvae = \"e4eac660c5830245f681ec3cc5099f21\" # Fine-tuned\n",
    "model_hash_scratch_jtvae = \"6b465400467f69da861e3ef0b4709e19\" # Non-pretrained"
   ]
  },
  {
   "cell_type": "markdown",
   "id": "7c11cd38-a907-43e9-b1fa-40642ea709a2",
   "metadata": {},
   "source": [
    "## Load config and SMILES"
   ]
  },
  {
   "cell_type": "code",
   "execution_count": null,
   "id": "b24e760f-7d62-42b3-bb64-9a2b125622fb",
   "metadata": {},
   "outputs": [],
   "source": [
    "config = load_config(seml_collection, model_hash_pretrained_rdkit)\n",
    "\n",
    "config[\"dataset\"][\"data_params\"][\"dataset_path\"] = ROOT / config[\"dataset\"][\"data_params\"][\"dataset_path\"]\n",
    "\n",
    "dataset, key_dict = load_dataset(config)\n",
    "config['dataset']['n_vars'] = dataset.n_vars"
   ]
  },
  {
   "cell_type": "code",
   "execution_count": null,
   "id": "fbc51c43-7f1e-4e28-b4c3-871cf2ca6596",
   "metadata": {},
   "outputs": [],
   "source": [
    "canon_smiles_unique_sorted, smiles_to_pathway_map, smiles_to_drug_map = load_smiles(config, dataset, key_dict, True)"
   ]
  },
  {
   "cell_type": "markdown",
   "id": "c7a411cb-f3dc-40ce-827d-95a2415744d4",
   "metadata": {},
   "source": [
    "Get list of drugs that are ood in `ood_drugs`"
   ]
  },
  {
   "cell_type": "code",
   "execution_count": null,
   "id": "1e0580fc-9cdf-4202-9078-7ceaaf510519",
   "metadata": {},
   "outputs": [],
   "source": [
    "ood_drugs = dataset.obs.condition[dataset.obs[config[\"dataset\"][\"data_params\"][\"split_key\"]].isin(['ood'])].unique().to_list()"
   ]
  },
  {
   "cell_type": "markdown",
   "id": "07fb3703-5e1c-4e66-b146-50dc44b0b470",
   "metadata": {},
   "source": [
    "## Load dataset splits"
   ]
  },
  {
   "cell_type": "code",
   "execution_count": null,
   "id": "44664d2c-e615-4d43-a69d-33ae5a74ac7e",
   "metadata": {},
   "outputs": [],
   "source": [
    "config['dataset']['data_params']"
   ]
  },
  {
   "cell_type": "code",
   "execution_count": null,
   "id": "eb6ce86c-6ecb-4165-9f60-a17617503770",
   "metadata": {},
   "outputs": [],
   "source": [
    "data_params = config['dataset']['data_params']\n",
    "datasets = load_dataset_splits(**data_params, return_dataset=False)"
   ]
  },
  {
   "cell_type": "markdown",
   "id": "425c96f0-41b2-4540-91f7-6ab79a0d0da3",
   "metadata": {},
   "source": [
    "____\n",
    "# Run models\n",
    "## Baseline model"
   ]
  },
  {
   "cell_type": "code",
   "execution_count": null,
   "id": "399a590b-1781-4506-b7cf-77c0e5808c4e",
   "metadata": {},
   "outputs": [],
   "source": [
    "dosages = [1e1,1e2,1e3,1e4]\n",
    "cell_lines = [\"A549\", \"K562\", \"MCF7\"]\n",
    "use_DEGs = True"
   ]
  },
  {
   "cell_type": "code",
   "execution_count": null,
   "id": "2a9ccd51-eaa2-4cbe-a409-974708d389b7",
   "metadata": {},
   "outputs": [],
   "source": [
    "drug_r2_baseline_degs, _ = compute_pred_ctrl(dataset=datasets['ood'],\n",
    "                                        dataset_ctrl=datasets['test_control'],\n",
    "                                        dosages=dosages,\n",
    "                                        cell_lines=cell_lines,\n",
    "                                        use_DEGs=True,\n",
    "                                        verbose=False,\n",
    "                                       )\n",
    "\n",
    "drug_r2_baseline_all, _ = compute_pred_ctrl(dataset=datasets['ood'],\n",
    "                                        dataset_ctrl=datasets['test_control'],\n",
    "                                        dosages=dosages,\n",
    "                                        cell_lines=cell_lines,\n",
    "                                        use_DEGs=False,\n",
    "                                        verbose=False,\n",
    "                                       )"
   ]
  },
  {
   "cell_type": "markdown",
   "id": "bd451e96-bd67-44b0-946e-166e71d006a5",
   "metadata": {},
   "source": [
    "## RDKit"
   ]
  },
  {
   "cell_type": "code",
   "execution_count": null,
   "id": "d225bca7-f563-4c82-ad53-9889aeb6176d",
   "metadata": {},
   "outputs": [],
   "source": [
    "ood_drugs"
   ]
  },
  {
   "cell_type": "markdown",
   "id": "81f4cca8-b4fe-485d-8f39-9d749cefbad1",
   "metadata": {},
   "source": [
    "### Pretrained"
   ]
  },
  {
   "cell_type": "code",
   "execution_count": null,
   "id": "886d036b-23f6-4b23-84cc-197735881f3d",
   "metadata": {},
   "outputs": [],
   "source": [
    "config = load_config(seml_collection, model_hash_pretrained_rdkit)\n",
    "config['dataset']['n_vars'] = dataset.n_vars\n",
    "config[\"model\"][\"embedding\"][\"directory\"] = ROOT / config[\"model\"][\"embedding\"][\"directory\"]\n",
    "model_pretrained_rdkit, embedding_pretrained_rdkit = load_model(config, canon_smiles_unique_sorted)"
   ]
  },
  {
   "cell_type": "code",
   "execution_count": null,
   "id": "8db01530-d598-4a91-a2b0-f1b2c444e48c",
   "metadata": {},
   "outputs": [],
   "source": [
    "drug_r2_pretrained_degs_rdkit, _ = compute_pred(model_pretrained_rdkit, \n",
    "                                     datasets['ood'], \n",
    "                                     genes_control=datasets['test_control'].genes, \n",
    "                                     dosages=dosages,\n",
    "                                     cell_lines=cell_lines,\n",
    "                                     use_DEGs=True,\n",
    "                                     verbose=False,\n",
    "                                    )\n",
    "\n",
    "drug_r2_pretrained_all_rdkit, _ = compute_pred(model_pretrained_rdkit, \n",
    "                                     datasets['ood'], \n",
    "                                     genes_control=datasets['test_control'].genes, \n",
    "                                     dosages=dosages,\n",
    "                                     cell_lines=cell_lines,\n",
    "                                     use_DEGs=False,\n",
    "                                     verbose=False,\n",
    "                                    )"
   ]
  },
  {
   "cell_type": "markdown",
   "id": "95edee6a-44f8-4225-89c7-0102a656d1b4",
   "metadata": {},
   "source": [
    "### Non-pretrained model"
   ]
  },
  {
   "cell_type": "code",
   "execution_count": null,
   "id": "59afd9cd-74f0-468d-8a90-a115e22af6b1",
   "metadata": {},
   "outputs": [],
   "source": [
    "config = load_config(seml_collection, model_hash_scratch_rdkit)\n",
    "config['dataset']['n_vars'] = dataset.n_vars\n",
    "config[\"model\"][\"embedding\"][\"directory\"] = ROOT / config[\"model\"][\"embedding\"][\"directory\"]\n",
    "model_scratch_rdkit, embedding_scratch_rdkit = load_model(config, canon_smiles_unique_sorted)"
   ]
  },
  {
   "cell_type": "code",
   "execution_count": null,
   "id": "7ab2c27d-1044-4c30-b1fd-ab63ada6423b",
   "metadata": {},
   "outputs": [],
   "source": [
    "drug_r2_scratch_degs_rdkit, _ = compute_pred(model_scratch_rdkit,\n",
    "                                  datasets['ood'],\n",
    "                                  genes_control=datasets['test_control'].genes, \n",
    "                                  dosages=dosages,\n",
    "                                  cell_lines=cell_lines,\n",
    "                                  use_DEGs=True,\n",
    "                                  verbose=False,\n",
    "                                 ) # non-pretrained\n",
    "\n",
    "drug_r2_scratch_all_rdkit, _ = compute_pred(model_scratch_rdkit,\n",
    "                                  datasets['ood'],\n",
    "                                  genes_control=datasets['test_control'].genes, \n",
    "                                  dosages=dosages,\n",
    "                                  cell_lines=cell_lines,\n",
    "                                  use_DEGs=False,\n",
    "                                  verbose=False,\n",
    "                                 ) # non-pretrained"
   ]
  },
  {
   "cell_type": "markdown",
   "id": "1a4903b6-cab0-4b17-9214-c11f4f316798",
   "metadata": {},
   "source": [
    "## GROVER"
   ]
  },
  {
   "cell_type": "markdown",
   "id": "5b9a9bd1-9d11-440d-9cfd-342a2af120a3",
   "metadata": {},
   "source": [
    "### Pretrained"
   ]
  },
  {
   "cell_type": "code",
   "execution_count": null,
   "id": "e1aaa430-f2c9-4022-b0dd-84cc46e3c327",
   "metadata": {},
   "outputs": [],
   "source": [
    "config = load_config(seml_collection, model_hash_pretrained_grover)\n",
    "config['dataset']['n_vars'] = dataset.n_vars\n",
    "config[\"model\"][\"embedding\"][\"directory\"] = ROOT / config[\"model\"][\"embedding\"][\"directory\"]\n",
    "model_pretrained_grover, embedding_pretrained_grover = load_model(config, canon_smiles_unique_sorted)"
   ]
  },
  {
   "cell_type": "code",
   "execution_count": null,
   "id": "27878be1-d3fe-4b51-a8d0-235434226623",
   "metadata": {},
   "outputs": [],
   "source": [
    "drug_r2_pretrained_degs_grover, _ = compute_pred(model_pretrained_grover, \n",
    "                                     datasets['ood'], \n",
    "                                     genes_control=datasets['test_control'].genes, \n",
    "                                     dosages=dosages,\n",
    "                                     cell_lines=cell_lines,\n",
    "                                     use_DEGs=True,\n",
    "                                     verbose=False,\n",
    "                                    )\n",
    "\n",
    "drug_r2_pretrained_all_grover, _ = compute_pred(model_pretrained_grover, \n",
    "                                     datasets['ood'], \n",
    "                                     genes_control=datasets['test_control'].genes, \n",
    "                                     dosages=dosages,\n",
    "                                     cell_lines=cell_lines,\n",
    "                                     use_DEGs=False,\n",
    "                                     verbose=False,\n",
    "                                    )"
   ]
  },
  {
   "cell_type": "markdown",
   "id": "7d0ff5a5-01cb-40c6-8f17-d8e0c0049020",
   "metadata": {},
   "source": [
    "### Non-pretrained model"
   ]
  },
  {
   "cell_type": "code",
   "execution_count": null,
   "id": "fda5705d-e4f4-4ce0-a0af-04b2b20ecd75",
   "metadata": {},
   "outputs": [],
   "source": [
    "config = load_config(seml_collection, model_hash_scratch_grover)\n",
    "config['dataset']['n_vars'] = dataset.n_vars\n",
    "config[\"model\"][\"embedding\"][\"directory\"] = ROOT / config[\"model\"][\"embedding\"][\"directory\"]\n",
    "model_scratch_grover, embedding_scratch_grover = load_model(config, canon_smiles_unique_sorted)"
   ]
  },
  {
   "cell_type": "code",
   "execution_count": null,
   "id": "a41f8e01-d90f-4f95-a5ec-6e4fc474ac2a",
   "metadata": {},
   "outputs": [],
   "source": [
    "drug_r2_scratch_degs_grover, _ = compute_pred(model_scratch_grover,\n",
    "                                  datasets['ood'],\n",
    "                                  genes_control=datasets['test_control'].genes, \n",
    "                                  dosages=dosages,\n",
    "                                  cell_lines=cell_lines,\n",
    "                                  use_DEGs=True,\n",
    "                                  verbose=False,\n",
    "                                 ) # non-pretrained\n",
    "\n",
    "drug_r2_scratch_all_grover, _ = compute_pred(model_scratch_grover,\n",
    "                                  datasets['ood'],\n",
    "                                  genes_control=datasets['test_control'].genes, \n",
    "                                  dosages=dosages,\n",
    "                                  cell_lines=cell_lines,\n",
    "                                  use_DEGs=False,\n",
    "                                  verbose=False,\n",
    "                                 ) # non-pretrained"
   ]
  },
  {
   "cell_type": "markdown",
   "id": "890cd5f3-cca3-413c-bcb5-0c6c26222ca9",
   "metadata": {},
   "source": [
    "## JT-VAE model"
   ]
  },
  {
   "cell_type": "markdown",
   "id": "93ebb4ff-ccbd-4ece-a4e0-83020078ccf1",
   "metadata": {},
   "source": [
    "### Pretrained"
   ]
  },
  {
   "cell_type": "code",
   "execution_count": null,
   "id": "fd4ce397-7f66-4941-a860-a293a890cdf1",
   "metadata": {},
   "outputs": [],
   "source": [
    "config = load_config(seml_collection, model_hash_pretrained_jtvae)\n",
    "config['dataset']['n_vars'] = dataset.n_vars\n",
    "config[\"model\"][\"embedding\"][\"directory\"] = ROOT / config[\"model\"][\"embedding\"][\"directory\"]\n",
    "model_pretrained_jtvae, embedding_pretrained_jtvae = load_model(config, canon_smiles_unique_sorted)"
   ]
  },
  {
   "cell_type": "code",
   "execution_count": null,
   "id": "6106ae01-31c9-4bb4-922b-63ad46563b26",
   "metadata": {},
   "outputs": [],
   "source": [
    "drug_r2_pretrained_degs_jtvae, _ = compute_pred(model_pretrained_jtvae, \n",
    "                                     datasets['ood'], \n",
    "                                     genes_control=datasets['test_control'].genes, \n",
    "                                     dosages=dosages,\n",
    "                                     cell_lines=cell_lines,\n",
    "                                     use_DEGs=True,\n",
    "                                     verbose=False,\n",
    "                                    )\n",
    "\n",
    "drug_r2_pretrained_all_jtvae, _ = compute_pred(model_pretrained_jtvae, \n",
    "                                     datasets['ood'], \n",
    "                                     genes_control=datasets['test_control'].genes, \n",
    "                                     dosages=dosages,\n",
    "                                     cell_lines=cell_lines,\n",
    "                                     use_DEGs=False,\n",
    "                                     verbose=False,\n",
    "                                    )"
   ]
  },
  {
   "cell_type": "markdown",
   "id": "c73d27dd-0721-4ce5-96a3-9f6c82471e09",
   "metadata": {},
   "source": [
    "### Non-pretrained model"
   ]
  },
  {
   "cell_type": "code",
   "execution_count": null,
   "id": "ac5d6cce-cff4-45b1-ae7d-74dff58051cf",
   "metadata": {},
   "outputs": [],
   "source": [
    "config = load_config(seml_collection, model_hash_scratch_jtvae)\n",
    "config['dataset']['n_vars'] = dataset.n_vars\n",
    "config[\"model\"][\"embedding\"][\"directory\"] = ROOT / config[\"model\"][\"embedding\"][\"directory\"]\n",
    "model_scratch_jtvae, embedding_scratch_jtvae = load_model(config, canon_smiles_unique_sorted)"
   ]
  },
  {
   "cell_type": "code",
   "execution_count": null,
   "id": "4854b6bc-0746-4d1a-b0ec-5cbd18f99a00",
   "metadata": {},
   "outputs": [],
   "source": [
    "drug_r2_scratch_degs_jtvae, _ = compute_pred(model_scratch_jtvae,\n",
    "                                  datasets['ood'],\n",
    "                                  genes_control=datasets['test_control'].genes, \n",
    "                                  dosages=dosages,\n",
    "                                  cell_lines=cell_lines,\n",
    "                                  use_DEGs=True,\n",
    "                                  verbose=False,\n",
    "                                 ) # non-pretrained\n",
    "\n",
    "drug_r2_scratch_all_jtvae, _ = compute_pred(model_scratch_jtvae,\n",
    "                                  datasets['ood'],\n",
    "                                  genes_control=datasets['test_control'].genes, \n",
    "                                  dosages=dosages,\n",
    "                                  cell_lines=cell_lines,\n",
    "                                  use_DEGs=False,\n",
    "                                  verbose=False,\n",
    "                                 ) # non-pretrained"
   ]
  },
  {
   "cell_type": "markdown",
   "id": "ee5e5221-efde-4c7f-8a48-1724d31e0986",
   "metadata": {},
   "source": [
    "# Combine results and create dataframe"
   ]
  },
  {
   "cell_type": "code",
   "execution_count": null,
   "id": "8d416bfb-e4ea-4322-a054-2d19b63baa24",
   "metadata": {},
   "outputs": [],
   "source": [
    "def create_df(drug_r2_baseline, \n",
    "              drug_r2_pretrained_rdkit, \n",
    "              drug_r2_scratch_rdkit,\n",
    "              drug_r2_pretrained_grover,\n",
    "              drug_r2_scratch_grover,\n",
    "              drug_r2_pretrained_jtvae,\n",
    "              drug_r2_scratch_jtvae,\n",
    "             ):\n",
    "    df_baseline = pd.DataFrame.from_dict(drug_r2_baseline, orient='index', columns=['r2_de'])\n",
    "    df_baseline['type'] = 'baseline'\n",
    "    df_baseline['model'] = 'baseline'\n",
    "    \n",
    "    df_pretrained_rdkit = pd.DataFrame.from_dict(drug_r2_pretrained_rdkit, orient='index', columns=['r2_de'])\n",
    "    df_pretrained_rdkit['type'] = 'pretrained'\n",
    "    df_pretrained_rdkit['model'] = 'rdkit'\n",
    "    df_scratch_rdkit = pd.DataFrame.from_dict(drug_r2_scratch_rdkit, orient='index', columns=['r2_de'])\n",
    "    df_scratch_rdkit['type'] = 'non-pretrained'\n",
    "    df_scratch_rdkit['model'] = 'rdkit'\n",
    "\n",
    "    df_pretrained_grover = pd.DataFrame.from_dict(drug_r2_pretrained_grover, orient='index', columns=['r2_de'])\n",
    "    df_pretrained_grover['type'] = 'pretrained'\n",
    "    df_pretrained_grover['model'] = 'grover'\n",
    "    df_scratch_grover = pd.DataFrame.from_dict(drug_r2_scratch_grover, orient='index', columns=['r2_de'])\n",
    "    df_scratch_grover['type'] = 'non-pretrained'\n",
    "    df_scratch_grover['model'] = 'grover'\n",
    "\n",
    "    df_pretrained_jtvae = pd.DataFrame.from_dict(drug_r2_pretrained_jtvae, orient='index', columns=['r2_de'])\n",
    "    df_pretrained_jtvae['type'] = 'pretrained'\n",
    "    df_pretrained_jtvae['model'] = 'jtvae'\n",
    "    df_scratch_jtvae = pd.DataFrame.from_dict(drug_r2_scratch_jtvae, orient='index', columns=['r2_de'])\n",
    "    df_scratch_jtvae['type'] = 'non-pretrained'\n",
    "    df_scratch_jtvae['model'] = 'jtvae'\n",
    "    \n",
    "    df = pd.concat([df_baseline, \n",
    "                    df_pretrained_rdkit, \n",
    "                    df_scratch_rdkit,\n",
    "                    df_pretrained_grover, \n",
    "                    df_scratch_grover,\n",
    "                    df_pretrained_jtvae, \n",
    "                    df_scratch_jtvae,\n",
    "                   ])\n",
    "\n",
    "    df['r2_de'] = df['r2_de'].apply(lambda x: max(x,0))\n",
    "    # df['delta'] = df['pretrained'] - df['scratch']\n",
    "    df['cell_line'] = pd.Series(df.index.values).apply(lambda x: x.split('_')[0]).values\n",
    "    df['drug'] = pd.Series(df.index.values).apply(lambda x: x.split('_')[1]).values\n",
    "    df['dose'] = pd.Series(df.index.values).apply(lambda x: x.split('_')[2]).values\n",
    "    df['dose'] = df['dose'].astype(float)\n",
    "\n",
    "#     df['combination'] = df.index.values\n",
    "#     assert (df[df.type=='pretrained'].combination == df[df.type=='non-pretrained'].combination).all()\n",
    "\n",
    "#     delta = (df[df.type=='pretrained'].r2_de - df[df.type=='non-pretrained'].r2_de).values \n",
    "#     df['delta'] = list(delta) + list(-delta) + [0]*len(delta)\n",
    "\n",
    "    df = df.reset_index()\n",
    "    return df"
   ]
  },
  {
   "cell_type": "code",
   "execution_count": null,
   "id": "57307e04-ce08-4a2b-8ed6-df61d397461b",
   "metadata": {},
   "outputs": [],
   "source": [
    "df_degs = create_df(drug_r2_baseline_degs, \n",
    "                    drug_r2_pretrained_degs_rdkit, \n",
    "                    drug_r2_scratch_degs_rdkit,\n",
    "                    drug_r2_pretrained_degs_grover,\n",
    "                    drug_r2_scratch_degs_grover,\n",
    "                    drug_r2_pretrained_degs_jtvae,\n",
    "                    drug_r2_scratch_degs_jtvae,\n",
    "                   )\n",
    "df_all = create_df(drug_r2_baseline_all, \n",
    "                   drug_r2_pretrained_all_rdkit, \n",
    "                   drug_r2_scratch_all_rdkit,\n",
    "                   drug_r2_pretrained_all_grover,\n",
    "                   drug_r2_scratch_all_grover,\n",
    "                   drug_r2_pretrained_all_jtvae,\n",
    "                   drug_r2_scratch_all_jtvae,)"
   ]
  },
  {
   "cell_type": "markdown",
   "id": "90551ddb-71b3-45a1-8253-f470764df179",
   "metadata": {},
   "source": [
    "## Compute mean and median across DEGs and all genes "
   ]
  },
  {
   "cell_type": "code",
   "execution_count": null,
   "id": "77f060a0-4be7-44de-976b-7ad59f60f80c",
   "metadata": {},
   "outputs": [],
   "source": [
    "r2_degs_mean = []\n",
    "for model, _df in df_degs.groupby(['model', 'type','dose']): \n",
    "    dose = model[2]\n",
    "    if dose == 1.0:\n",
    "        print(f\"Model: {model}, R2 mean: {_df.r2_de.mean()}\")\n",
    "        r2_degs_mean.append(_df.r2_de.mean())"
   ]
  },
  {
   "cell_type": "code",
   "execution_count": null,
   "id": "ec7728eb-3b75-4e2e-90ab-91948b65eaf7",
   "metadata": {},
   "outputs": [],
   "source": [
    "r2_all_mean = []\n",
    "for model, _df in df_all.groupby(['model', 'type','dose']): \n",
    "    dose = model[2]\n",
    "    if dose == 1.0:\n",
    "        print(f\"Model: {model}, R2 mean: {_df.r2_de.mean()}\")\n",
    "        r2_all_mean.append(_df.r2_de.mean())"
   ]
  },
  {
   "cell_type": "code",
   "execution_count": null,
   "id": "ea2172f4-f07e-42cb-bc17-cd6e115c111c",
   "metadata": {},
   "outputs": [],
   "source": [
    "r2_degs_median = []\n",
    "for model, _df in df_degs.groupby(['model', 'type','dose']): \n",
    "    dose = model[2]\n",
    "    if dose == 1.0:\n",
    "        print(f\"Model: {model}, R2 median: {_df.r2_de.median()}\")\n",
    "        r2_degs_median.append(_df.r2_de.median())"
   ]
  },
  {
   "cell_type": "code",
   "execution_count": null,
   "id": "b9ac16cd-f01c-4049-a408-9fef0a6c779d",
   "metadata": {},
   "outputs": [],
   "source": [
    "r2_all_median = []\n",
    "model = []\n",
    "model_type = []\n",
    "for _model, _df in df_all.groupby(['model', 'type','dose']): \n",
    "    dose = _model[2]\n",
    "    if dose == 1.0:\n",
    "        print(f\"Model: {_model}, R2 median: {_df.r2_de.median()}\")\n",
    "        r2_all_median.append(_df.r2_de.median())\n",
    "        model.append(_model[0])\n",
    "        model_type.append(_model[1])"
   ]
  },
  {
   "cell_type": "markdown",
   "id": "c15b36de-e007-4ff5-820a-d178d6178de0",
   "metadata": {},
   "source": [
    "# Compute Table 3"
   ]
  },
  {
   "cell_type": "code",
   "execution_count": null,
   "id": "a51915f6-72b5-4565-909e-30603fe9e82b",
   "metadata": {},
   "outputs": [],
   "source": [
    "df_dict = {\n",
    "    \"Model\": model, \n",
    "    \"Type\": model_type,\n",
    "    \"Mean $r^2$ all\": r2_all_mean,\n",
    "    \"Mean $r^2$ DEGs\": r2_degs_mean,\n",
    "    \"Median $r^2$ all\": r2_all_median,\n",
    "    \"Median $r^2$ DEGs\": r2_degs_median\n",
    "}\n",
    "\n",
    "df = pd.DataFrame.from_dict(df_dict)\n",
    "df = df.set_index('Model')"
   ]
  },
  {
   "cell_type": "code",
   "execution_count": null,
   "id": "65960f22-3528-4236-81cd-ce4f8b117dc9",
   "metadata": {},
   "outputs": [],
   "source": [
    "print(df.to_latex(float_format=\"%.2f\"))"
   ]
  },
  {
   "cell_type": "markdown",
   "id": "2f0a0bef-3c03-4eee-abbf-2ab3dd23540b",
   "metadata": {},
   "source": [
    "____\n",
    "# Compute Supplement Table 10"
   ]
  },
  {
   "cell_type": "markdown",
   "id": "527f1d87-a646-424d-b0d8-e703acea7c89",
   "metadata": {},
   "source": [
    "Calculations"
   ]
  },
  {
   "cell_type": "code",
   "execution_count": null,
   "id": "cf4b5f70-32f5-490b-83fc-5ac4b765ebac",
   "metadata": {},
   "outputs": [],
   "source": [
    "dose = 1.0\n",
    "vs_model = 'baseline'\n",
    "\n",
    "models = []\n",
    "gene_set = []\n",
    "p_values = [] \n",
    "vs_models = []\n",
    "\n",
    "\n",
    "for model in ['rdkit', 'grover', 'jtvae']:\n",
    "    for vs_model in ['baseline', \"non-pretrained\"]:\n",
    "        _df = df_all[df_all.model.isin([vs_model, model])]\n",
    "        _df = _df[_df.type.isin(['pretrained', vs_model]) & (_df.dose == dose)]\n",
    "    #     display(_df)\n",
    "        stat, pvalue = scipy.stats.ttest_rel(\n",
    "            _df[(_df.type == 'pretrained') & (_df.dose == dose)].r2_de,\n",
    "            _df[(_df.type == vs_model) & (_df.dose == dose)].r2_de,\n",
    "        )\n",
    "    #     print(f\"Model: {model}, p-value: {pvalue}\")\n",
    "        models.append(model)\n",
    "        gene_set.append('all genes')\n",
    "        p_values.append(pvalue)\n",
    "        vs_models.append(vs_model)\n",
    "\n",
    "        _df = df_degs[df_degs.model.isin(['baseline', model])]\n",
    "        _df = _df[_df.type.isin(['pretrained', vs_model]) & (_df.dose == dose)]\n",
    "    #     display(_df)\n",
    "        stat, pvalue = scipy.stats.ttest_rel(\n",
    "            _df[(_df.type == 'pretrained') & (_df.dose == dose)].r2_de,\n",
    "            _df[(_df.type == vs_model) & (_df.dose == dose)].r2_de,\n",
    "        )\n",
    "    #     print(f\"Model: {model}, p-value: {pvalue}\")\n",
    "        models.append(model)\n",
    "        gene_set.append('DEGs')\n",
    "        p_values.append(pvalue)\n",
    "        vs_models.append(vs_model)"
   ]
  },
  {
   "cell_type": "code",
   "execution_count": null,
   "id": "710a2837-2308-4e87-b430-b99a9238704b",
   "metadata": {},
   "outputs": [],
   "source": [
    "df_dict = {\n",
    "    \"Model $G$\": models,\n",
    "    \"Against\": vs_models,\n",
    "    \"Gene set\": gene_set,\n",
    "    \"p-value\": p_values\n",
    "}\n",
    "\n",
    "df = pd.DataFrame.from_dict(df_dict)\n",
    "df = df.set_index('Model $G$')"
   ]
  },
  {
   "cell_type": "markdown",
   "id": "6dfb10ff-b103-4fc0-bf9a-421413813c90",
   "metadata": {},
   "source": [
    "Print table"
   ]
  },
  {
   "cell_type": "code",
   "execution_count": null,
   "id": "592cb897-a4e4-4936-a8ea-2c5d33a07c2a",
   "metadata": {},
   "outputs": [],
   "source": [
    "print(df.to_latex(float_format=\"%.4f\"))"
   ]
  },
  {
   "cell_type": "markdown",
   "id": "0b31d021-8db1-4633-82ec-079140e0b41f",
   "metadata": {},
   "source": [
    "____"
   ]
  },
  {
   "cell_type": "code",
   "execution_count": null,
   "id": "dfac0d63-c10e-4640-8661-363ba16c8da4",
   "metadata": {},
   "outputs": [],
   "source": []
  }
 ],
 "metadata": {
  "kernelspec": {
   "display_name": "chemCPA",
   "language": "python",
   "name": "chemcpa"
  },
  "language_info": {
   "codemirror_mode": {
    "name": "ipython",
    "version": 3
   },
   "file_extension": ".py",
   "mimetype": "text/x-python",
   "name": "python",
   "nbconvert_exporter": "python",
   "pygments_lexer": "ipython3",
   "version": "3.7.12"
  }
 },
 "nbformat": 4,
 "nbformat_minor": 5
}

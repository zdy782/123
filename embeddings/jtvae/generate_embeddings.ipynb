{
 "cells": [
  {
   "cell_type": "markdown",
   "metadata": {},
   "source": [
    "# JTVAE embedding\n",
    "This is a molecule embedding using the JunctionTree VAE, as implemented in DGLLifeSci.\n",
    "\n",
    "It's pretrained on LINCS + Trapnell + half of ZINC (~220K molecules total).\n",
    "LINCS contains a `Cl.[Li]` molecule which fails during encoding, so it just gets a dummy encoding."
   ]
  },
  {
   "cell_type": "code",
   "execution_count": 1,
   "metadata": {},
   "outputs": [
    {
     "name": "stderr",
     "output_type": "stream",
     "text": [
      "[Using backend: pytorch\n",
      "07:37:25] /opt/dgl/src/runtime/tensordispatch.cc:43: TensorDispatcher: dlopen failed: /home/icb/simon.boehm/miniconda3/envs/jtvae_dgl/lib/python3.7/site-packages/dgl/tensoradapter/pytorch/libtensoradapter_pytorch_1.10.1.so: cannot open shared object file: No such file or directory\n"
     ]
    },
    {
     "name": "stdout",
     "output_type": "stream",
     "text": [
      "2018.09.3\n",
      "1.10.1\n"
     ]
    }
   ],
   "source": [
    "import pickle\n",
    "\n",
    "import pandas as pd\n",
    "import rdkit\n",
    "import torch\n",
    "from dgllife.data import JTVAEDataset, JTVAECollator\n",
    "from dgllife.model import load_pretrained\n",
    "from tqdm import tqdm\n",
    "\n",
    "print(rdkit.__version__)\n",
    "print(torch.__version__)\n",
    "assert torch.cuda.is_available()"
   ]
  },
  {
   "cell_type": "code",
   "execution_count": 2,
   "metadata": {
    "pycharm": {
     "name": "#%%\n"
    }
   },
   "outputs": [],
   "source": [
    "from dgllife.model import JTNNVAE\n",
    "\n",
    "from_pretrained = False\n",
    "if from_pretrained:\n",
    "    model = load_pretrained(\"JTVAE_ZINC_no_kl\")\n",
    "else:\n",
    "    trainfile = \"data/train_077a9bedefe77f2a34187eb57be2d416.txt\"\n",
    "    modelfile = \"data/model-vaetrain-final.pt\"\n",
    "    vocabfile = \"data/vocab-final.pkl\"\n",
    "\n",
    "    with open(vocabfile, \"rb\") as f:\n",
    "        vocab = pickle.load(f)\n",
    "\n",
    "    model = JTNNVAE(vocab=vocab,\n",
    "                    hidden_size=450,\n",
    "                    latent_size=56,\n",
    "                    depth=3)\n",
    "    model.load_state_dict(torch.load(modelfile, map_location=\"cpu\"))\n"
   ]
  },
  {
   "cell_type": "code",
   "execution_count": 3,
   "metadata": {
    "pycharm": {
     "name": "#%%\n"
    }
   },
   "outputs": [],
   "source": [
    "model = model.to(\"cuda\")"
   ]
  },
  {
   "cell_type": "code",
   "execution_count": 4,
   "metadata": {
    "pycharm": {
     "name": "#%%\n"
    }
   },
   "outputs": [],
   "source": [
    "smiles = pd.read_csv(\"../lincs_trapnell.smiles\")\n",
    "# need to remove the header, before passing it to JTVAE\n",
    "smiles.to_csv(\"jtvae_dataset.smiles\", index=False, header=None)"
   ]
  },
  {
   "cell_type": "code",
   "execution_count": 5,
   "metadata": {
    "pycharm": {
     "name": "#%%\n"
    }
   },
   "outputs": [],
   "source": [
    "dataset = JTVAEDataset(\"jtvae_dataset.smiles\", vocab=model.vocab, training=False)\n",
    "collator = JTVAECollator(training=False)\n",
    "dataloader = torch.utils.data.DataLoader(dataset, batch_size=1, shuffle=False, collate_fn=collator, drop_last=True)"
   ]
  },
  {
   "cell_type": "markdown",
   "metadata": {},
   "source": [
    "## Reconstruction demo\n",
    "Reconstruct a couple of molecules to check reconstruction performance (it's not good)."
   ]
  },
  {
   "cell_type": "code",
   "execution_count": 6,
   "metadata": {
    "pycharm": {
     "name": "#%%\n"
    }
   },
   "outputs": [
    {
     "name": "stderr",
     "output_type": "stream",
     "text": [
      "/home/icb/simon.boehm/miniconda3/envs/jtvae_dgl/lib/python3.7/site-packages/dgl/base.py:45: DGLWarning: The input graph for the user-defined edge function does not contain valid edges\n",
      "  return warnings.warn(message, category=category, stacklevel=1)\n"
     ]
    },
    {
     "name": "stdout",
     "output_type": "stream",
     "text": [
      "C[C@H](C#N)NC(=O)c1oc(-c2ccccc2)cc1C(F)F\n",
      "C[C@H](NC(=O)/C(C#N)=C/c1cccc(Br)n1)c1ccccc1\n",
      "\n",
      "Cc1nn(C)c(C)c1Cn1nc(-c2ccc(Cl)c(F)c2)ccc1=S\n",
      "Cc1cc(Nc2cc(CN3CCOCC3)c3nc(C)c(Cc4ccc(Cl)cc4F)n3n2)[nH]n1\n",
      "\n",
      "Cc1cc(-n2nccc2C(=O)NCc2ccc3ccc(Cl)cc3n2)ccc1F\n",
      "Cc1cc(N2CCOCC2)cc2[nH]c(-c3c(NCC(O)c4cccc(Cl)c4)cc[nH]c3=O)nc12\n",
      "\n",
      "Cc1ccc(N2CCC(NC3CC3)CC2)cc1\n",
      "Cl.Cl.c1ccc([C@@H]2C[C@H]2NC2CCNCC2)cc1\n",
      "\n",
      "O=C(/C=C/c1ccc2cccnc2c1)N1CCNCC1=O\n",
      "O=C(c1ccc(/C=C/c2n[nH]c3ccccc23)cc1)N1CCNCC1\n",
      "\n",
      "C[C@H]1C[C@@H](N2N=C(C(=O)Cc3ccccc3)NC2(C)C)CC[C@H]1C\n",
      "Cc1nnc(C(C)C)n1C1CC2CCC(C1)N2CCC(NC(=O)C1CCC(F)(F)CC1)c1ccccc1\n",
      "\n",
      "C[C@H](N)CN1CCC[C@@H]2CCC[C@H]([C@H](O)CO)[C@@H]21\n",
      "NC(=O)c1ncn([C@@H]2O[C@H](CO)[C@@H](O)[C@H]2O)c1N\n",
      "\n",
      "N#CCNC(=O)c1ccc(Nc2cnc(N3CCCC3)nc2)cc1\n",
      "N#CCNC(=O)c1ccc(-c2ccnc(Nc3ccc(N4CCOCC4)cc3)n2)cc1\n",
      "\n",
      "C#Cc1ccc(NC(=O)NO)c(OC)c1\n",
      "C#Cc1cccc(Nc2ncnc3cc(OC)c(OCCCCCCC(=O)NO)cc23)c1\n",
      "\n",
      "O=C(CN1C(=O)C=C(c2ccccc2)C12CC=CC2)N1CCCCC1\n",
      "O=C1CCC(N2C(=O)c3ccccc3C2=O)C(=O)N1\n",
      "\n",
      "NC(=O)c1cc(-c2cccc(Cl)c2OCc2cccs2)[nH]c(=O)c1\n",
      "NC(=O)C1CCCc2c1[nH]c1ccc(Cl)cc21\n",
      "\n",
      "Final acc: 0.0000\n"
     ]
    }
   ],
   "source": [
    "acc = 0.0\n",
    "device=\"cuda\"\n",
    "for it, (tree, tree_graph, mol_graph) in enumerate(dataloader):\n",
    "    if it > 10:\n",
    "        break\n",
    "    tot = it + 1\n",
    "    smiles = tree.smiles\n",
    "    tree_graph = tree_graph.to(device)\n",
    "    mol_graph = mol_graph.to(device)\n",
    "    dec_smiles = model.reconstruct(tree_graph, mol_graph)\n",
    "    print(dec_smiles)\n",
    "    print(smiles)\n",
    "    print()\n",
    "    if dec_smiles == smiles:\n",
    "        acc += 1\n",
    "print('Final acc: {:.4f}'.format(acc / tot))"
   ]
  },
  {
   "cell_type": "markdown",
   "metadata": {},
   "source": [
    "## Generate embeddings for all LINCS + Trapnell molecules"
   ]
  },
  {
   "cell_type": "code",
   "execution_count": 7,
   "metadata": {
    "pycharm": {
     "is_executing": true,
     "name": "#%%\n"
    }
   },
   "outputs": [
    {
     "name": "stderr",
     "output_type": "stream",
     "text": [
      "100%|██████████████████████████████████████████████████████████████████████████████████████████████████████████████████| 17869/17869 [1:10:38<00:00,  4.22it/s]\n"
     ]
    }
   ],
   "source": [
    "get_data = lambda idx: collator([dataset[idx]])\n",
    "errors = []\n",
    "smiles = []\n",
    "latents = []\n",
    "for i in tqdm(range(len(dataset))):\n",
    "    try:\n",
    "        _, batch_tree_graphs, batch_mol_graphs = get_data(i)\n",
    "        batch_tree_graphs = batch_tree_graphs.to(\"cuda\")\n",
    "        batch_mol_graphs = batch_mol_graphs.to(\"cuda\")\n",
    "        with torch.no_grad():\n",
    "            _, tree_vec, mol_vec = model.encode(batch_tree_graphs, batch_mol_graphs)\n",
    "        latent = torch.cat([model.T_mean(tree_vec), model.G_mean(mol_vec)], dim=1)\n",
    "        latents.append(latent)\n",
    "        smiles.append(dataset.data[i])\n",
    "    except Exception as e:\n",
    "        errors.append((dataset.data[i], e))"
   ]
  },
  {
   "cell_type": "code",
   "execution_count": 8,
   "metadata": {
    "pycharm": {
     "is_executing": true,
     "name": "#%%\n"
    }
   },
   "outputs": [
    {
     "data": {
      "text/plain": [
       "[('Cl.[Li]', KeyError('x'))]"
      ]
     },
     "execution_count": 8,
     "metadata": {},
     "output_type": "execute_result"
    }
   ],
   "source": [
    "# There should only be one error, a Cl.[Li] molecule.\n",
    "errors"
   ]
  },
  {
   "cell_type": "code",
   "execution_count": 9,
   "metadata": {
    "pycharm": {
     "is_executing": true,
     "name": "#%%\n"
    }
   },
   "outputs": [],
   "source": [
    "# Add a dummy embedding for the Cl.[Li] molecule\n",
    "dummy_emb = torch.mean(torch.concat(latents), dim=0).unsqueeze(dim=0)\n",
    "assert dummy_emb.shape == latents[0].shape\n",
    "smiles.append(errors[0][0])\n",
    "latents.append(dummy_emb)\n",
    "assert len(latents) == len(smiles)"
   ]
  },
  {
   "cell_type": "code",
   "execution_count": 10,
   "metadata": {
    "pycharm": {
     "is_executing": true,
     "name": "#%%\n"
    }
   },
   "outputs": [],
   "source": [
    "np_latents = [latent.squeeze().cpu().detach().numpy() for latent in latents]\n",
    "final_df = pd.DataFrame(np_latents, index=smiles,\n",
    "                        columns=[f\"latent_{i + 1}\" for i in range(np_latents[0].shape[0])])\n",
    "final_df.to_parquet(\"data/jtvae_dgl.parquet\")"
   ]
  },
  {
   "cell_type": "code",
   "execution_count": 11,
   "metadata": {
    "pycharm": {
     "is_executing": true,
     "name": "#%%\n"
    }
   },
   "outputs": [
    {
     "data": {
      "text/html": [
       "<div>\n",
       "<style scoped>\n",
       "    .dataframe tbody tr th:only-of-type {\n",
       "        vertical-align: middle;\n",
       "    }\n",
       "\n",
       "    .dataframe tbody tr th {\n",
       "        vertical-align: top;\n",
       "    }\n",
       "\n",
       "    .dataframe thead th {\n",
       "        text-align: right;\n",
       "    }\n",
       "</style>\n",
       "<table border=\"1\" class=\"dataframe\">\n",
       "  <thead>\n",
       "    <tr style=\"text-align: right;\">\n",
       "      <th></th>\n",
       "      <th>latent_1</th>\n",
       "      <th>latent_2</th>\n",
       "      <th>latent_3</th>\n",
       "      <th>latent_4</th>\n",
       "      <th>latent_5</th>\n",
       "      <th>latent_6</th>\n",
       "      <th>latent_7</th>\n",
       "      <th>latent_8</th>\n",
       "      <th>latent_9</th>\n",
       "      <th>latent_10</th>\n",
       "      <th>...</th>\n",
       "      <th>latent_47</th>\n",
       "      <th>latent_48</th>\n",
       "      <th>latent_49</th>\n",
       "      <th>latent_50</th>\n",
       "      <th>latent_51</th>\n",
       "      <th>latent_52</th>\n",
       "      <th>latent_53</th>\n",
       "      <th>latent_54</th>\n",
       "      <th>latent_55</th>\n",
       "      <th>latent_56</th>\n",
       "    </tr>\n",
       "  </thead>\n",
       "  <tbody>\n",
       "    <tr>\n",
       "      <th>C[C@H](NC(=O)/C(C#N)=C/c1cccc(Br)n1)c1ccccc1</th>\n",
       "      <td>-1.574519</td>\n",
       "      <td>-6.199383</td>\n",
       "      <td>0.361449</td>\n",
       "      <td>-2.896032</td>\n",
       "      <td>0.508433</td>\n",
       "      <td>-2.463944</td>\n",
       "      <td>-2.274414</td>\n",
       "      <td>0.915923</td>\n",
       "      <td>-1.768996</td>\n",
       "      <td>-5.671151</td>\n",
       "      <td>...</td>\n",
       "      <td>-0.381136</td>\n",
       "      <td>0.114776</td>\n",
       "      <td>0.461026</td>\n",
       "      <td>-0.232696</td>\n",
       "      <td>0.149239</td>\n",
       "      <td>0.008222</td>\n",
       "      <td>0.064641</td>\n",
       "      <td>1.459532</td>\n",
       "      <td>-0.240004</td>\n",
       "      <td>0.192129</td>\n",
       "    </tr>\n",
       "    <tr>\n",
       "      <th>Cc1cc(Nc2cc(CN3CCOCC3)c3nc(C)c(Cc4ccc(Cl)cc4F)n3n2)[nH]n1</th>\n",
       "      <td>2.289662</td>\n",
       "      <td>5.075178</td>\n",
       "      <td>4.964231</td>\n",
       "      <td>-7.993801</td>\n",
       "      <td>-1.601092</td>\n",
       "      <td>7.161238</td>\n",
       "      <td>2.391373</td>\n",
       "      <td>-3.190383</td>\n",
       "      <td>1.082587</td>\n",
       "      <td>-9.432123</td>\n",
       "      <td>...</td>\n",
       "      <td>-0.269714</td>\n",
       "      <td>0.135338</td>\n",
       "      <td>0.240984</td>\n",
       "      <td>-0.346155</td>\n",
       "      <td>0.155523</td>\n",
       "      <td>0.214027</td>\n",
       "      <td>-0.142053</td>\n",
       "      <td>1.222742</td>\n",
       "      <td>-0.241584</td>\n",
       "      <td>0.011364</td>\n",
       "    </tr>\n",
       "    <tr>\n",
       "      <th>Cc1cc(N2CCOCC2)cc2[nH]c(-c3c(NCC(O)c4cccc(Cl)c4)cc[nH]c3=O)nc12</th>\n",
       "      <td>4.548813</td>\n",
       "      <td>3.436257</td>\n",
       "      <td>6.246993</td>\n",
       "      <td>-2.812740</td>\n",
       "      <td>-4.044300</td>\n",
       "      <td>2.656566</td>\n",
       "      <td>2.754469</td>\n",
       "      <td>-3.622663</td>\n",
       "      <td>-4.065948</td>\n",
       "      <td>-6.316630</td>\n",
       "      <td>...</td>\n",
       "      <td>-0.285767</td>\n",
       "      <td>0.132375</td>\n",
       "      <td>0.272686</td>\n",
       "      <td>-0.329809</td>\n",
       "      <td>0.154618</td>\n",
       "      <td>0.184377</td>\n",
       "      <td>-0.112274</td>\n",
       "      <td>1.256856</td>\n",
       "      <td>-0.241356</td>\n",
       "      <td>0.037407</td>\n",
       "    </tr>\n",
       "    <tr>\n",
       "      <th>Cl.Cl.c1ccc([C@@H]2C[C@H]2NC2CCNCC2)cc1</th>\n",
       "      <td>5.660413</td>\n",
       "      <td>4.218781</td>\n",
       "      <td>2.332154</td>\n",
       "      <td>-2.789022</td>\n",
       "      <td>1.138375</td>\n",
       "      <td>0.966016</td>\n",
       "      <td>-2.565607</td>\n",
       "      <td>1.725014</td>\n",
       "      <td>-3.196076</td>\n",
       "      <td>1.320138</td>\n",
       "      <td>...</td>\n",
       "      <td>-0.243737</td>\n",
       "      <td>0.120570</td>\n",
       "      <td>0.182537</td>\n",
       "      <td>-0.232914</td>\n",
       "      <td>0.121171</td>\n",
       "      <td>0.276718</td>\n",
       "      <td>-0.018734</td>\n",
       "      <td>1.226653</td>\n",
       "      <td>-0.262646</td>\n",
       "      <td>0.031372</td>\n",
       "    </tr>\n",
       "    <tr>\n",
       "      <th>O=C(c1ccc(/C=C/c2n[nH]c3ccccc23)cc1)N1CCNCC1</th>\n",
       "      <td>-3.375466</td>\n",
       "      <td>2.009230</td>\n",
       "      <td>8.609015</td>\n",
       "      <td>-2.512949</td>\n",
       "      <td>-3.200943</td>\n",
       "      <td>-3.950001</td>\n",
       "      <td>-2.787516</td>\n",
       "      <td>2.496357</td>\n",
       "      <td>6.775537</td>\n",
       "      <td>2.045950</td>\n",
       "      <td>...</td>\n",
       "      <td>-0.299430</td>\n",
       "      <td>0.129854</td>\n",
       "      <td>0.299669</td>\n",
       "      <td>-0.315896</td>\n",
       "      <td>0.153847</td>\n",
       "      <td>0.159139</td>\n",
       "      <td>-0.086928</td>\n",
       "      <td>1.285893</td>\n",
       "      <td>-0.241162</td>\n",
       "      <td>0.059574</td>\n",
       "    </tr>\n",
       "    <tr>\n",
       "      <th>...</th>\n",
       "      <td>...</td>\n",
       "      <td>...</td>\n",
       "      <td>...</td>\n",
       "      <td>...</td>\n",
       "      <td>...</td>\n",
       "      <td>...</td>\n",
       "      <td>...</td>\n",
       "      <td>...</td>\n",
       "      <td>...</td>\n",
       "      <td>...</td>\n",
       "      <td>...</td>\n",
       "      <td>...</td>\n",
       "      <td>...</td>\n",
       "      <td>...</td>\n",
       "      <td>...</td>\n",
       "      <td>...</td>\n",
       "      <td>...</td>\n",
       "      <td>...</td>\n",
       "      <td>...</td>\n",
       "      <td>...</td>\n",
       "      <td>...</td>\n",
       "    </tr>\n",
       "    <tr>\n",
       "      <th>Cc1cc(CS(=O)(=O)c2ccccc2)cc(OCc2ccc(CN3CCC[C@@H]3CO)cc2)c1</th>\n",
       "      <td>5.240765</td>\n",
       "      <td>2.263940</td>\n",
       "      <td>8.101819</td>\n",
       "      <td>0.707216</td>\n",
       "      <td>-2.464874</td>\n",
       "      <td>-3.738584</td>\n",
       "      <td>-2.760966</td>\n",
       "      <td>3.972898</td>\n",
       "      <td>0.451858</td>\n",
       "      <td>2.640987</td>\n",
       "      <td>...</td>\n",
       "      <td>-0.327352</td>\n",
       "      <td>0.124701</td>\n",
       "      <td>0.354811</td>\n",
       "      <td>-0.287463</td>\n",
       "      <td>0.152272</td>\n",
       "      <td>0.107565</td>\n",
       "      <td>-0.035130</td>\n",
       "      <td>1.345232</td>\n",
       "      <td>-0.240767</td>\n",
       "      <td>0.104873</td>\n",
       "    </tr>\n",
       "    <tr>\n",
       "      <th>CN(C)CCOc1ccc(/C(=C(\\CCCl)c2ccccc2)c2ccccc2)cc1</th>\n",
       "      <td>-1.581464</td>\n",
       "      <td>5.444716</td>\n",
       "      <td>9.411486</td>\n",
       "      <td>-4.419342</td>\n",
       "      <td>-3.032458</td>\n",
       "      <td>-5.367414</td>\n",
       "      <td>2.688151</td>\n",
       "      <td>0.213778</td>\n",
       "      <td>1.863454</td>\n",
       "      <td>2.824382</td>\n",
       "      <td>...</td>\n",
       "      <td>-0.309993</td>\n",
       "      <td>0.127905</td>\n",
       "      <td>0.320529</td>\n",
       "      <td>-0.305140</td>\n",
       "      <td>0.153251</td>\n",
       "      <td>0.139629</td>\n",
       "      <td>-0.067333</td>\n",
       "      <td>1.308341</td>\n",
       "      <td>-0.241013</td>\n",
       "      <td>0.076711</td>\n",
       "    </tr>\n",
       "    <tr>\n",
       "      <th>CC1(C)C=Cc2c(ccc3c2[N+]([O-])=C2C3=C[C@@]34NC(=O)[C@]5(CCCN5C3=O)C[C@H]4C2(C)C)O1</th>\n",
       "      <td>0.949761</td>\n",
       "      <td>-2.565722</td>\n",
       "      <td>2.936663</td>\n",
       "      <td>0.848347</td>\n",
       "      <td>-4.364933</td>\n",
       "      <td>5.616033</td>\n",
       "      <td>-1.832742</td>\n",
       "      <td>2.019709</td>\n",
       "      <td>2.333825</td>\n",
       "      <td>-2.484026</td>\n",
       "      <td>...</td>\n",
       "      <td>-0.246827</td>\n",
       "      <td>0.139561</td>\n",
       "      <td>0.195786</td>\n",
       "      <td>-0.369461</td>\n",
       "      <td>0.156814</td>\n",
       "      <td>0.256302</td>\n",
       "      <td>-0.184509</td>\n",
       "      <td>1.174103</td>\n",
       "      <td>-0.241908</td>\n",
       "      <td>-0.025767</td>\n",
       "    </tr>\n",
       "    <tr>\n",
       "      <th>C[C@@H]1CC(=O)NN=C1c1ccc(N)c([N+](=O)[O-])c1</th>\n",
       "      <td>4.238235</td>\n",
       "      <td>3.362757</td>\n",
       "      <td>2.420582</td>\n",
       "      <td>-6.184925</td>\n",
       "      <td>-3.117164</td>\n",
       "      <td>6.042106</td>\n",
       "      <td>1.130967</td>\n",
       "      <td>3.782147</td>\n",
       "      <td>0.415811</td>\n",
       "      <td>1.656704</td>\n",
       "      <td>...</td>\n",
       "      <td>-0.306768</td>\n",
       "      <td>0.128500</td>\n",
       "      <td>0.314160</td>\n",
       "      <td>-0.308424</td>\n",
       "      <td>0.153433</td>\n",
       "      <td>0.145586</td>\n",
       "      <td>-0.073316</td>\n",
       "      <td>1.301487</td>\n",
       "      <td>-0.241058</td>\n",
       "      <td>0.071478</td>\n",
       "    </tr>\n",
       "    <tr>\n",
       "      <th>Cl.[Li]</th>\n",
       "      <td>-1.037341</td>\n",
       "      <td>-1.194289</td>\n",
       "      <td>4.767533</td>\n",
       "      <td>0.688060</td>\n",
       "      <td>-2.160558</td>\n",
       "      <td>-0.557573</td>\n",
       "      <td>-1.440891</td>\n",
       "      <td>-0.128036</td>\n",
       "      <td>2.819619</td>\n",
       "      <td>-0.624751</td>\n",
       "      <td>...</td>\n",
       "      <td>-0.284605</td>\n",
       "      <td>0.131614</td>\n",
       "      <td>0.270461</td>\n",
       "      <td>-0.328737</td>\n",
       "      <td>0.153752</td>\n",
       "      <td>0.184429</td>\n",
       "      <td>-0.113154</td>\n",
       "      <td>1.253122</td>\n",
       "      <td>-0.241295</td>\n",
       "      <td>0.036289</td>\n",
       "    </tr>\n",
       "  </tbody>\n",
       "</table>\n",
       "<p>17869 rows × 56 columns</p>\n",
       "</div>"
      ],
      "text/plain": [
       "                                                    latent_1  latent_2  \\\n",
       "C[C@H](NC(=O)/C(C#N)=C/c1cccc(Br)n1)c1ccccc1       -1.574519 -6.199383   \n",
       "Cc1cc(Nc2cc(CN3CCOCC3)c3nc(C)c(Cc4ccc(Cl)cc4F)n...  2.289662  5.075178   \n",
       "Cc1cc(N2CCOCC2)cc2[nH]c(-c3c(NCC(O)c4cccc(Cl)c4...  4.548813  3.436257   \n",
       "Cl.Cl.c1ccc([C@@H]2C[C@H]2NC2CCNCC2)cc1             5.660413  4.218781   \n",
       "O=C(c1ccc(/C=C/c2n[nH]c3ccccc23)cc1)N1CCNCC1       -3.375466  2.009230   \n",
       "...                                                      ...       ...   \n",
       "Cc1cc(CS(=O)(=O)c2ccccc2)cc(OCc2ccc(CN3CCC[C@@H...  5.240765  2.263940   \n",
       "CN(C)CCOc1ccc(/C(=C(\\CCCl)c2ccccc2)c2ccccc2)cc1    -1.581464  5.444716   \n",
       "CC1(C)C=Cc2c(ccc3c2[N+]([O-])=C2C3=C[C@@]34NC(=...  0.949761 -2.565722   \n",
       "C[C@@H]1CC(=O)NN=C1c1ccc(N)c([N+](=O)[O-])c1        4.238235  3.362757   \n",
       "Cl.[Li]                                            -1.037341 -1.194289   \n",
       "\n",
       "                                                    latent_3  latent_4  \\\n",
       "C[C@H](NC(=O)/C(C#N)=C/c1cccc(Br)n1)c1ccccc1        0.361449 -2.896032   \n",
       "Cc1cc(Nc2cc(CN3CCOCC3)c3nc(C)c(Cc4ccc(Cl)cc4F)n...  4.964231 -7.993801   \n",
       "Cc1cc(N2CCOCC2)cc2[nH]c(-c3c(NCC(O)c4cccc(Cl)c4...  6.246993 -2.812740   \n",
       "Cl.Cl.c1ccc([C@@H]2C[C@H]2NC2CCNCC2)cc1             2.332154 -2.789022   \n",
       "O=C(c1ccc(/C=C/c2n[nH]c3ccccc23)cc1)N1CCNCC1        8.609015 -2.512949   \n",
       "...                                                      ...       ...   \n",
       "Cc1cc(CS(=O)(=O)c2ccccc2)cc(OCc2ccc(CN3CCC[C@@H...  8.101819  0.707216   \n",
       "CN(C)CCOc1ccc(/C(=C(\\CCCl)c2ccccc2)c2ccccc2)cc1     9.411486 -4.419342   \n",
       "CC1(C)C=Cc2c(ccc3c2[N+]([O-])=C2C3=C[C@@]34NC(=...  2.936663  0.848347   \n",
       "C[C@@H]1CC(=O)NN=C1c1ccc(N)c([N+](=O)[O-])c1        2.420582 -6.184925   \n",
       "Cl.[Li]                                             4.767533  0.688060   \n",
       "\n",
       "                                                    latent_5  latent_6  \\\n",
       "C[C@H](NC(=O)/C(C#N)=C/c1cccc(Br)n1)c1ccccc1        0.508433 -2.463944   \n",
       "Cc1cc(Nc2cc(CN3CCOCC3)c3nc(C)c(Cc4ccc(Cl)cc4F)n... -1.601092  7.161238   \n",
       "Cc1cc(N2CCOCC2)cc2[nH]c(-c3c(NCC(O)c4cccc(Cl)c4... -4.044300  2.656566   \n",
       "Cl.Cl.c1ccc([C@@H]2C[C@H]2NC2CCNCC2)cc1             1.138375  0.966016   \n",
       "O=C(c1ccc(/C=C/c2n[nH]c3ccccc23)cc1)N1CCNCC1       -3.200943 -3.950001   \n",
       "...                                                      ...       ...   \n",
       "Cc1cc(CS(=O)(=O)c2ccccc2)cc(OCc2ccc(CN3CCC[C@@H... -2.464874 -3.738584   \n",
       "CN(C)CCOc1ccc(/C(=C(\\CCCl)c2ccccc2)c2ccccc2)cc1    -3.032458 -5.367414   \n",
       "CC1(C)C=Cc2c(ccc3c2[N+]([O-])=C2C3=C[C@@]34NC(=... -4.364933  5.616033   \n",
       "C[C@@H]1CC(=O)NN=C1c1ccc(N)c([N+](=O)[O-])c1       -3.117164  6.042106   \n",
       "Cl.[Li]                                            -2.160558 -0.557573   \n",
       "\n",
       "                                                    latent_7  latent_8  \\\n",
       "C[C@H](NC(=O)/C(C#N)=C/c1cccc(Br)n1)c1ccccc1       -2.274414  0.915923   \n",
       "Cc1cc(Nc2cc(CN3CCOCC3)c3nc(C)c(Cc4ccc(Cl)cc4F)n...  2.391373 -3.190383   \n",
       "Cc1cc(N2CCOCC2)cc2[nH]c(-c3c(NCC(O)c4cccc(Cl)c4...  2.754469 -3.622663   \n",
       "Cl.Cl.c1ccc([C@@H]2C[C@H]2NC2CCNCC2)cc1            -2.565607  1.725014   \n",
       "O=C(c1ccc(/C=C/c2n[nH]c3ccccc23)cc1)N1CCNCC1       -2.787516  2.496357   \n",
       "...                                                      ...       ...   \n",
       "Cc1cc(CS(=O)(=O)c2ccccc2)cc(OCc2ccc(CN3CCC[C@@H... -2.760966  3.972898   \n",
       "CN(C)CCOc1ccc(/C(=C(\\CCCl)c2ccccc2)c2ccccc2)cc1     2.688151  0.213778   \n",
       "CC1(C)C=Cc2c(ccc3c2[N+]([O-])=C2C3=C[C@@]34NC(=... -1.832742  2.019709   \n",
       "C[C@@H]1CC(=O)NN=C1c1ccc(N)c([N+](=O)[O-])c1        1.130967  3.782147   \n",
       "Cl.[Li]                                            -1.440891 -0.128036   \n",
       "\n",
       "                                                    latent_9  latent_10  ...  \\\n",
       "C[C@H](NC(=O)/C(C#N)=C/c1cccc(Br)n1)c1ccccc1       -1.768996  -5.671151  ...   \n",
       "Cc1cc(Nc2cc(CN3CCOCC3)c3nc(C)c(Cc4ccc(Cl)cc4F)n...  1.082587  -9.432123  ...   \n",
       "Cc1cc(N2CCOCC2)cc2[nH]c(-c3c(NCC(O)c4cccc(Cl)c4... -4.065948  -6.316630  ...   \n",
       "Cl.Cl.c1ccc([C@@H]2C[C@H]2NC2CCNCC2)cc1            -3.196076   1.320138  ...   \n",
       "O=C(c1ccc(/C=C/c2n[nH]c3ccccc23)cc1)N1CCNCC1        6.775537   2.045950  ...   \n",
       "...                                                      ...        ...  ...   \n",
       "Cc1cc(CS(=O)(=O)c2ccccc2)cc(OCc2ccc(CN3CCC[C@@H...  0.451858   2.640987  ...   \n",
       "CN(C)CCOc1ccc(/C(=C(\\CCCl)c2ccccc2)c2ccccc2)cc1     1.863454   2.824382  ...   \n",
       "CC1(C)C=Cc2c(ccc3c2[N+]([O-])=C2C3=C[C@@]34NC(=...  2.333825  -2.484026  ...   \n",
       "C[C@@H]1CC(=O)NN=C1c1ccc(N)c([N+](=O)[O-])c1        0.415811   1.656704  ...   \n",
       "Cl.[Li]                                             2.819619  -0.624751  ...   \n",
       "\n",
       "                                                    latent_47  latent_48  \\\n",
       "C[C@H](NC(=O)/C(C#N)=C/c1cccc(Br)n1)c1ccccc1        -0.381136   0.114776   \n",
       "Cc1cc(Nc2cc(CN3CCOCC3)c3nc(C)c(Cc4ccc(Cl)cc4F)n...  -0.269714   0.135338   \n",
       "Cc1cc(N2CCOCC2)cc2[nH]c(-c3c(NCC(O)c4cccc(Cl)c4...  -0.285767   0.132375   \n",
       "Cl.Cl.c1ccc([C@@H]2C[C@H]2NC2CCNCC2)cc1             -0.243737   0.120570   \n",
       "O=C(c1ccc(/C=C/c2n[nH]c3ccccc23)cc1)N1CCNCC1        -0.299430   0.129854   \n",
       "...                                                       ...        ...   \n",
       "Cc1cc(CS(=O)(=O)c2ccccc2)cc(OCc2ccc(CN3CCC[C@@H...  -0.327352   0.124701   \n",
       "CN(C)CCOc1ccc(/C(=C(\\CCCl)c2ccccc2)c2ccccc2)cc1     -0.309993   0.127905   \n",
       "CC1(C)C=Cc2c(ccc3c2[N+]([O-])=C2C3=C[C@@]34NC(=...  -0.246827   0.139561   \n",
       "C[C@@H]1CC(=O)NN=C1c1ccc(N)c([N+](=O)[O-])c1        -0.306768   0.128500   \n",
       "Cl.[Li]                                             -0.284605   0.131614   \n",
       "\n",
       "                                                    latent_49  latent_50  \\\n",
       "C[C@H](NC(=O)/C(C#N)=C/c1cccc(Br)n1)c1ccccc1         0.461026  -0.232696   \n",
       "Cc1cc(Nc2cc(CN3CCOCC3)c3nc(C)c(Cc4ccc(Cl)cc4F)n...   0.240984  -0.346155   \n",
       "Cc1cc(N2CCOCC2)cc2[nH]c(-c3c(NCC(O)c4cccc(Cl)c4...   0.272686  -0.329809   \n",
       "Cl.Cl.c1ccc([C@@H]2C[C@H]2NC2CCNCC2)cc1              0.182537  -0.232914   \n",
       "O=C(c1ccc(/C=C/c2n[nH]c3ccccc23)cc1)N1CCNCC1         0.299669  -0.315896   \n",
       "...                                                       ...        ...   \n",
       "Cc1cc(CS(=O)(=O)c2ccccc2)cc(OCc2ccc(CN3CCC[C@@H...   0.354811  -0.287463   \n",
       "CN(C)CCOc1ccc(/C(=C(\\CCCl)c2ccccc2)c2ccccc2)cc1      0.320529  -0.305140   \n",
       "CC1(C)C=Cc2c(ccc3c2[N+]([O-])=C2C3=C[C@@]34NC(=...   0.195786  -0.369461   \n",
       "C[C@@H]1CC(=O)NN=C1c1ccc(N)c([N+](=O)[O-])c1         0.314160  -0.308424   \n",
       "Cl.[Li]                                              0.270461  -0.328737   \n",
       "\n",
       "                                                    latent_51  latent_52  \\\n",
       "C[C@H](NC(=O)/C(C#N)=C/c1cccc(Br)n1)c1ccccc1         0.149239   0.008222   \n",
       "Cc1cc(Nc2cc(CN3CCOCC3)c3nc(C)c(Cc4ccc(Cl)cc4F)n...   0.155523   0.214027   \n",
       "Cc1cc(N2CCOCC2)cc2[nH]c(-c3c(NCC(O)c4cccc(Cl)c4...   0.154618   0.184377   \n",
       "Cl.Cl.c1ccc([C@@H]2C[C@H]2NC2CCNCC2)cc1              0.121171   0.276718   \n",
       "O=C(c1ccc(/C=C/c2n[nH]c3ccccc23)cc1)N1CCNCC1         0.153847   0.159139   \n",
       "...                                                       ...        ...   \n",
       "Cc1cc(CS(=O)(=O)c2ccccc2)cc(OCc2ccc(CN3CCC[C@@H...   0.152272   0.107565   \n",
       "CN(C)CCOc1ccc(/C(=C(\\CCCl)c2ccccc2)c2ccccc2)cc1      0.153251   0.139629   \n",
       "CC1(C)C=Cc2c(ccc3c2[N+]([O-])=C2C3=C[C@@]34NC(=...   0.156814   0.256302   \n",
       "C[C@@H]1CC(=O)NN=C1c1ccc(N)c([N+](=O)[O-])c1         0.153433   0.145586   \n",
       "Cl.[Li]                                              0.153752   0.184429   \n",
       "\n",
       "                                                    latent_53  latent_54  \\\n",
       "C[C@H](NC(=O)/C(C#N)=C/c1cccc(Br)n1)c1ccccc1         0.064641   1.459532   \n",
       "Cc1cc(Nc2cc(CN3CCOCC3)c3nc(C)c(Cc4ccc(Cl)cc4F)n...  -0.142053   1.222742   \n",
       "Cc1cc(N2CCOCC2)cc2[nH]c(-c3c(NCC(O)c4cccc(Cl)c4...  -0.112274   1.256856   \n",
       "Cl.Cl.c1ccc([C@@H]2C[C@H]2NC2CCNCC2)cc1             -0.018734   1.226653   \n",
       "O=C(c1ccc(/C=C/c2n[nH]c3ccccc23)cc1)N1CCNCC1        -0.086928   1.285893   \n",
       "...                                                       ...        ...   \n",
       "Cc1cc(CS(=O)(=O)c2ccccc2)cc(OCc2ccc(CN3CCC[C@@H...  -0.035130   1.345232   \n",
       "CN(C)CCOc1ccc(/C(=C(\\CCCl)c2ccccc2)c2ccccc2)cc1     -0.067333   1.308341   \n",
       "CC1(C)C=Cc2c(ccc3c2[N+]([O-])=C2C3=C[C@@]34NC(=...  -0.184509   1.174103   \n",
       "C[C@@H]1CC(=O)NN=C1c1ccc(N)c([N+](=O)[O-])c1        -0.073316   1.301487   \n",
       "Cl.[Li]                                             -0.113154   1.253122   \n",
       "\n",
       "                                                    latent_55  latent_56  \n",
       "C[C@H](NC(=O)/C(C#N)=C/c1cccc(Br)n1)c1ccccc1        -0.240004   0.192129  \n",
       "Cc1cc(Nc2cc(CN3CCOCC3)c3nc(C)c(Cc4ccc(Cl)cc4F)n...  -0.241584   0.011364  \n",
       "Cc1cc(N2CCOCC2)cc2[nH]c(-c3c(NCC(O)c4cccc(Cl)c4...  -0.241356   0.037407  \n",
       "Cl.Cl.c1ccc([C@@H]2C[C@H]2NC2CCNCC2)cc1             -0.262646   0.031372  \n",
       "O=C(c1ccc(/C=C/c2n[nH]c3ccccc23)cc1)N1CCNCC1        -0.241162   0.059574  \n",
       "...                                                       ...        ...  \n",
       "Cc1cc(CS(=O)(=O)c2ccccc2)cc(OCc2ccc(CN3CCC[C@@H...  -0.240767   0.104873  \n",
       "CN(C)CCOc1ccc(/C(=C(\\CCCl)c2ccccc2)c2ccccc2)cc1     -0.241013   0.076711  \n",
       "CC1(C)C=Cc2c(ccc3c2[N+]([O-])=C2C3=C[C@@]34NC(=...  -0.241908  -0.025767  \n",
       "C[C@@H]1CC(=O)NN=C1c1ccc(N)c([N+](=O)[O-])c1        -0.241058   0.071478  \n",
       "Cl.[Li]                                             -0.241295   0.036289  \n",
       "\n",
       "[17869 rows x 56 columns]"
      ]
     },
     "execution_count": 11,
     "metadata": {},
     "output_type": "execute_result"
    }
   ],
   "source": [
    "final_df"
   ]
  },
  {
   "cell_type": "code",
   "execution_count": 12,
   "metadata": {
    "pycharm": {
     "is_executing": true,
     "name": "#%%\n"
    }
   },
   "outputs": [],
   "source": [
    "smiles = pd.read_csv(\"../lincs_trapnell.smiles\")\n",
    "smiles2 = final_df.index"
   ]
  },
  {
   "cell_type": "code",
   "execution_count": 13,
   "metadata": {
    "pycharm": {
     "is_executing": true,
     "name": "#%%\n"
    }
   },
   "outputs": [
    {
     "data": {
      "text/plain": [
       "True"
      ]
     },
     "execution_count": 13,
     "metadata": {},
     "output_type": "execute_result"
    }
   ],
   "source": [
    "set(list(smiles[\"smiles\"])) == set(list(smiles2))"
   ]
  }
 ],
 "metadata": {
  "kernelspec": {
   "display_name": "Python 3 (ipykernel)",
   "language": "python",
   "name": "python3"
  },
  "language_info": {
   "codemirror_mode": {
    "name": "ipython",
    "version": 3
   },
   "file_extension": ".py",
   "mimetype": "text/x-python",
   "name": "python",
   "nbconvert_exporter": "python",
   "pygments_lexer": "ipython3",
   "version": "3.7.12"
  }
 },
 "nbformat": 4,
 "nbformat_minor": 1
}
